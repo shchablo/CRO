{
 "cells": [
  {
   "cell_type": "markdown",
   "metadata": {},
   "source": [
    "# ROOT CERN CMS TCanvas Style\n",
    "based on FigGuidelines (2018-05-10, CarlosLourenco: https://twiki.cern.ch/twiki/bin/view/CMS/Internal/FigGuidelines#Example_ROOT_macro_python)\n",
    "\n",
    "================================================================================\n",
    "\n",
    "Author:  Shchablo Konstantin, IPNL Lyon, shchablo@gmail.com (Date: 16.12.2019)"
   ]
  },
  {
   "cell_type": "markdown",
   "metadata": {},
   "source": [
    "### Imports"
   ]
  },
  {
   "cell_type": "code",
   "execution_count": 1,
   "metadata": {},
   "outputs": [
    {
     "name": "stdout",
     "output_type": "stream",
     "text": [
      "Welcome to JupyROOT 6.14/04\n"
     ]
    },
    {
     "name": "stderr",
     "output_type": "stream",
     "text": [
      "/usr/local/lib/python3.5/dist-packages/root_numpy/__init__.py:46: RuntimeWarning: numpy 1.15.4 is currently installed but you installed root_numpy against numpy 1.15.2. Please consider reinstalling root_numpy for this numpy version.\n",
      "  RuntimeWarning)\n"
     ]
    },
    {
     "data": {
      "text/plain": [
       "0"
      ]
     },
     "execution_count": 1,
     "metadata": {},
     "output_type": "execute_result"
    }
   ],
   "source": [
    "import numpy as np\n",
    "import ROOT\n",
    "from ROOT import gROOT\n",
    "from ROOT import gStyle\n",
    "from ROOT import TArrayD\n",
    "from root_numpy import array\n",
    "%jsroot on\n",
    "\n",
    "gROOT.LoadMacro(\"../style/CMS/tdrstyle.C\")\n",
    "gROOT.ProcessLine(\"setTDRStyle();\")\n",
    "\n",
    "gROOT.LoadMacro(\"../style/CMS/CMS_lumi.C\")"
   ]
  },
  {
   "cell_type": "markdown",
   "metadata": {},
   "source": [
    "### PARAMETERS "
   ]
  },
  {
   "cell_type": "code",
   "execution_count": 2,
   "metadata": {},
   "outputs": [
    {
     "data": {
      "text/plain": [
       "140207601483920"
      ]
     },
     "execution_count": 2,
     "metadata": {},
     "output_type": "execute_result"
    }
   ],
   "source": [
    "gStyle.SetOptFit(0); iPeriod = \"0\"; gROOT.ProcessLine(\"writeExtraText = true;\"); \n",
    "gROOT.ProcessLine(\"drawLogo  = false;\"); gROOT.ProcessLine(\"lumi_sqrtS = \\\"\\\";\");\n",
    "#---\n",
    "legendSpace = 1.3\n",
    "xmaxOffset = 0.2\n",
    "#---\n",
    "#iPos=\"0\" # out of frame (in exceptional cases)\n",
    "iPos=\"11\" # top-left, left-aligned\n",
    "#iPos=\"33\" # top-right, right-aligned\n",
    "#iPos=\"22\" # center, centered\n",
    "#---\n",
    "\n",
    "Imin = 50; Imax = 360\n",
    "pathToSave = \"/mnt/d/projects/JuMP/\"\n",
    "cName = \"FEBv1i1b_1711\"; cTitle = \"\"; cX = 800; cY = 600;\n",
    "#---\n",
    "#inFile0 = \"lyDome/drawCBefficiency.root\";\n",
    "inFile0 = \"../data/1711/drawANDefficiency.root\"; \n",
    "inFile1 = \"../data/1711/drawHRefficiency.root\";\n",
    "inFile2 = \"../data/1711/drawLRefficiency.root\"; \n",
    "\n",
    "inFile3 = \"../data/1711/drawCBclusterSize.root\";\n",
    "inFile4 = \"../data/1711/drawANDmultiplicity.root\"; \n",
    "inFile5 = \"../data/1711/drawHRmultiplicity.root\";\n",
    "inFile6 = \"../data/1711/drawLRmultiplicity.root\";\n",
    "#---\n",
    "gROOT.ProcessLine(\"cmsText = \\\"GIF++: FEBv1.1B48R  \\\";\")\n",
    "gROOT.ProcessLine(\"extraText  = \\\"HRpos THR=10#pm10fC gamma rate \\\";\") # default extra text is \"Preliminary\"\n",
    "#---\n",
    "\n",
    "#PUBLISH\n",
    "#---\n",
    "iPos=\"0\"; iPeriod = \"0\"; \n",
    "gROOT.ProcessLine(\"writeExtraText = true;\")\n",
    "gROOT.ProcessLine(\"cmsText = \\\"CMS \\\";\")\n",
    "gROOT.ProcessLine(\"extraText  = \\\"    Preliminary \\\";\")\n",
    "gROOT.ProcessLine(\"lumi_sqrtS = \\\"GIF++               \\\";\")\n",
    "#---\n"
   ]
  },
  {
   "cell_type": "code",
   "execution_count": 3,
   "metadata": {},
   "outputs": [],
   "source": [
    "#AND\n",
    "inputFile0 = ROOT.TFile(inFile0)\n",
    "#obj0 = inputFile0.gr_0_middle_CBefficiency; obj0.SetTitle(\"\")\n",
    "obj0 = inputFile0.gr_0_ANDefficiency; obj0.SetTitle(\"\")\n",
    "obj0.SetMarkerColor(1); obj0.SetMarkerStyle(33); obj0.SetMarkerSize(1); obj0.SetLineStyle(1); \n",
    "obj0.SetLineColor(1); obj0.GetXaxis().SetTitle(\"\"); obj0.GetYaxis().SetTitle(\"\")\n",
    "axisX = array(ROOT.TArrayD(obj0.GetN(), obj0.GetX()))\n",
    "HVmin =  np.amin(axisX) - xmaxOffset; HVmax_1 =  np.amax(axisX) + xmaxOffset; HVmedian = np.median(axisX);\n",
    "obj0.GetXaxis().SetLimits(0, HVmax_1);\n",
    "obj0.GetYaxis().SetLimits(0, 1);\n",
    "#HR\n",
    "inputFile1 = ROOT.TFile(inFile1)\n",
    "obj1 = inputFile1.gr_0_HRefficiency; obj1.SetTitle(\"\")\n",
    "obj1.SetMarkerColor(2); obj1.SetMarkerStyle(22); obj1.SetMarkerSize(1); obj1.SetLineStyle(1); \n",
    "obj1.SetLineColor(2); obj1.GetXaxis().SetTitle(\"\"); obj1.GetYaxis().SetTitle(\"\")\n",
    "obj1.GetXaxis().SetLimits(0, HVmax_1);\n",
    "obj1.GetYaxis().SetLimits(0, 1); \n",
    "#LR\n",
    "inputFile2 = ROOT.TFile(inFile2)\n",
    "obj2 = inputFile2.gr_0_LRefficiency; obj2.SetTitle(\"\") \n",
    "obj2.SetMarkerColor(4); obj2.SetMarkerStyle(23); obj2.SetMarkerSize(1); obj2.SetLineStyle(1); \n",
    "obj2.SetLineColor(4); obj2.GetXaxis().SetTitle(\"\"); obj2.GetYaxis().SetTitle(\"\")\n",
    "obj2.GetXaxis().SetLimits(0, HVmax_1);\n",
    "obj2.GetYaxis().SetLimits(0, 1); \n",
    "\n",
    "inputFile3 = ROOT.TFile(inFile3)\n",
    "obj3 = inputFile3.gr_0_middle_CBclusterSize; obj3.SetTitle(\"\")\n",
    "obj3.SetMarkerColor(1); obj3.SetMarkerStyle(20); obj3.SetMarkerSize(1);\n",
    "obj3.SetLineColor(1); obj3.GetXaxis().SetTitle(\"\"); obj3.GetYaxis().SetTitle(\"\")\n",
    "obj3.GetXaxis().SetLimits(0, HVmax_1);\n",
    "\n",
    "inputFile4 = ROOT.TFile(inFile4)\n",
    "obj4 = inputFile4.gr_0_ANDmultiplicity; obj3.SetTitle(\"\")\n",
    "obj4.SetMarkerColor(1); obj4.SetMarkerStyle(21); obj4.SetMarkerSize(1);\n",
    "obj4.SetLineColor(1); obj4.GetXaxis().SetTitle(\"\"); obj4.GetYaxis().SetTitle(\"\")\n",
    "obj4.GetXaxis().SetLimits(0, HVmax_1);\n",
    "\n",
    "inputFile5 = ROOT.TFile(inFile5)\n",
    "obj5 = inputFile5.gr_0_HRmultiplicity; obj5.SetTitle(\"\")\n",
    "obj5.SetMarkerColor(2); obj5.SetMarkerStyle(32); obj5.SetMarkerSize(1);\n",
    "obj5.SetLineColor(2); obj5.GetXaxis().SetTitle(\"\"); obj5.GetYaxis().SetTitle(\"\")\n",
    "obj5.GetXaxis().SetLimits(0, HVmax_1);\n",
    "\n",
    "inputFile6 = ROOT.TFile(inFile6)\n",
    "obj6 = inputFile6.gr_0_LRmultiplicity; obj6.SetTitle(\"\")\n",
    "obj6.SetMarkerColor(4); obj6.SetMarkerStyle(26); obj6.SetMarkerSize(1);\n",
    "obj6.SetLineColor(4); obj6.GetXaxis().SetTitle(\"\"); obj6.GetYaxis().SetTitle(\"\")\n",
    "obj6.GetXaxis().SetLimits(0, HVmax_1);"
   ]
  },
  {
   "cell_type": "code",
   "execution_count": 4,
   "metadata": {},
   "outputs": [
    {
     "name": "stdout",
     "output_type": "stream",
     "text": [
      " FCN=5.21609 FROM MIGRAD    STATUS=CONVERGED      99 CALLS         100 TOTAL\n",
      "                     EDM=1.25431e-06    STRATEGY= 1      ERROR MATRIX ACCURATE \n",
      "  EXT PARAMETER                                   STEP         FIRST   \n",
      "  NO.   NAME      VALUE            ERROR          SIZE      DERIVATIVE \n",
      "   1  #epsilon_{max}   9.81476e-01   4.51682e-03   4.97177e-06  -2.32268e-01\n",
      "   2  #lambda      1.12784e+01   4.50495e-01   5.17736e-04   1.70462e-03\n",
      "   3  HV_{50%}     6.93032e+00   5.16723e-03   8.83966e-06   1.27168e-01\n"
     ]
    }
   ],
   "source": [
    "s_obj0 = ROOT.TF1(\"sigmoid\",\"[0]/(1+exp([1]*([2]-x)))\",HVmin, HVmax_1);\n",
    "s_obj0.SetLineColor(obj0.GetLineColor());\n",
    "s_obj0.SetLineStyle(obj0.GetLineStyle());\n",
    "s_obj0.SetParName(0,\"#epsilon_{max}\");\n",
    "s_obj0.SetParName(1,\"#lambda\");\n",
    "s_obj0.SetParName(2,\"HV_{50%}\");\n",
    "s_obj0.SetParameter(0, 0.90);\n",
    "s_obj0.SetParameter(1, 5);\n",
    "s_obj0.SetParameter(2, HVmedian);\n",
    "s_obj0.SetParLimits(2,HVmin, HVmax_1);\n",
    "resFit0 = obj0.Fit(s_obj0, \"S\");\n",
    "p1 = s_obj0.GetParameter(0);\n",
    "p2 = s_obj0.GetParameter(1);\n",
    "p3 = s_obj0.GetParameter(2);\n",
    "knee = p3 - np.log(1/0.95-1)/p2; WP = knee+0.15; WP_ = np.log(19)/p2 + p3 + 0.15\n",
    "knee2 = p3 - np.log(1/0.01-1)/p2; zero = knee2;\n",
    "ep2 = s_obj0.GetParError(1);\n",
    "ep3 = s_obj0.GetParError(2);"
   ]
  },
  {
   "cell_type": "code",
   "execution_count": 5,
   "metadata": {},
   "outputs": [
    {
     "name": "stdout",
     "output_type": "stream",
     "text": [
      " FCN=4.78213 FROM MIGRAD    STATUS=CONVERGED     112 CALLS         113 TOTAL\n",
      "                     EDM=2.36083e-09    STRATEGY= 1      ERROR MATRIX ACCURATE \n",
      "  EXT PARAMETER                                   STEP         FIRST   \n",
      "  NO.   NAME      VALUE            ERROR          SIZE      DERIVATIVE \n",
      "   1  #epsilon_{max}   9.86289e-01   3.68629e-03   3.89433e-06  -1.45248e-02\n",
      "   2  #lambda      1.23607e+01   4.79056e-01   5.19286e-04  -1.31173e-04\n",
      "   3  HV_{50%}     6.84138e+00   5.56066e-03   9.51101e-06   5.04671e-03\n"
     ]
    }
   ],
   "source": [
    "s_obj1 = ROOT.TF1(\"sigmoid1\",\"[0]/(1+exp([1]*([2]-x)))\",HVmin, HVmax_1);\n",
    "s_obj1.SetLineColor(obj1.GetLineColor());\n",
    "s_obj1.SetLineStyle(obj1.GetLineStyle());\n",
    "s_obj1.SetParName(0,\"#epsilon_{max}\");\n",
    "s_obj1.SetParName(1,\"#lambda\");\n",
    "s_obj1.SetParName(2,\"HV_{50%}\");\n",
    "s_obj1.SetParameter(0, 0.90);\n",
    "s_obj1.SetParameter(1, 5);\n",
    "s_obj1.SetParameter(2, HVmedian);\n",
    "s_obj1.SetParLimits(2,HVmin, HVmax_1);\n",
    "resFit1 = obj1.Fit(s_obj1, \"S\");\n",
    "p1_1 = s_obj1.GetParameter(0);\n",
    "p2_1 = s_obj1.GetParameter(1);\n",
    "p3_1 = s_obj1.GetParameter(2);\n",
    "knee = p3_1 - np.log(1/0.95-1)/p2_1; WP1 = knee+0.15; WP1_ = np.log(19)/p2_1 + p3_1 + 0.15 \n",
    "knee2 = p3_1 - np.log(1/0.01-1)/p2_1; zero = knee2;"
   ]
  },
  {
   "cell_type": "code",
   "execution_count": 6,
   "metadata": {},
   "outputs": [
    {
     "name": "stdout",
     "output_type": "stream",
     "text": [
      " FCN=4.32906 FROM MIGRAD    STATUS=CONVERGED     110 CALLS         111 TOTAL\n",
      "                     EDM=5.1093e-09    STRATEGY= 1      ERROR MATRIX ACCURATE \n",
      "  EXT PARAMETER                                   STEP         FIRST   \n",
      "  NO.   NAME      VALUE            ERROR          SIZE      DERIVATIVE \n",
      "   1  #epsilon_{max}   9.83338e-01   4.38542e-03   4.46212e-06  -2.89110e-03\n",
      "   2  #lambda      1.11399e+01   4.41413e-01   4.68577e-04   2.01978e-04\n",
      "   3  HV_{50%}     6.92793e+00   5.19465e-03   8.24337e-06  -4.16182e-03\n"
     ]
    }
   ],
   "source": [
    "s_obj2 = ROOT.TF1(\"sigmoid2\",\"[0]/(1+exp([1]*([2]-x)))\",HVmin, HVmax_1);\n",
    "s_obj2.SetLineColor(obj2.GetLineColor());\n",
    "s_obj2.SetLineStyle(obj2.GetLineStyle());\n",
    "s_obj2.SetParName(0,\"#epsilon_{max}\");\n",
    "s_obj2.SetParName(1,\"#lambda\");\n",
    "s_obj2.SetParName(2,\"HV_{50%}\");\n",
    "s_obj2.SetParameter(0, 0.90);\n",
    "s_obj2.SetParameter(1, 5);\n",
    "s_obj2.SetParameter(2, HVmedian);\n",
    "s_obj2.SetParLimits(2,HVmin, HVmax_1);\n",
    "resFit2 = obj2.Fit(s_obj2, \"S\");\n",
    "p1_2 = s_obj2.GetParameter(0);\n",
    "p2_2 = s_obj2.GetParameter(1);\n",
    "p3_2 = s_obj2.GetParameter(2);\n",
    "knee = p3_2 - np.log(1/0.95-1)/p2_2; WP2 = knee+0.15; WP2_ = np.log(19)/p2_2 + p3_2 + 0.15 \n",
    "knee2 = p3_2 - np.log(1/0.01-1)/p2_2; zero = knee2;"
   ]
  },
  {
   "cell_type": "code",
   "execution_count": 7,
   "metadata": {},
   "outputs": [],
   "source": [
    "%%cpp -d\n",
    "double getERR(TFitResultPtr r, double WP)\n",
    "{\n",
    "\n",
    "double x[1] = { WP };\n",
    "double err[1];  // error on the function at point x0\n",
    "\n",
    "r->GetConfidenceIntervals(1, 1, 1, x, err, 0.683, false);\n",
    "cout << \" function value at \" << x[0] << \" => \" << \" +/- \" << err[0] << endl;\n",
    "return err[0];    \n",
    "}"
   ]
  },
  {
   "cell_type": "code",
   "execution_count": 8,
   "metadata": {},
   "outputs": [],
   "source": [
    "lWP = ROOT.TLine(WP, 0., WP, 1);\n",
    "lWP.SetLineStyle(2);\n",
    "if(p1 > 1): p1 = 1\n",
    "plateau = ROOT.TLine(zero-legendSpace, p1, HVmax_1, p1);\n",
    "plateau.SetLineStyle(2);\n",
    "\n",
    "plateau1 = ROOT.TLine(zero-legendSpace, p1, zero-legendSpace + 0.1, p1);\n",
    "plateau1.SetLineStyle(2);\n",
    "plateau2 = ROOT.TLine(HVmax_1 - 1, p1, HVmax_1, p1);\n",
    "plateau2.SetLineStyle(2);"
   ]
  },
  {
   "cell_type": "code",
   "execution_count": 9,
   "metadata": {},
   "outputs": [
    {
     "name": "stdout",
     "output_type": "stream",
     "text": [
      " function value at 7.34139 =>  +/- 0.00412372\n",
      " function value at 7.22959 =>  +/- 0.0033386\n",
      " function value at 7.34224 =>  +/- 0.00399393\n",
      " function value at 7.6 =>  +/- 0.00446397\n",
      " function value at 7.6 =>  +/- 0.00367937\n",
      " function value at 7.6 =>  +/- 0.00432867\n"
     ]
    },
    {
     "name": "stderr",
     "output_type": "stream",
     "text": [
      "Info in <TCanvas::MakeDefCanvas>:  created default TCanvas with name c1\n"
     ]
    }
   ],
   "source": [
    "mg = ROOT.TMultiGraph();\n",
    "mg.GetXaxis().SetTitle(\"\"); mg.GetYaxis().SetTitle(\"\")\n",
    "\n",
    "mg.GetXaxis().SetLimits(zero-legendSpace, HVmax_1); mg.GetYaxis().SetLimits(0, 1);  \n",
    "\n",
    "#mg.Draw(\"AP\");\n",
    "mg.Add(obj0); \n",
    "mg.Add(obj1); \n",
    "mg.Add(obj2); \n",
    "obj0.GetXaxis().SetRangeUser(zero - legendSpace, HVmax_1);\n",
    "obj0.GetYaxis().SetRangeUser(0, 1); \n",
    "\n",
    "mg.GetYaxis().SetRangeUser(0, 1);\n",
    "mg.GetYaxis().SetTitleOffset(1);\n",
    "mg.GetYaxis().SetTitleSize(0.055);\n",
    "mg.GetYaxis().SetLabelSize(0.055);\n",
    "mg.GetYaxis().CenterTitle();\n",
    "\n",
    "\n",
    "mg.GetXaxis().SetRangeUser(zero - legendSpace, HVmax_1);\n",
    "mg.GetXaxis().SetTitleOffset(1);\n",
    "mg.GetXaxis().SetTitleSize(0.055);\n",
    "mg.GetXaxis().SetLabelSize(0.055);\n",
    "mg.Draw(\"AP\");\n",
    "\n",
    "ltx = ROOT.TLatex();\n",
    "ltx.SetTextSize(0.04);\n",
    "\n",
    "err_0 = ROOT.Double()\n",
    "x_0 = ROOT.Double(WP) \n",
    "err_0 = ROOT.getERR(resFit0, x_0)\n",
    "\n",
    "err_1 = ROOT.Double()\n",
    "x_1 = ROOT.Double(WP1) \n",
    "err_1 = ROOT.getERR(resFit1, x_1)\n",
    "\n",
    "err_2 = ROOT.Double()\n",
    "x_2 = ROOT.Double(WP2) \n",
    "err_2 = ROOT.getERR(resFit2, x_2)\n",
    "\n",
    "errP_0 = ROOT.Double()\n",
    "xP_0 = ROOT.Double(np.amax(axisX)) \n",
    "errP_0 = ROOT.getERR(resFit0, xP_0)\n",
    "\n",
    "errP_1 = ROOT.Double()\n",
    "xP_1 = ROOT.Double(np.amax(axisX)) \n",
    "errP_1 = ROOT.getERR(resFit1, xP_1)\n",
    "\n",
    "errP_2 = ROOT.Double()\n",
    "xP_2 = ROOT.Double(np.amax(axisX)) \n",
    "errP_2 = ROOT.getERR(resFit2, xP_2)\n",
    "\n",
    "sEFF1 = ' WP_{eff} = %.3f#pm%.3f' % (s_obj0.Eval(WP), err_0);\n",
    "sEFF1p = ' plateau_{eff} = %.3f#pm%.3f' % (s_obj0.Eval(np.amax(axisX)), errP_0);\n",
    "\n",
    "sEFF2 = ' WP_{eff} = %.3f#pm%.3f' % (s_obj1.Eval(WP1), err_1);\n",
    "sEFF2p = ' plateau_{eff} = %.3f#pm%.3f' % (s_obj1.Eval(np.amax(axisX)), errP_1);\n",
    "\n",
    "sEFF3 = ' WP_{eff} = %.3f#pm%.3f' % (s_obj2.Eval(WP2), err_2);\n",
    "sEFF3p = ' plateau_{eff} = %.3f#pm%.3f' % (s_obj2.Eval(np.amax(axisX)), errP_2);\n",
    "\n",
    "sWP1 = 'AND (HR&LR): WP = %.2f#pm 0.07 (kV) ' % (WP);\n",
    "sWP2 = 'High Radius (HR): WP = %.2f#pm 0.07 (kV) ' % (WP1);\n",
    "sWP3 = 'Low Radius (LR): WP = %.2f#pm 0.07 (kV) ' % (WP2);\n",
    "\n",
    "legend = ROOT.TLegend(0.2, 0.25, 0.6, 0.9);\n",
    "legend.SetHeader(\"PETIROC2B: ~70fC RATE: 1.9#pm0.25 #frac{kHz}{cm^{2}}\");\n",
    "legend.AddEntry(obj1, sWP2,\"lep\");\n",
    "legend.AddEntry(obj1, sEFF2, \"\"); legend.AddEntry(obj1, sEFF2p, \"\");\n",
    "legend.AddEntry(obj5,\"HR multiplicity\",\"ep\");\n",
    "legend.AddEntry(obj2, sWP3,\"lep\");\n",
    "legend.AddEntry(obj2, sEFF3, \"\"); legend.AddEntry(obj2, sEFF3p, \"\");\n",
    "legend.AddEntry(obj6,\"LR multiplicity\",\"ep\");\n",
    "legend.AddEntry(obj0, sWP1,\"lep\");\n",
    "legend.AddEntry(obj0, sEFF1, \"\"); legend.AddEntry(obj0, sEFF1p, \"\");\n",
    "legend.AddEntry(obj4,\"AND multiplicity\",\"ep\");\n",
    "legend.AddEntry(lWP,\"AND Working Point (WP)\",\"l\");\n",
    "legend.AddEntry(obj3,\"Cluster Size\",\"lep\");\n",
    "legend.AddEntry(obj4,\"Number of Cluster\",\"lep\");\n",
    "\n",
    "legend.SetFillStyle(0);\n",
    "legend.SetBorderSize(0);\n",
    "legend.SetFillColor(10);\n",
    "legend.SetLineColor(0);\n",
    "legend.SetLineWidth(0);\n",
    "legend.Draw();\n",
    "\n",
    "t1 = ROOT.TLatex(5.5, 14, \"1.4mm improved RPC FEBv1.1B48R\");\n",
    "t1.SetTextAlign(11); t1.SetTextFont(43); t1.SetTextSize(16);\n",
    "\n",
    "mg.GetHistogram().GetXaxis().SetLabelSize(0);\n",
    "mg.GetHistogram().GetXaxis().SetTickLength(0);\n",
    "mg.GetHistogram().GetYaxis().SetLabelSize(0);\n",
    "mg.GetHistogram().GetYaxis().SetTickLength(0);"
   ]
  },
  {
   "cell_type": "code",
   "execution_count": 10,
   "metadata": {},
   "outputs": [],
   "source": [
    "mg2 = ROOT.TMultiGraph();\n",
    "#mg2.Add(obj3); \n",
    "mg2.Add(obj4); \n",
    "mg2.Add(obj5);\n",
    "mg2.Add(obj6);\n",
    "\n",
    "mg2.GetHistogram().GetXaxis().SetLabelSize(0);\n",
    "mg2.GetHistogram().GetXaxis().SetTickLength(0);\n",
    "mg2.GetHistogram().GetYaxis().SetLabelSize(0);\n",
    "mg2.GetHistogram().GetYaxis().SetTickLength(0);\n",
    "\n",
    "mg2.GetYaxis().SetLimits(1, 15);  \n",
    "mg2.GetYaxis().SetRangeUser(1, 15);\n",
    "\n",
    "mg2.GetXaxis().SetLimits(zero-legendSpace, HVmax_1);\n",
    "mg2.GetXaxis().SetRangeUser(zero - legendSpace, HVmax_1);"
   ]
  },
  {
   "cell_type": "code",
   "execution_count": 11,
   "metadata": {
    "scrolled": false
   },
   "outputs": [
    {
     "name": "stdout",
     "output_type": "stream",
     "text": [
      "5.215438600458989\n",
      "7.8\n",
      "0.0\n",
      "1.0\n",
      "5.215438600458989\n",
      "7.8\n",
      "1.0\n",
      "15.0\n",
      "GIF++               \n"
     ]
    },
    {
     "name": "stderr",
     "output_type": "stream",
     "text": [
      "Info in <TCanvas::SaveAs>: ROOT file /mnt/d/projects/JuMP/FEBv1i1b_1711.root has been created\n",
      "Info in <TCanvas::Print>: SVG file /mnt/d/projects/JuMP/FEBv1i1b_1711.svg has been created\n",
      "Info in <TCanvas::Print>: png file /mnt/d/projects/JuMP/FEBv1i1b_1711.png has been created\n",
      "Info in <TCanvas::Print>: pdf file /mnt/d/projects/JuMP/FEBv1i1b_1711.pdf has been created\n"
     ]
    },
    {
     "data": {
      "text/html": [
       "\n",
       "<div id=\"root_plot_1\"\n",
       "     style=\"width: 696px; height: 472px\">\n",
       "</div>\n",
       "\n",
       "<script>\n",
       " requirejs.config({\n",
       "     paths: {\n",
       "       'JSRootCore' : 'https://root.cern.ch/js/notebook//scripts/JSRootCore',\n",
       "     }\n",
       "   });\n",
       " require(['JSRootCore'],\n",
       "     function(Core) {\n",
       "       var obj = Core.JSONR_unref({\"_typename\":\"TCanvas\",\"fUniqueID\":0,\"fBits\":53673992,\"fLineColor\":1,\"fLineStyle\":1,\"fLineWidth\":1,\"fFillColor\":0,\"fFillStyle\":1001,\"fLeftMargin\":0.16,\"fRightMargin\":0.02,\"fBottomMargin\":0.13,\"fTopMargin\":0.05,\"fXfile\":2,\"fYfile\":2,\"fAfile\":1,\"fXstat\":0.99,\"fYstat\":0.99,\"fAstat\":2,\"fFrameFillColor\":0,\"fFrameLineColor\":1,\"fFrameFillStyle\":0,\"fFrameLineStyle\":1,\"fFrameLineWidth\":1,\"fFrameBorderSize\":1,\"fFrameBorderMode\":0,\"fX1\":0,\"fY1\":0,\"fX2\":1,\"fY2\":1,\"fXtoAbsPixelk\":5e-5,\"fXtoPixelk\":5e-5,\"fXtoPixel\":696,\"fYtoAbsPixelk\":472.00005,\"fYtoPixelk\":472.00005,\"fYtoPixel\":-472,\"fUtoAbsPixelk\":5e-5,\"fUtoPixelk\":5e-5,\"fUtoPixel\":696,\"fVtoAbsPixelk\":472.00005,\"fVtoPixelk\":472,\"fVtoPixel\":-472,\"fAbsPixeltoXk\":0,\"fPixeltoXk\":0,\"fPixeltoX\":0.0014367816091954,\"fAbsPixeltoYk\":1,\"fPixeltoYk\":0,\"fPixeltoY\":-0.00211864406779661,\"fXlowNDC\":0,\"fYlowNDC\":0,\"fXUpNDC\":0,\"fYUpNDC\":0,\"fWNDC\":1,\"fHNDC\":1,\"fAbsXlowNDC\":0,\"fAbsYlowNDC\":0,\"fAbsWNDC\":1,\"fAbsHNDC\":1,\"fUxmin\":0,\"fUymin\":0,\"fUxmax\":1,\"fUymax\":1,\"fTheta\":30,\"fPhi\":30,\"fAspectRatio\":0,\"fNumber\":0,\"fTickx\":1,\"fTicky\":1,\"fLogx\":0,\"fLogy\":0,\"fLogz\":0,\"fPadPaint\":0,\"fCrosshair\":0,\"fCrosshairPos\":0,\"fBorderSize\":2,\"fBorderMode\":0,\"fModified\":false,\"fGridx\":false,\"fGridy\":false,\"fAbsCoord\":false,\"fEditable\":true,\"fFixedAspectRatio\":false,\"fPrimitives\":{\"_typename\":\"TList\",\"name\":\"TList\",\"arr\":[{\"_typename\":\"TPad\",\"fUniqueID\":0,\"fBits\":50331657,\"fLineColor\":1,\"fLineStyle\":1,\"fLineWidth\":1,\"fFillColor\":0,\"fFillStyle\":1001,\"fLeftMargin\":0.16,\"fRightMargin\":0.1,\"fBottomMargin\":0.2,\"fTopMargin\":0.05,\"fXfile\":2,\"fYfile\":2,\"fAfile\":1,\"fXstat\":0.99,\"fYstat\":0.99,\"fAstat\":2,\"fFrameFillColor\":0,\"fFrameLineColor\":1,\"fFrameFillStyle\":0,\"fFrameLineStyle\":1,\"fFrameLineWidth\":1,\"fFrameBorderSize\":1,\"fFrameBorderMode\":0,\"fX1\":4.65661453376427,\"fY1\":-0.26666667064031,\"fX2\":8.14926505469533,\"fY2\":1.06666666766008,\"fXtoAbsPixelk\":-927.949567654835,\"fXtoPixelk\":-927.949567654835,\"fXtoPixel\":199.275591940548,\"fYtoAbsPixelk\":377.600048944998,\"fYtoPixelk\":377.600048944998,\"fYtoPixel\":-353.999998681247,\"fUtoAbsPixelk\":5e-5,\"fUtoPixelk\":5e-5,\"fUtoPixel\":696,\"fVtoAbsPixelk\":472.00005,\"fVtoPixelk\":472,\"fVtoPixel\":-472,\"fAbsPixeltoXk\":4.65661453376427,\"fPixeltoXk\":4.65661453376427,\"fPixeltoX\":0.00501817603582049,\"fAbsPixeltoYk\":1.06666666766008,\"fPixeltoYk\":-0.26666667064031,\"fPixeltoY\":-0.00282485876758557,\"fXlowNDC\":0,\"fYlowNDC\":0,\"fXUpNDC\":0,\"fYUpNDC\":0,\"fWNDC\":1,\"fHNDC\":1,\"fAbsXlowNDC\":0,\"fAbsYlowNDC\":0,\"fAbsWNDC\":1,\"fAbsHNDC\":1,\"fUxmin\":5.21543860045899,\"fUymin\":0,\"fUxmax\":7.8,\"fUymax\":1,\"fTheta\":30,\"fPhi\":30,\"fAspectRatio\":0,\"fNumber\":0,\"fTickx\":1,\"fTicky\":1,\"fLogx\":0,\"fLogy\":0,\"fLogz\":0,\"fPadPaint\":0,\"fCrosshair\":0,\"fCrosshairPos\":0,\"fBorderSize\":2,\"fBorderMode\":0,\"fModified\":false,\"fGridx\":false,\"fGridy\":false,\"fAbsCoord\":false,\"fEditable\":true,\"fFixedAspectRatio\":false,\"fPrimitives\":{\"_typename\":\"TList\",\"name\":\"TList\",\"arr\":[{\"_typename\":\"TFrame\",\"fUniqueID\":0,\"fBits\":50331656,\"fLineColor\":1,\"fLineStyle\":1,\"fLineWidth\":1,\"fFillColor\":0,\"fFillStyle\":0,\"fX1\":5.21543860045899,\"fY1\":0,\"fX2\":7.8,\"fY2\":1,\"fBorderSize\":1,\"fBorderMode\":0},{\"_typename\":\"TMultiGraph\",\"fUniqueID\":0,\"fBits\":50331656,\"fName\":\"\",\"fTitle\":\"\",\"fGraphs\":{\"_typename\":\"TList\",\"name\":\"TList\",\"arr\":[{\"_typename\":\"TGraphAsymmErrors\",\"fUniqueID\":0,\"fBits\":50332680,\"fName\":\"gr_0_ANDefficiency\",\"fTitle\":\"\",\"fLineColor\":1,\"fLineStyle\":1,\"fLineWidth\":1,\"fFillColor\":0,\"fFillStyle\":1000,\"fMarkerColor\":1,\"fMarkerStyle\":33,\"fMarkerSize\":1,\"fNpoints\":9,\"fX\":[6.6,6.7,6.9,7,7.1,7.2,7.4,7.5,7.6],\"fY\":[0.03,0.058,0.414,0.672,0.866,0.919839679358717,0.972,0.977911646586345,0.987975951903808],\"fFunctions\":{\"_typename\":\"TList\",\"name\":\"TList\",\"arr\":[{\"_typename\":\"TF1\",\"fUniqueID\":0,\"fBits\":50332680,\"fName\":\"sigmoid\",\"fTitle\":\"[0]\\/(1+exp([1]*([2]-x)))\",\"fLineColor\":1,\"fLineStyle\":1,\"fLineWidth\":1,\"fFillColor\":19,\"fFillStyle\":0,\"fMarkerColor\":1,\"fMarkerStyle\":20,\"fMarkerSize\":1,\"fXmin\":0,\"fXmax\":7.8,\"fNpar\":3,\"fNdim\":1,\"fNpx\":100,\"fType\":0,\"fNpfits\":9,\"fNDF\":6,\"fChisquare\":5.2160933143778,\"fMinimum\":-1111,\"fMaximum\":-1111,\"fParErrors\":[0.00451682219152116,0.450494966745686,0.00516722785536539],\"fParMin\":[0,0,6.4],\"fParMax\":[0,0,7.8],\"fSave\":[1.11222344567978e-34,2.68069146443274e-34,6.46102791250763e-34,1.55724305613204e-33,3.75328193703817e-33,9.04619561052165e-33,2.18032261888644e-32,5.25503419017233e-32,1.26657330895298e-31,3.05270696421381e-31,7.3576631873469e-31,1.77335093780881e-30,4.27414719667444e-30,1.03015899838827e-29,2.48289895768216e-29,5.98430654268344e-29,1.44234322085485e-28,3.47634926771831e-28,8.37872987263244e-28,2.01944939567656e-27,4.86729602659588e-27,1.17312029017588e-26,2.82746561479406e-26,6.81478435740304e-26,1.64250576894416e-25,3.95878293358494e-25,9.54149605533354e-25,2.29970040038295e-24,5.54275964780732e-24,1.33592117078579e-23,3.21984983646125e-23,7.76051251831099e-23,1.87044606443668e-22,4.50816678887091e-22,1.08656262175621e-21,2.61884350399867e-21,6.31196137352021e-21,1.52131489796847e-20,3.66668755054506e-20,8.83748500147866e-20,2.13001899056682e-19,5.13379190959442e-19,1.23735137985806e-18,2.98227599442686e-18,7.18790979806807e-18,1.73243681542936e-17,4.17553559208784e-17,1.00639153621723e-16,2.42561439564509e-16,5.8462387496577e-16,1.40906599084186e-15,3.39614417331724e-15,8.18541879579794e-15,1.97285737716951e-14,4.75499950308002e-14,1.14605447590587e-13,2.76223133334287e-13,6.6575560754811e-13,1.60461045978037e-12,3.86744730114352e-12,9.32135805042725e-12,2.24664253027815e-11,5.4148790674637e-11,1.30509927230352e-10,3.14556260473997e-10,7.58146472663184e-10,1.82729179441269e-9,4.40415594768861e-9,1.06149382375896e-8,2.55842241102906e-8,6.16633365731143e-8,1.48621543644449e-7,3.58208973159724e-7,8.63358209484778e-7,2.08087153791874e-6,5.01532125950559e-6,1.20878876106647e-5,2.91338350041278e-5,7.02157053321172e-5,1.69217484899291e-4,4.07750443240776e-4,9.82188542667898e-4,0.00236394403663959,0.00567831346090756,0.0135751685100805,0.032093020737672,0.0739413168315749,0.161098809656338,0.315299309864142,0.523001915478706,0.719709667476602,0.852786961616443,0.923646378024209,0.956625900959472,0.971010836779897,0.977106951207731,0.97965876556491,0.980721434181872,0.981163014196299,0.981346343236592,0.981422426877731,0,7.8],\"fNormalized\":false,\"fNormIntegral\":0,\"fFormula\":{\"_typename\":\"TFormula\",\"fUniqueID\":0,\"fBits\":50332672,\"fName\":\"sigmoid\",\"fTitle\":\"[0]\\/(1+exp([1]*([2]-x)))\",\"fClingParameters\":[0.981476386041804,11.2783801840863,6.93032451871741],\"fAllParametersSetted\":true,\"fParams\":[{\"$pair\":\"pair<TString,int,TFormulaParamOrder>\",\"first\":\"#epsilon_{max}\",\"second\":0},{\"$pair\":\"pair<TString,int,TFormulaParamOrder>\",\"first\":\"#lambda\",\"second\":1},{\"$pair\":\"pair<TString,int,TFormulaParamOrder>\",\"first\":\"HV_{50%}\",\"second\":2}],\"fFormula\":\"[#epsilon_{max}]\\/(1+exp([#lambda]*([HV_{50%}]-x)))\",\"fNdim\":1,\"fLinearParts\":[],\"fVectorized\":false},\"fParams\":null,\"fComposition_ptr\":null}],\"opt\":[\"\"]},\"fHistogram\":{\"_typename\":\"TH1F\",\"fUniqueID\":0,\"fBits\":50332168,\"fName\":\"gr_0_ANDefficiency\",\"fTitle\":\"\",\"fLineColor\":1,\"fLineStyle\":0,\"fLineWidth\":1,\"fFillColor\":0,\"fFillStyle\":1001,\"fMarkerColor\":1,\"fMarkerStyle\":20,\"fMarkerSize\":1,\"fNcells\":102,\"fXaxis\":{\"_typename\":\"TAxis\",\"fUniqueID\":0,\"fBits\":50333704,\"fName\":\"xaxis\",\"fTitle\":\"\",\"fNdivisions\":510,\"fAxisColor\":1,\"fLabelColor\":1,\"fLabelFont\":42,\"fLabelOffset\":0.005,\"fLabelSize\":0.035,\"fTickLength\":0.03,\"fTitleOffset\":1,\"fTitleSize\":0.035,\"fTitleColor\":1,\"fTitleFont\":42,\"fNbins\":100,\"fXmin\":0,\"fXmax\":7.8,\"fXbins\":[],\"fFirst\":67,\"fLast\":100,\"fBits2\":0,\"fTimeDisplay\":false,\"fTimeFormat\":\"\",\"fLabels\":null,\"fModLabs\":null},\"fYaxis\":{\"_typename\":\"TAxis\",\"fUniqueID\":0,\"fBits\":50331656,\"fName\":\"yaxis\",\"fTitle\":\"\",\"fNdivisions\":510,\"fAxisColor\":1,\"fLabelColor\":1,\"fLabelFont\":42,\"fLabelOffset\":0.005,\"fLabelSize\":0.035,\"fTickLength\":0.03,\"fTitleOffset\":0,\"fTitleSize\":0.035,\"fTitleColor\":1,\"fTitleFont\":42,\"fNbins\":1,\"fXmin\":0,\"fXmax\":1,\"fXbins\":[],\"fFirst\":0,\"fLast\":0,\"fBits2\":0,\"fTimeDisplay\":false,\"fTimeFormat\":\"\",\"fLabels\":null,\"fModLabs\":null},\"fZaxis\":{\"_typename\":\"TAxis\",\"fUniqueID\":0,\"fBits\":50331648,\"fName\":\"zaxis\",\"fTitle\":\"\",\"fNdivisions\":510,\"fAxisColor\":1,\"fLabelColor\":1,\"fLabelFont\":42,\"fLabelOffset\":0.007,\"fLabelSize\":0.05,\"fTickLength\":0.03,\"fTitleOffset\":1,\"fTitleSize\":0.06,\"fTitleColor\":1,\"fTitleFont\":42,\"fNbins\":1,\"fXmin\":0,\"fXmax\":1,\"fXbins\":[],\"fFirst\":0,\"fLast\":0,\"fBits2\":0,\"fTimeDisplay\":false,\"fTimeFormat\":\"\",\"fLabels\":null,\"fModLabs\":null},\"fBarOffset\":0,\"fBarWidth\":1000,\"fEntries\":0,\"fTsumw\":0,\"fTsumw2\":0,\"fTsumwx\":0,\"fTsumwx2\":0,\"fMaximum\":1,\"fMinimum\":0,\"fNormFactor\":0,\"fContour\":[],\"fSumw2\":[],\"fOption\":\"\",\"fFunctions\":{\"_typename\":\"TList\",\"name\":\"TList\",\"arr\":[],\"opt\":[]},\"fBufferSize\":0,\"fBuffer\":[],\"fBinStatErrOpt\":0,\"fStatOverflows\":2,\"fArray\":[0,0,0,0,0,0,0,0,0,0,0,0,0,0,0,0,0,0,0,0,0,0,0,0,0,0,0,0,0,0,0,0,0,0,0,0,0,0,0,0,0,0,0,0,0,0,0,0,0,0,0,0,0,0,0,0,0,0,0,0,0,0,0,0,0,0,0,0,0,0,0,0,0,0,0,0,0,0,0,0,0,0,0,0,0,0,0,0,0,0,0,0,0,0,0,0,0,0,0,0,0,0]},\"fMinimum\":-1111,\"fMaximum\":-1111,\"fEXlow\":[0.001,0.001,0.001,0.001,0.001,0.001,0.001,0.001,0.001],\"fEXhigh\":[0.001,0.001,0.001,0.001,0.001,0.001,0.001,0.001,0.001],\"fEYlow\":[0.00762889244910426,0.0104533248299285,0.0220274374360705,0.020995999618975,0.0152344346793703,0.0141305997094812,0.00737780455149091,0.0093826426499473,0.00686749589292937],\"fEYhigh\":[0.00762889244910426,0.0104533248299285,0.0220274374360705,0.020995999618975,0.0152344346793703,0.0141305997094812,0.00737780455149091,0.0093826426499473,0.00686749589292937]},{\"_typename\":\"TGraphAsymmErrors\",\"fUniqueID\":0,\"fBits\":50332680,\"fName\":\"gr_0_HRefficiency\",\"fTitle\":\"\",\"fLineColor\":2,\"fLineStyle\":1,\"fLineWidth\":1,\"fFillColor\":0,\"fFillStyle\":1000,\"fMarkerColor\":2,\"fMarkerStyle\":22,\"fMarkerSize\":1,\"fNpoints\":9,\"fX\":[6.6,6.7,6.9,7,7.1,7.2,7.4,7.5,7.6],\"fY\":[0.054,0.140280561122244,0.668,0.844,0.96,0.975951903807615,0.982,0.981927710843373,0.987975951903808],\"fFunctions\":{\"_typename\":\"TList\",\"name\":\"TList\",\"arr\":[{\"_typename\":\"TF1\",\"fUniqueID\":0,\"fBits\":50332680,\"fName\":\"sigmoid1\",\"fTitle\":\"[0]\\/(1+exp([1]*([2]-x)))\",\"fLineColor\":2,\"fLineStyle\":1,\"fLineWidth\":1,\"fFillColor\":19,\"fFillStyle\":0,\"fMarkerColor\":1,\"fMarkerStyle\":20,\"fMarkerSize\":1,\"fXmin\":0,\"fXmax\":7.8,\"fNpar\":3,\"fNdim\":1,\"fNpx\":100,\"fType\":0,\"fNpfits\":9,\"fNDF\":6,\"fChisquare\":4.7821317593759,\"fMinimum\":-1111,\"fMaximum\":-1111,\"fParErrors\":[0.0036862923508352,0.479056417783159,0.00556065607457601],\"fParMin\":[0,0,6.4],\"fParMax\":[0,0,7.8],\"fSave\":[1.85459385108213e-37,4.86370054765871e-37,1.27551285708688e-36,3.34505184406787e-36,8.77244927585978e-36,2.3005881488506e-35,6.0333273686705e-35,1.58224926768115e-34,4.14947274049417e-34,1.08820552967219e-33,2.85383553253109e-33,7.48422703677166e-33,1.9627499097071e-32,5.14734145440492e-32,1.34989811576092e-31,3.54012831492938e-31,9.28404028410729e-31,2.43475366792309e-30,6.38517848055086e-30,1.67452275626995e-29,4.39146136604787e-29,1.15166741432937e-28,3.02026528909611e-28,7.92069160160324e-28,2.07721340486896e-27,5.44752370928555e-27,1.4286213681112e-26,3.74658124010554e-26,9.82546621661476e-26,2.57674344120507e-25,6.75754881795417e-25,1.77217744292296e-24,4.64756226527093e-24,1.21883026419434e-23,3.19640088313999e-23,8.38260987266495e-23,2.19835217315645e-22,5.76521196934248e-22,1.51193559691241e-21,3.96507407076587e-21,1.03984669841533e-20,2.72701376293937e-20,7.15163501946373e-20,1.87552714792649e-19,4.91859843663141e-19,1.28990991186555e-18,3.38280833893103e-18,8.87146625719872e-18,2.32655550262374e-17,6.10142714841143e-17,1.60010853836883e-16,4.19630894917334e-16,1.10048839654735e-15,2.8860475375006e-15,7.56870350913778e-15,1.9849039929136e-14,5.20544087415714e-14,1.36513477684984e-13,3.58008669009493e-13,9.38883172998237e-13,2.46223538378902e-12,6.45724969785876e-12,1.69342354247459e-11,4.44102896486826e-11,1.16466659233323e-10,3.05435583029697e-10,8.01009455974822e-10,2.10065946368673e-9,5.50901133566734e-9,1.44474657844255e-8,3.78886975910761e-8,9.93636788077423e-8,2.60582714515264e-7,6.83381834386667e-7,1.79217722716818e-6,4.6999981464596e-6,1.23257212365197e-5,3.23237357649021e-5,8.4764980709749e-5,2.22266455761572e-4,5.82684101672301e-4,0.00152663454230893,0.00399359268028189,0.0104048999421843,0.0268278020279795,0.0673824839218557,0.159077958555954,0.330654009124555,0.561640934845165,0.765570877931107,0.888600860146,0.946607468162767,0.970771519810288,0.980313683913872,0.984001826872605,0.985415483883529,0.985955600442728,0.986161710049046,0.986240325085265,0.986270305347538,0.986281737701203,0,7.8],\"fNormalized\":false,\"fNormIntegral\":0,\"fFormula\":{\"_typename\":\"TFormula\",\"fUniqueID\":0,\"fBits\":50332672,\"fName\":\"sigmoid1\",\"fTitle\":\"[0]\\/(1+exp([1]*([2]-x)))\",\"fClingParameters\":[0.986288783902017,12.3606904339532,6.84137970170585],\"fAllParametersSetted\":true,\"fParams\":[{\"$pair\":\"pair<TString,int,TFormulaParamOrder>\",\"first\":\"#epsilon_{max}\",\"second\":0},{\"$pair\":\"pair<TString,int,TFormulaParamOrder>\",\"first\":\"#lambda\",\"second\":1},{\"$pair\":\"pair<TString,int,TFormulaParamOrder>\",\"first\":\"HV_{50%}\",\"second\":2}],\"fFormula\":\"[#epsilon_{max}]\\/(1+exp([#lambda]*([HV_{50%}]-x)))\",\"fNdim\":1,\"fLinearParts\":[],\"fVectorized\":false},\"fParams\":null,\"fComposition_ptr\":null}],\"opt\":[\"\"]},\"fHistogram\":{\"_typename\":\"TH1F\",\"fUniqueID\":0,\"fBits\":50332168,\"fName\":\"gr_0_HRefficiency\",\"fTitle\":\"\",\"fLineColor\":1,\"fLineStyle\":0,\"fLineWidth\":1,\"fFillColor\":0,\"fFillStyle\":1001,\"fMarkerColor\":1,\"fMarkerStyle\":20,\"fMarkerSize\":1,\"fNcells\":102,\"fXaxis\":{\"_typename\":\"TAxis\",\"fUniqueID\":0,\"fBits\":50331656,\"fName\":\"xaxis\",\"fTitle\":\"\",\"fNdivisions\":510,\"fAxisColor\":1,\"fLabelColor\":1,\"fLabelFont\":42,\"fLabelOffset\":0.005,\"fLabelSize\":0.035,\"fTickLength\":0.03,\"fTitleOffset\":1,\"fTitleSize\":0.035,\"fTitleColor\":1,\"fTitleFont\":42,\"fNbins\":100,\"fXmin\":0,\"fXmax\":7.8,\"fXbins\":[],\"fFirst\":0,\"fLast\":0,\"fBits2\":0,\"fTimeDisplay\":false,\"fTimeFormat\":\"\",\"fLabels\":null,\"fModLabs\":null},\"fYaxis\":{\"_typename\":\"TAxis\",\"fUniqueID\":0,\"fBits\":50331656,\"fName\":\"yaxis\",\"fTitle\":\"\",\"fNdivisions\":510,\"fAxisColor\":1,\"fLabelColor\":1,\"fLabelFont\":42,\"fLabelOffset\":0.005,\"fLabelSize\":0.035,\"fTickLength\":0.03,\"fTitleOffset\":0,\"fTitleSize\":0.035,\"fTitleColor\":1,\"fTitleFont\":42,\"fNbins\":1,\"fXmin\":0,\"fXmax\":1,\"fXbins\":[],\"fFirst\":0,\"fLast\":0,\"fBits2\":0,\"fTimeDisplay\":false,\"fTimeFormat\":\"\",\"fLabels\":null,\"fModLabs\":null},\"fZaxis\":{\"_typename\":\"TAxis\",\"fUniqueID\":0,\"fBits\":50331648,\"fName\":\"zaxis\",\"fTitle\":\"\",\"fNdivisions\":510,\"fAxisColor\":1,\"fLabelColor\":1,\"fLabelFont\":42,\"fLabelOffset\":0.007,\"fLabelSize\":0.05,\"fTickLength\":0.03,\"fTitleOffset\":1,\"fTitleSize\":0.06,\"fTitleColor\":1,\"fTitleFont\":42,\"fNbins\":1,\"fXmin\":0,\"fXmax\":1,\"fXbins\":[],\"fFirst\":0,\"fLast\":0,\"fBits2\":0,\"fTimeDisplay\":false,\"fTimeFormat\":\"\",\"fLabels\":null,\"fModLabs\":null},\"fBarOffset\":0,\"fBarWidth\":1000,\"fEntries\":0,\"fTsumw\":0,\"fTsumw2\":0,\"fTsumwx\":0,\"fTsumwx2\":0,\"fMaximum\":1.08993857445199,\"fMinimum\":0.0395029631197846,\"fNormFactor\":0,\"fContour\":[],\"fSumw2\":[],\"fOption\":\"\",\"fFunctions\":{\"_typename\":\"TList\",\"name\":\"TList\",\"arr\":[],\"opt\":[]},\"fBufferSize\":0,\"fBuffer\":[],\"fBinStatErrOpt\":0,\"fStatOverflows\":2,\"fArray\":[0,0,0,0,0,0,0,0,0,0,0,0,0,0,0,0,0,0,0,0,0,0,0,0,0,0,0,0,0,0,0,0,0,0,0,0,0,0,0,0,0,0,0,0,0,0,0,0,0,0,0,0,0,0,0,0,0,0,0,0,0,0,0,0,0,0,0,0,0,0,0,0,0,0,0,0,0,0,0,0,0,0,0,0,0,0,0,0,0,0,0,0,0,0,0,0,0,0,0,0,0,0]},\"fMinimum\":-1111,\"fMaximum\":-1111,\"fEXlow\":[0.001,0.001,0.001,0.001,0.001,0.001,0.001,0.001,0.001],\"fEXhigh\":[0.001,0.001,0.001,0.001,0.001,0.001,0.001,0.001,0.001],\"fEYlow\":[0.0101078187557949,0.0176079957959235,0.0210606742532142,0.0162273842624127,0.00876356092008266,0.00884255888258513,0.005945754788082,0.00876851939038238,0.00686749589292937],\"fEYhigh\":[0.0101078187557949,0.0176079957959235,0.0210606742532142,0.0162273842624127,0.00876356092008266,0.00884255888258513,0.005945754788082,0.00876851939038238,0.00686749589292937]},{\"_typename\":\"TGraphAsymmErrors\",\"fUniqueID\":0,\"fBits\":50332680,\"fName\":\"gr_0_LRefficiency\",\"fTitle\":\"\",\"fLineColor\":4,\"fLineStyle\":1,\"fLineWidth\":1,\"fFillColor\":0,\"fFillStyle\":1000,\"fMarkerColor\":4,\"fMarkerStyle\":23,\"fMarkerSize\":1,\"fNpoints\":9,\"fX\":[6.6,6.7,6.9,7,7.1,7.2,7.4,7.5,7.6],\"fY\":[0.032,0.062,0.422,0.676,0.868,0.92184368737475,0.976,0.979919678714859,0.987975951903808],\"fFunctions\":{\"_typename\":\"TList\",\"name\":\"TList\",\"arr\":[{\"_typename\":\"TF1\",\"fUniqueID\":0,\"fBits\":50332680,\"fName\":\"sigmoid2\",\"fTitle\":\"[0]\\/(1+exp([1]*([2]-x)))\",\"fLineColor\":4,\"fLineStyle\":1,\"fLineWidth\":1,\"fFillColor\":19,\"fFillStyle\":0,\"fMarkerColor\":1,\"fMarkerStyle\":20,\"fMarkerSize\":1,\"fXmin\":0,\"fXmax\":7.8,\"fNpar\":3,\"fNdim\":1,\"fNpx\":100,\"fType\":0,\"fNpfits\":9,\"fNDF\":6,\"fChisquare\":4.3290608874008,\"fMinimum\":-1111,\"fMaximum\":-1111,\"fParErrors\":[0.00438542205830638,0.441413089973122,0.0051946544841277],\"fParMin\":[0,0,6.4],\"fParMax\":[0,0,7.8],\"fSave\":[2.98727784883295e-34,7.12263707295883e-34,1.69826716630682e-33,4.04921848272378e-33,9.65464718751418e-33,2.30198031331402e-32,5.48866598640545e-32,1.30867558406502e-31,3.12030607905425e-31,7.43981942166273e-31,1.77389370223986e-30,4.22953661709033e-30,1.00845839706853e-29,2.40449115515087e-29,5.73308500579205e-29,1.36695298767177e-28,3.25925826778597e-28,7.77112640444517e-28,1.85288800800949e-27,4.41788460455565e-27,1.05336665220998e-26,2.51156696769281e-26,5.98838839256154e-26,1.42782557668007e-25,3.40439821831546e-25,8.11718701370944e-25,1.93540005575892e-24,4.61462002723997e-24,1.10027474332454e-23,2.62341103634042e-23,6.25506084489173e-23,1.49140891882035e-22,3.55600148150971e-22,8.47865825189056e-22,2.02158649612915e-21,4.82011639096362e-21,1.14927172628641e-20,2.74023569911614e-20,6.53360864534069e-20,1.55782372823767e-19,3.71435587895358e-19,8.85622637878596e-19,2.11161095566319e-18,5.03476383435454e-18,1.20045062276934e-17,2.86226274979203e-17,6.82456062203328e-17,1.62719609466991e-16,3.8797620493847e-16,9.25060821443238e-16,2.20564434745412e-15,5.25896986953393e-15,1.25390859685011e-14,2.98972385896923e-14,7.12846915265083e-14,1.699657722831e-13,4.05253401945966e-13,9.66255249999274e-13,2.30386519562125e-12,5.49316015575484e-12,1.30974713945882e-11,3.12286101381018e-11,7.44591121256899e-11,1.77534618213579e-10,4.2329997981259e-10,1.00928413089431e-9,2.40645996837925e-9,5.73777927419714e-9,1.36807224211513e-8,3.2619268697461e-8,7.77748885792791e-8,1.85440481976973e-7,4.42150002035715e-7,1.05422802812745e-6,2.51361703610817e-6,5.99325521121054e-6,1.42897392721729e-5,3.40706771826212e-5,8.12316234587749e-5,1.9366033055801e-4,4.61623043585943e-4,0.00109994390316041,0.00261856740910309,0.0062205807248491,0.0147031191190511,0.0343460727951966,0.0781151500167459,0.167799102871245,0.323636557600769,0.530124650789416,0.723810031261004,0.854792918733368,0.924997477375123,0.957996660986696,0.972548188313203,0.978783613550775,0.981422652669324,0.982533722629399,0.983000461372325,0.98319634649175,0.983278525156586,0,7.8],\"fNormalized\":false,\"fNormIntegral\":0,\"fFormula\":{\"_typename\":\"TFormula\",\"fUniqueID\":0,\"fBits\":50332672,\"fName\":\"sigmoid2\",\"fTitle\":\"[0]\\/(1+exp([1]*([2]-x)))\",\"fClingParameters\":[0.983337897471086,11.1399420256142,6.92792906401517],\"fAllParametersSetted\":true,\"fParams\":[{\"$pair\":\"pair<TString,int,TFormulaParamOrder>\",\"first\":\"#epsilon_{max}\",\"second\":0},{\"$pair\":\"pair<TString,int,TFormulaParamOrder>\",\"first\":\"#lambda\",\"second\":1},{\"$pair\":\"pair<TString,int,TFormulaParamOrder>\",\"first\":\"HV_{50%}\",\"second\":2}],\"fFormula\":\"[#epsilon_{max}]\\/(1+exp([#lambda]*([HV_{50%}]-x)))\",\"fNdim\":1,\"fLinearParts\":[],\"fVectorized\":false},\"fParams\":null,\"fComposition_ptr\":null}],\"opt\":[\"\"]},\"fHistogram\":{\"_typename\":\"TH1F\",\"fUniqueID\":0,\"fBits\":50332168,\"fName\":\"gr_0_LRefficiency\",\"fTitle\":\"\",\"fLineColor\":1,\"fLineStyle\":0,\"fLineWidth\":1,\"fFillColor\":0,\"fFillStyle\":1001,\"fMarkerColor\":1,\"fMarkerStyle\":20,\"fMarkerSize\":1,\"fNcells\":102,\"fXaxis\":{\"_typename\":\"TAxis\",\"fUniqueID\":0,\"fBits\":50331656,\"fName\":\"xaxis\",\"fTitle\":\"\",\"fNdivisions\":510,\"fAxisColor\":1,\"fLabelColor\":1,\"fLabelFont\":42,\"fLabelOffset\":0.005,\"fLabelSize\":0.035,\"fTickLength\":0.03,\"fTitleOffset\":1,\"fTitleSize\":0.035,\"fTitleColor\":1,\"fTitleFont\":42,\"fNbins\":100,\"fXmin\":0,\"fXmax\":7.8,\"fXbins\":[],\"fFirst\":0,\"fLast\":0,\"fBits2\":0,\"fTimeDisplay\":false,\"fTimeFormat\":\"\",\"fLabels\":null,\"fModLabs\":null},\"fYaxis\":{\"_typename\":\"TAxis\",\"fUniqueID\":0,\"fBits\":50331656,\"fName\":\"yaxis\",\"fTitle\":\"\",\"fNdivisions\":510,\"fAxisColor\":1,\"fLabelColor\":1,\"fLabelFont\":42,\"fLabelOffset\":0.005,\"fLabelSize\":0.035,\"fTickLength\":0.03,\"fTitleOffset\":0,\"fTitleSize\":0.035,\"fTitleColor\":1,\"fTitleFont\":42,\"fNbins\":1,\"fXmin\":0,\"fXmax\":1,\"fXbins\":[],\"fFirst\":0,\"fLast\":0,\"fBits2\":0,\"fTimeDisplay\":false,\"fTimeFormat\":\"\",\"fLabels\":null,\"fModLabs\":null},\"fZaxis\":{\"_typename\":\"TAxis\",\"fUniqueID\":0,\"fBits\":50331648,\"fName\":\"zaxis\",\"fTitle\":\"\",\"fNdivisions\":510,\"fAxisColor\":1,\"fLabelColor\":1,\"fLabelFont\":42,\"fLabelOffset\":0.007,\"fLabelSize\":0.05,\"fTickLength\":0.03,\"fTitleOffset\":1,\"fTitleSize\":0.06,\"fTitleColor\":1,\"fTitleFont\":42,\"fNbins\":1,\"fXmin\":0,\"fXmax\":1,\"fXbins\":[],\"fFirst\":0,\"fLast\":0,\"fBits2\":0,\"fTimeDisplay\":false,\"fTimeFormat\":\"\",\"fLabels\":null,\"fModLabs\":null},\"fBarOffset\":0,\"fBarWidth\":1000,\"fEntries\":0,\"fTsumw\":0,\"fTsumw2\":0,\"fTsumwx\":0,\"fTsumwx2\":0,\"fMaximum\":1.09191488850449,\"fMinimum\":0.0217161366472807,\"fNormFactor\":0,\"fContour\":[],\"fSumw2\":[],\"fOption\":\"\",\"fFunctions\":{\"_typename\":\"TList\",\"name\":\"TList\",\"arr\":[],\"opt\":[]},\"fBufferSize\":0,\"fBuffer\":[],\"fBinStatErrOpt\":0,\"fStatOverflows\":2,\"fArray\":[0,0,0,0,0,0,0,0,0,0,0,0,0,0,0,0,0,0,0,0,0,0,0,0,0,0,0,0,0,0,0,0,0,0,0,0,0,0,0,0,0,0,0,0,0,0,0,0,0,0,0,0,0,0,0,0,0,0,0,0,0,0,0,0,0,0,0,0,0,0,0,0,0,0,0,0,0,0,0,0,0,0,0,0,0,0,0,0,0,0,0,0,0,0,0,0,0,0,0,0,0,0]},\"fMinimum\":-1111,\"fMaximum\":-1111,\"fEXlow\":[0.001,0.001,0.001,0.001,0.001,0.001,0.001,0.001,0.001],\"fEXhigh\":[0.001,0.001,0.001,0.001,0.001,0.001,0.001,0.001,0.001],\"fEYlow\":[0.00787095928079926,0.0107848041243223,0.0220869192057199,0.020929596269398,0.0151377673386798,0.0139909969561402,0.00684455988358638,0.00908375493929979,0.00686749589292937],\"fEYhigh\":[0.00787095928079926,0.0107848041243223,0.0220869192057199,0.020929596269398,0.0151377673386798,0.0139909969561402,0.00684455988358638,0.00908375493929979,0.00686749589292937]}],\"opt\":[\"\",\"\",\"\"]},\"fFunctions\":null,\"fHistogram\":{\"_typename\":\"TH1F\",\"fUniqueID\":0,\"fBits\":50332168,\"fName\":\"\",\"fTitle\":\"\",\"fLineColor\":1,\"fLineStyle\":0,\"fLineWidth\":1,\"fFillColor\":0,\"fFillStyle\":1001,\"fMarkerColor\":1,\"fMarkerStyle\":20,\"fMarkerSize\":1,\"fNcells\":102,\"fXaxis\":{\"_typename\":\"TAxis\",\"fUniqueID\":0,\"fBits\":50333704,\"fName\":\"xaxis\",\"fTitle\":\"\",\"fNdivisions\":510,\"fAxisColor\":1,\"fLabelColor\":1,\"fLabelFont\":42,\"fLabelOffset\":0.007,\"fLabelSize\":0,\"fTickLength\":0,\"fTitleOffset\":1,\"fTitleSize\":0.055,\"fTitleColor\":1,\"fTitleFont\":42,\"fNbins\":100,\"fXmin\":5.21543860045899,\"fXmax\":7.8,\"fXbins\":[],\"fFirst\":1,\"fLast\":100,\"fBits2\":0,\"fTimeDisplay\":false,\"fTimeFormat\":\"\",\"fLabels\":null,\"fModLabs\":null},\"fYaxis\":{\"_typename\":\"TAxis\",\"fUniqueID\":0,\"fBits\":50335752,\"fName\":\"yaxis\",\"fTitle\":\"\",\"fNdivisions\":510,\"fAxisColor\":1,\"fLabelColor\":1,\"fLabelFont\":42,\"fLabelOffset\":0.007,\"fLabelSize\":0,\"fTickLength\":0,\"fTitleOffset\":1,\"fTitleSize\":0.055,\"fTitleColor\":1,\"fTitleFont\":42,\"fNbins\":1,\"fXmin\":0,\"fXmax\":1,\"fXbins\":[],\"fFirst\":0,\"fLast\":0,\"fBits2\":0,\"fTimeDisplay\":false,\"fTimeFormat\":\"\",\"fLabels\":null,\"fModLabs\":null},\"fZaxis\":{\"_typename\":\"TAxis\",\"fUniqueID\":0,\"fBits\":50331648,\"fName\":\"zaxis\",\"fTitle\":\"\",\"fNdivisions\":510,\"fAxisColor\":1,\"fLabelColor\":1,\"fLabelFont\":42,\"fLabelOffset\":0.007,\"fLabelSize\":0.05,\"fTickLength\":0.03,\"fTitleOffset\":1,\"fTitleSize\":0.06,\"fTitleColor\":1,\"fTitleFont\":42,\"fNbins\":1,\"fXmin\":0,\"fXmax\":1,\"fXbins\":[],\"fFirst\":0,\"fLast\":0,\"fBits2\":0,\"fTimeDisplay\":false,\"fTimeFormat\":\"\",\"fLabels\":null,\"fModLabs\":null},\"fBarOffset\":0,\"fBarWidth\":1000,\"fEntries\":0,\"fTsumw\":0,\"fTsumw2\":0,\"fTsumwx\":0,\"fTsumwx2\":0,\"fMaximum\":1,\"fMinimum\":0,\"fNormFactor\":0,\"fContour\":[],\"fSumw2\":[],\"fOption\":\"\",\"fFunctions\":{\"_typename\":\"TList\",\"name\":\"TList\",\"arr\":[],\"opt\":[]},\"fBufferSize\":2001,\"fBuffer\":[0,0,0,0,0,0,0,0,0,0,0,0,0,0,0,0,0,0,0,0,0,0,0,0,0,0,0,0,0,0,0,0,0,0,0,0,0,0,0,0,0,0,0,0,0,0,0,0,0,0,0,0,0,0,0,0,0,0,0,0,0,0,0,0,0,0,0,0,0,0,0,0,0,0,0,0,0,0,0,0,0,0,0,0,0,0,0,0,0,0,0,0,0,0,0,0,0,0,0,0,0,0,0,0,0,0,0,0,0,0,0,0,0,0,0,0,0,0,0,0,0,0,0,0,0,0,0,0,0,0,0,0,0,0,0,0,0,0,0,0,0,0,0,0,0,0,0,0,0,0,0,0,0,0,0,0,0,0,0,0,0,0,0,0,0,0,0,0,0,0,0,0,0,0,0,0,0,0,0,0,0,0,0,0,0,0,0,0,0,0,0,0,0,0,0,0,0,0,0,0,0,0,0,0,0,0,0,0,0,0,0,0,0,0,0,0,0,0,0,0,0,0,0,0,0,0,0,0,0,0,0,0,0,0,0,0,0,0,0,0,0,0,0,0,0,0,0,0,0,0,0,0,0,0,0,0,0,0,0,0,0,0,0,0,0,0,0,0,0,0,0,0,0,0,0,0,0,0,0,0,0,0,0,0,0,0,0,0,0,0,0,0,0,0,0,0,0,0,0,0,0,0,0,0,0,0,0,0,0,0,0,0,0,0,0,0,0,0,0,0,0,0,0,0,0,0,0,0,0,0,0,0,0,0,0,0,0,0,0,0,0,0,0,0,0,0,0,0,0,0,0,0,0,0,0,0,0,0,0,0,0,0,0,0,0,0,0,0,0,0,0,0,0,0,0,0,0,0,0,0,0,0,0,0,0,0,0,0,0,0,0,0,0,0,0,0,0,0,0,0,0,0,0,0,0,0,0,0,0,0,0,0,0,0,0,0,0,0,0,0,0,0,0,0,0,0,0,0,0,0,0,0,0,0,0,0,0,0,0,0,0,0,0,0,0,0,0,0,0,0,0,0,0,0,0,0,0,0,0,0,0,0,0,0,0,0,0,0,0,0,0,0,0,0,0,0,0,0,0,0,0,0,0,0,0,0,0,0,0,0,0,0,0,0,0,0,0,0,0,0,0,0,0,0,0,0,0,0,0,0,0,0,0,0,0,0,0,0,0,0,0,0,0,0,0,0,0,0,0,0,0,0,0,0,0,0,0,0,0,0,0,0,0,0,0,0,0,0,0,0,0,0,0,0,0,0,0,0,0,0,0,0,0,0,0,0,0,0,0,0,0,0,0,0,0,0,0,0,0,0,0,0,0,0,0,0,0,0,0,0,0,0,0,0,0,0,0,0,0,0,0,0,0,0,0,0,0,0,0,0,0,0,0,0,0,0,0,0,0,0,0,0,0,0,0,0,0,0,0,0,0,0,0,0,0,0,0,0,0,0,0,0,0,0,0,0,0,0,0,0,0,0,0,0,0,0,0,0,0,0,0,0,0,0,0,0,0,0,0,0,0,0,0,0,0,0,0,0,0,0,0,0,0,0,0,0,0,0,0,0,0,0,0,0,0,0,0,0,0,0,0,0,0,0,0,0,0,0,0,0,0,0,0,0,0,0,0,0,0,0,0,0,0,0,0,0,0,0,0,0,0,0,0,0,0,0,0,0,0,0,0,0,0,0,0,0,0,0,0,0,0,0,0,0,0,0,0,0,0,0,0,0,0,0,0,0,0,0,0,0,0,0,0,0,0,0,0,0,0,0,0,0,0,0,0,0,0,0,0,0,0,0,0,0,0,0,0,0,0,0,0,0,0,0,0,0,0,0,0,0,0,0,0,0,0,0,0,0,0,0,0,0,0,0,0,0,0,0,0,0,0,0,0,0,0,0,0,0,0,0,0,0,0,0,0,0,0,0,0,0,0,0,0,0,0,0,0,0,0,0,0,0,0,0,0,0,0,0,0,0,0,0,0,0,0,0,0,0,0,0,0,0,0,0,0,0,0,0,0,0,0,0,0,0,0,0,0,0,0,0,0,0,0,0,0,0,0,0,0,0,0,0,0,0,0,0,0,0,0,0,0,0,0,0,0,0,0,0,0,0,0,0,0,0,0,0,0,0,0,0,0,0,0,0,0,0,0,0,0,0,0,0,0,0,0,0,0,0,0,0,0,0,0,0,0,0,0,0,0,0,0,0,0,0,0,0,0,0,0,0,0,0,0,0,0,0,0,0,0,0,0,0,0,0,0,0,0,0,0,0,0,0,0,0,0,0,0,0,0,0,0,0,0,0,0,0,0,0,0,0,0,0,0,0,0,0,0,0,0,0,0,0,0,0,0,0,0,0,0,0,0,0,0,0,0,0,0,0,0,0,0,0,0,0,0,0,0,0,0,0,0,0,0,0,0,0,0,0,0,0,0,0,0,0,0,0,0,0,0,0,0,0,0,0,0,0,0,0,0,0,0,0,0,0,0,0,0,0,0,0,0,0,0,0,0,0,0,0,0,0,0,0,0,0,0,0,0,0,0,0,0,0,0,0,0,0,0,0,0,0,0,0,0,0,0,0,0,0,0,0,0,0,0,0,0,0,0,0,0,0,0,0,0,0,0,0,0,0,0,0,0,0,0,0,0,0,0,0,0,0,0,0,0,0,0,0,0,0,0,0,0,0,0,0,0,0,0,0,0,0,0,0,0,0,0,0,0,0,0,0,0,0,0,0,0,0,0,0,0,0,0,0,0,0,0,0,0,0,0,0,0,0,0,0,0,0,0,0,0,0,0,0,0,0,0,0,0,0,0,0,0,0,0,0,0,0,0,0,0,0,0,0,0,0,0,0,0,0,0,0,0,0,0,0,0,0,0,0,0,0,0,0,0,0,0,0,0,0,0,0,0,0,0,0,0,0,0,0,0,0,0,0,0,0,0,0,0,0,0,0,0,0,0,0,0,0,0,0,0,0,0,0,0,0,0,0,0,0,0,0,0,0,0,0,0,0,0,0,0,0,0,0,0,0,0,0,0,0,0,0,0,0,0,0,0,0,0,0,0,0,0,0,0,0,0,0,0,0,0,0,0,0,0,0,0,0,0,0,0,0,0,0,0,0,0,0,0,0,0,0,0,0,0,0,0,0,0,0,0,0,0,0,0,0,0,0,0,0,0,0,0,0,0,0,0,0,0,0,0,0,0,0,0,0,0,0,0,0,0,0,0,0,0,0,0,0,0,0,0,0,0,0,0,0,0,0,0,0,0,0,0,0,0,0,0,0,0,0,0,0,0,0,0,0,0,0,0,0,0,0,0,0,0,0,0,0,0,0,0,0,0,0,0,0,0,0,0,0,0,0,0,0,0,0,0,0,0,0,0,0,0,0,0,0,0,0,0,0,0,0,0,0,0,0,0,0,0,0,0,0,0,0,0,0,0,0,0,0,0,0,0,0,0,0,0,0,0,0,0,0,0,0,0,0,0,0,0,0,0,0,0,0,0,0,0,0,0,0,0,0,0,0,0,0,0,0,0,0,0,0,0,0,0,0,0,0,0,0,0,0,0,0,0,0,0,0,0,0,0,0,0,0,0,0,0,0,0,0,0,0,0,0,0,0,0,0,0,0,0,0,0,0,0,0,0,0,0,0,0,0,0,0,0,0,0,0,0,0,0,0,0,0,0,0,0,0,0,0,0,0,0,0,0,0,0,0,0,0,0,0,0,0,0,0,0,0,0,0,0,0,0,0,0,0,0,0,0,0,0,0,0,0,0,0,0,0,0,0,0,0,0,0,0,0,0,0,0,0,0,0,0,0,0,0,0,0,0,0,0,0,0,0,0,0,0,0,0,0,0,0,0,0,0,0,0,0,0,0,0,0,0,0,0,0,0,0,0,0,0,0,0,0,0,0,0,0,0,0,0,0,0,0,0,0,0,0,0,0,0,0,0,0,0,0,0,0,0,0,0,0,0,0,0,0,0,0,0,0,0,0,0,0,0,0,0,0,0,0,0,0,0,0,0,0,0,0,0,0,0,0,0,0,0,0,0,0,0,0,0,0,0,0,0,0,0,0,0,0,0,0,0,0,0,0,0,0,0,0,0,0,0,0,0,0,0,0,0,0,0,0,0,0,0,0,0,0,0,0,0,0,0,0,0,0,0,0,0,0,0,0,0,0,0,0,0,0,0,0,0,0,0,0,0,0,0,0,0,0,0,0,0,0,0,0,0,0,0,0,0,0,0,0,0,0,0,0,0,0,0,0,0,0,0,0,0,0,0,0,0,0,0,0,0,0,0,0,0,0,0,0,0,0,0,0,0,0,0,0,0,0,0,0,0,0,0,0,0,0,0,0,0,0,0,0,0,0,0,0,0,0,0,0,0,0,0,0,0,0,0,0,0,0,0,0,0,0,0,0,0,0,0,0,0,0,0,0,0,0,0,0,0,0,0,0,0,0,0,0,0,0,0,0,0,0,0,0,0,0,0,0,0,0,0,0,0,0,0,0,0,0,0,0,0,0,0,0,0,0,0,0,0],\"fBinStatErrOpt\":0,\"fStatOverflows\":2,\"fArray\":[0,0,0,0,0,0,0,0,0,0,0,0,0,0,0,0,0,0,0,0,0,0,0,0,0,0,0,0,0,0,0,0,0,0,0,0,0,0,0,0,0,0,0,0,0,0,0,0,0,0,0,0,0,0,0,0,0,0,0,0,0,0,0,0,0,0,0,0,0,0,0,0,0,0,0,0,0,0,0,0,0,0,0,0,0,0,0,0,0,0,0,0,0,0,0,0,0,0,0,0,0,0]},\"fMaximum\":-1111,\"fMinimum\":-1111},{\"_typename\":\"TLine\",\"fUniqueID\":0,\"fBits\":50331656,\"fLineColor\":1,\"fLineStyle\":2,\"fLineWidth\":1,\"fX1\":7.34139383284826,\"fY1\":0,\"fX2\":7.34139383284826,\"fY2\":1},{\"_typename\":\"TLine\",\"fUniqueID\":0,\"fBits\":50331656,\"fLineColor\":1,\"fLineStyle\":2,\"fLineWidth\":1,\"fX1\":5.21543860045899,\"fY1\":0.981476386041804,\"fX2\":5.31543860045899,\"fY2\":0.981476386041804},{\"_typename\":\"TLine\",\"fUniqueID\":0,\"fBits\":50331656,\"fLineColor\":1,\"fLineStyle\":2,\"fLineWidth\":1,\"fX1\":6.8,\"fY1\":0.981476386041804,\"fX2\":7.8,\"fY2\":0.981476386041804},{\"_typename\":\"TGaxis\",\"fUniqueID\":0,\"fBits\":50335752,\"fLineColor\":1,\"fLineStyle\":1,\"fLineWidth\":1,\"fX1\":5.21543860045899,\"fY1\":0,\"fX2\":5.21543860045899,\"fY2\":1,\"fTextAngle\":0,\"fTextSize\":0.04,\"fTextAlign\":11,\"fTextColor\":1,\"fTextFont\":62,\"fWmin\":0,\"fWmax\":1,\"fGridLength\":0,\"fTickSize\":0.03,\"fLabelOffset\":0.005,\"fLabelSize\":0.04,\"fTitleOffset\":1,\"fTitleSize\":0.04,\"fNdiv\":7,\"fLabelColor\":1,\"fLabelFont\":62,\"fNModLabs\":0,\"fChopt\":\"\",\"fName\":\"yaxis1\",\"fTitle\":\"#mu efficiency\",\"fTimeFormat\":\"\",\"fFunctionName\":\"\",\"fModLabs\":null},{\"_typename\":\"TGaxis\",\"fUniqueID\":0,\"fBits\":50331656,\"fLineColor\":1,\"fLineStyle\":1,\"fLineWidth\":1,\"fX1\":5.21543860045899,\"fY1\":0,\"fX2\":7.8,\"fY2\":0,\"fTextAngle\":0,\"fTextSize\":0.04,\"fTextAlign\":11,\"fTextColor\":1,\"fTextFont\":62,\"fWmin\":5.21543860045899,\"fWmax\":7.8,\"fGridLength\":0,\"fTickSize\":0.03,\"fLabelOffset\":0.005,\"fLabelSize\":0.03,\"fTitleOffset\":1.15,\"fTitleSize\":0.03,\"fNdiv\":11,\"fLabelColor\":1,\"fLabelFont\":62,\"fNModLabs\":0,\"fChopt\":\"L\",\"fName\":\"xaxis1\",\"fTitle\":\"HV_{eff} (kV)  \",\"fTimeFormat\":\"\",\"fFunctionName\":\"\",\"fModLabs\":null},{\"_typename\":\"TGaxis\",\"fUniqueID\":0,\"fBits\":50331656,\"fLineColor\":1,\"fLineStyle\":1,\"fLineWidth\":1,\"fX1\":6.51543860045899,\"fY1\":-0.1,\"fX2\":7.6,\"fY2\":-0.1,\"fTextAngle\":0,\"fTextSize\":0.04,\"fTextAlign\":11,\"fTextColor\":1,\"fTextFont\":62,\"fWmin\":0,\"fWmax\":1,\"fGridLength\":0,\"fTickSize\":0.2,\"fLabelOffset\":0.005,\"fLabelSize\":0.03,\"fTitleOffset\":1.7,\"fTitleSize\":0.03,\"fNdiv\":10,\"fLabelColor\":1,\"fLabelFont\":62,\"fNModLabs\":7,\"fChopt\":\"\",\"fName\":\"xaxis2\",\"fTitle\":\"\",\"fTimeFormat\":\"\",\"fFunctionName\":\"\",\"fModLabs\":{\"_typename\":\"TList\",\"name\":\"TList\",\"arr\":[{\"_typename\":\"TAxisModLab\",\"fUniqueID\":0,\"fBits\":50331648,\"fTextAngle\":-1,\"fTextSize\":0.02,\"fTextAlign\":-1,\"fTextColor\":1,\"fTextFont\":-1,\"fLabNum\":1,\"fLabText\":\"#splitline{1.7}{2.6}\"},{\"_typename\":\"TAxisModLab\",\"fUniqueID\":0,\"fBits\":50331648,\"fTextAngle\":-1,\"fTextSize\":0.02,\"fTextAlign\":-1,\"fTextColor\":1,\"fTextFont\":-1,\"fLabNum\":2,\"fLabText\":\"#splitline{2.4}{3.3}\"},{\"_typename\":\"TAxisModLab\",\"fUniqueID\":0,\"fBits\":50331648,\"fTextAngle\":-1,\"fTextSize\":0.02,\"fTextAlign\":-1,\"fTextColor\":1,\"fTextFont\":-1,\"fLabNum\":3,\"fLabText\":\"#splitline{5.1}{6.1}\"},{\"_typename\":\"TAxisModLab\",\"fUniqueID\":0,\"fBits\":50331648,\"fTextAngle\":-1,\"fTextSize\":0.02,\"fTextAlign\":-1,\"fTextColor\":1,\"fTextFont\":-1,\"fLabNum\":4,\"fLabText\":\"#splitline{0.8}{2.0}\"},{\"_typename\":\"TAxisModLab\",\"fUniqueID\":0,\"fBits\":50331648,\"fTextAngle\":-1,\"fTextSize\":0.02,\"fTextAlign\":-1,\"fTextColor\":1,\"fTextFont\":-1,\"fLabNum\":5,\"fLabText\":\"#splitline{1.9}{3.0}\"},{\"_typename\":\"TAxisModLab\",\"fUniqueID\":0,\"fBits\":50331648,\"fTextAngle\":-1,\"fTextSize\":0.02,\"fTextAlign\":-1,\"fTextColor\":1,\"fTextFont\":-1,\"fLabNum\":6,\"fLabText\":\"#splitline{3.1}{3.9}\"},{\"_typename\":\"TAxisModLab\",\"fUniqueID\":0,\"fBits\":50331648,\"fTextAngle\":-1,\"fTextSize\":0,\"fTextAlign\":-1,\"fTextColor\":1,\"fTextFont\":-1,\"fLabNum\":7,\"fLabText\":\"\"}],\"opt\":[\"\",\"\",\"\",\"\",\"\",\"\",\"\"]}},{\"_typename\":\"TPad\",\"fUniqueID\":0,\"fBits\":50331657,\"fLineColor\":1,\"fLineStyle\":1,\"fLineWidth\":1,\"fFillColor\":0,\"fFillStyle\":4000,\"fLeftMargin\":0.16,\"fRightMargin\":0.1,\"fBottomMargin\":0.2,\"fTopMargin\":0.05,\"fXfile\":2,\"fYfile\":2,\"fAfile\":1,\"fXstat\":0.99,\"fYstat\":0.99,\"fAstat\":2,\"fFrameFillColor\":0,\"fFrameLineColor\":1,\"fFrameFillStyle\":0,\"fFrameLineStyle\":1,\"fFrameLineWidth\":1,\"fFrameBorderSize\":1,\"fFrameBorderMode\":0,\"fX1\":4.65661453376427,\"fY1\":-2.73333338896434,\"fX2\":8.14926505469533,\"fY2\":15.9333333472411,\"fXtoAbsPixelk\":-927.949567654835,\"fXtoPixelk\":-927.949567654835,\"fXtoPixel\":199.275591940548,\"fYtoAbsPixelk\":402.885763136515,\"fYtoPixelk\":402.885763136515,\"fYtoPixel\":-25.2857141915177,\"fUtoAbsPixelk\":5e-5,\"fUtoPixelk\":5e-5,\"fUtoPixel\":696,\"fVtoAbsPixelk\":472.00005,\"fVtoPixelk\":472,\"fVtoPixel\":-472,\"fAbsPixeltoXk\":4.65661453376427,\"fPixeltoXk\":4.65661453376427,\"fPixeltoX\":0.00501817603582049,\"fAbsPixeltoYk\":15.9333333472411,\"fPixeltoYk\":-2.73333338896434,\"fPixeltoY\":-0.0395480227461979,\"fXlowNDC\":0,\"fYlowNDC\":0,\"fXUpNDC\":0,\"fYUpNDC\":0,\"fWNDC\":1,\"fHNDC\":1,\"fAbsXlowNDC\":0,\"fAbsYlowNDC\":0,\"fAbsWNDC\":1,\"fAbsHNDC\":1,\"fUxmin\":5.21543860045899,\"fUymin\":1,\"fUxmax\":7.8,\"fUymax\":15,\"fTheta\":30,\"fPhi\":30,\"fAspectRatio\":0,\"fNumber\":0,\"fTickx\":1,\"fTicky\":1,\"fLogx\":0,\"fLogy\":0,\"fLogz\":0,\"fPadPaint\":0,\"fCrosshair\":0,\"fCrosshairPos\":0,\"fBorderSize\":2,\"fBorderMode\":0,\"fModified\":false,\"fGridx\":false,\"fGridy\":false,\"fAbsCoord\":false,\"fEditable\":true,\"fFixedAspectRatio\":false,\"fPrimitives\":{\"_typename\":\"TList\",\"name\":\"TList\",\"arr\":[{\"_typename\":\"TFrame\",\"fUniqueID\":0,\"fBits\":50331656,\"fLineColor\":1,\"fLineStyle\":1,\"fLineWidth\":1,\"fFillColor\":0,\"fFillStyle\":0,\"fX1\":5.21543860045899,\"fY1\":1,\"fX2\":7.8,\"fY2\":15,\"fBorderSize\":1,\"fBorderMode\":0},{\"_typename\":\"TMultiGraph\",\"fUniqueID\":0,\"fBits\":50331656,\"fName\":\"\",\"fTitle\":\"\",\"fGraphs\":{\"_typename\":\"TList\",\"name\":\"TList\",\"arr\":[{\"_typename\":\"TGraphErrors\",\"fUniqueID\":0,\"fBits\":50332680,\"fName\":\"gr_0_ANDmultiplicity\",\"fTitle\":\"0_ANDmultiplicity\",\"fLineColor\":1,\"fLineStyle\":1,\"fLineWidth\":1,\"fFillColor\":0,\"fFillStyle\":1000,\"fMarkerColor\":1,\"fMarkerStyle\":21,\"fMarkerSize\":1,\"fNpoints\":9,\"fX\":[6.6,6.7,6.9,7,7.1,7.2,7.4,7.5,7.6],\"fY\":[4.33333333333333,3.37931034482759,2.1304347826087,2.0922619047619,2.72055427251732,3.01739130434783,3.60082304526749,4.13087934560327,4.66599190283401],\"fFunctions\":{\"_typename\":\"TList\",\"name\":\"TList\",\"arr\":[],\"opt\":[]},\"fHistogram\":{\"_typename\":\"TH1F\",\"fUniqueID\":0,\"fBits\":50332168,\"fName\":\"gr_0_ANDmultiplicity\",\"fTitle\":\"0_ANDmultiplicity\",\"fLineColor\":1,\"fLineStyle\":0,\"fLineWidth\":1,\"fFillColor\":0,\"fFillStyle\":1001,\"fMarkerColor\":1,\"fMarkerStyle\":20,\"fMarkerSize\":1,\"fNcells\":102,\"fXaxis\":{\"_typename\":\"TAxis\",\"fUniqueID\":0,\"fBits\":50331656,\"fName\":\"xaxis\",\"fTitle\":\"\",\"fNdivisions\":510,\"fAxisColor\":1,\"fLabelColor\":1,\"fLabelFont\":42,\"fLabelOffset\":0.005,\"fLabelSize\":0.035,\"fTickLength\":0.03,\"fTitleOffset\":1,\"fTitleSize\":0.035,\"fTitleColor\":1,\"fTitleFont\":42,\"fNbins\":100,\"fXmin\":0,\"fXmax\":7.8,\"fXbins\":[],\"fFirst\":0,\"fLast\":0,\"fBits2\":0,\"fTimeDisplay\":false,\"fTimeFormat\":\"\",\"fLabels\":null,\"fModLabs\":null},\"fYaxis\":{\"_typename\":\"TAxis\",\"fUniqueID\":0,\"fBits\":50331656,\"fName\":\"yaxis\",\"fTitle\":\"\",\"fNdivisions\":510,\"fAxisColor\":1,\"fLabelColor\":1,\"fLabelFont\":42,\"fLabelOffset\":0.005,\"fLabelSize\":0.035,\"fTickLength\":0.03,\"fTitleOffset\":0,\"fTitleSize\":0.035,\"fTitleColor\":1,\"fTitleFont\":42,\"fNbins\":1,\"fXmin\":1.56680036089924,\"fXmax\":6.3109922696315,\"fXbins\":[],\"fFirst\":0,\"fLast\":0,\"fBits2\":0,\"fTimeDisplay\":false,\"fTimeFormat\":\"\",\"fLabels\":null,\"fModLabs\":null},\"fZaxis\":{\"_typename\":\"TAxis\",\"fUniqueID\":0,\"fBits\":50331648,\"fName\":\"zaxis\",\"fTitle\":\"\",\"fNdivisions\":510,\"fAxisColor\":1,\"fLabelColor\":1,\"fLabelFont\":42,\"fLabelOffset\":0.007,\"fLabelSize\":0.05,\"fTickLength\":0.03,\"fTitleOffset\":1,\"fTitleSize\":0.06,\"fTitleColor\":1,\"fTitleFont\":42,\"fNbins\":1,\"fXmin\":0,\"fXmax\":1,\"fXbins\":[],\"fFirst\":0,\"fLast\":0,\"fBits2\":0,\"fTimeDisplay\":false,\"fTimeFormat\":\"\",\"fLabels\":null,\"fModLabs\":null},\"fBarOffset\":0,\"fBarWidth\":1000,\"fEntries\":0,\"fTsumw\":0,\"fTsumw2\":0,\"fTsumwx\":0,\"fTsumwx2\":0,\"fMaximum\":6.3109922696315,\"fMinimum\":1.56680036089924,\"fNormFactor\":0,\"fContour\":[],\"fSumw2\":[],\"fOption\":\"\",\"fFunctions\":{\"_typename\":\"TList\",\"name\":\"TList\",\"arr\":[],\"opt\":[]},\"fBufferSize\":0,\"fBuffer\":[],\"fBinStatErrOpt\":0,\"fStatOverflows\":2,\"fArray\":[0,0,0,0,0,0,0,0,0,0,0,0,0,0,0,0,0,0,0,0,0,0,0,0,0,0,0,0,0,0,0,0,0,0,0,0,0,0,0,0,0,0,0,0,0,0,0,0,0,0,0,0,0,0,0,0,0,0,0,0,0,0,0,0,0,0,0,0,0,0,0,0,0,0,0,0,0,0,0,0,0,0,0,0,0,0,0,0,0,0,0,0,0,0,0,0,0,0,0,0,0,0]},\"fMinimum\":-1111,\"fMaximum\":-1111,\"fEX\":[0,0,0,0,0,0,0,0,0],\"fEY\":[1.58230961057048,0.800436553158623,0.168285095981771,0.128567979759478,0.159991143684913,0.171970961708403,0.152159897977696,0.165374110455214,0.176216739446875]},{\"_typename\":\"TGraphErrors\",\"fUniqueID\":0,\"fBits\":50332680,\"fName\":\"gr_0_HRmultiplicity\",\"fTitle\":\"\",\"fLineColor\":2,\"fLineStyle\":1,\"fLineWidth\":1,\"fFillColor\":0,\"fFillStyle\":1000,\"fMarkerColor\":2,\"fMarkerStyle\":32,\"fMarkerSize\":1,\"fNpoints\":9,\"fX\":[6.6,6.7,6.9,7,7.1,7.2,7.4,7.5,7.6],\"fY\":[3.25925925925926,2.53521126760563,2.2874251497006,2.55687203791469,3.25208333333333,3.70901639344262,4.38085539714868,4.9755600814664,5.57692307692308],\"fFunctions\":{\"_typename\":\"TList\",\"name\":\"TList\",\"arr\":[],\"opt\":[]},\"fHistogram\":{\"_typename\":\"TH1F\",\"fUniqueID\":0,\"fBits\":50332168,\"fName\":\"gr_0_HRmultiplicity\",\"fTitle\":\"\",\"fLineColor\":1,\"fLineStyle\":0,\"fLineWidth\":1,\"fFillColor\":0,\"fFillStyle\":1001,\"fMarkerColor\":1,\"fMarkerStyle\":20,\"fMarkerSize\":1,\"fNcells\":102,\"fXaxis\":{\"_typename\":\"TAxis\",\"fUniqueID\":0,\"fBits\":50331656,\"fName\":\"xaxis\",\"fTitle\":\"\",\"fNdivisions\":510,\"fAxisColor\":1,\"fLabelColor\":1,\"fLabelFont\":42,\"fLabelOffset\":0.005,\"fLabelSize\":0.035,\"fTickLength\":0.03,\"fTitleOffset\":1,\"fTitleSize\":0.035,\"fTitleColor\":1,\"fTitleFont\":42,\"fNbins\":100,\"fXmin\":0,\"fXmax\":7.8,\"fXbins\":[],\"fFirst\":0,\"fLast\":0,\"fBits2\":0,\"fTimeDisplay\":false,\"fTimeFormat\":\"\",\"fLabels\":null,\"fModLabs\":null},\"fYaxis\":{\"_typename\":\"TAxis\",\"fUniqueID\":0,\"fBits\":50331656,\"fName\":\"yaxis\",\"fTitle\":\"\",\"fNdivisions\":510,\"fAxisColor\":1,\"fLabelColor\":1,\"fLabelFont\":42,\"fLabelOffset\":0.005,\"fLabelSize\":0.035,\"fTickLength\":0.03,\"fTitleOffset\":0,\"fTitleSize\":0.035,\"fTitleColor\":1,\"fTitleFont\":42,\"fNbins\":1,\"fXmin\":1.75303204980588,\"fXmax\":6.14350264222804,\"fXbins\":[],\"fFirst\":0,\"fLast\":0,\"fBits2\":0,\"fTimeDisplay\":false,\"fTimeFormat\":\"\",\"fLabels\":null,\"fModLabs\":null},\"fZaxis\":{\"_typename\":\"TAxis\",\"fUniqueID\":0,\"fBits\":50331648,\"fName\":\"zaxis\",\"fTitle\":\"\",\"fNdivisions\":510,\"fAxisColor\":1,\"fLabelColor\":1,\"fLabelFont\":42,\"fLabelOffset\":0.007,\"fLabelSize\":0.05,\"fTickLength\":0.03,\"fTitleOffset\":1,\"fTitleSize\":0.06,\"fTitleColor\":1,\"fTitleFont\":42,\"fNbins\":1,\"fXmin\":0,\"fXmax\":1,\"fXbins\":[],\"fFirst\":0,\"fLast\":0,\"fBits2\":0,\"fTimeDisplay\":false,\"fTimeFormat\":\"\",\"fLabels\":null,\"fModLabs\":null},\"fBarOffset\":0,\"fBarWidth\":1000,\"fEntries\":0,\"fTsumw\":0,\"fTsumw2\":0,\"fTsumwx\":0,\"fTsumwx2\":0,\"fMaximum\":6.14350264222804,\"fMinimum\":1.75303204980588,\"fNormFactor\":0,\"fContour\":[],\"fSumw2\":[],\"fOption\":\"\",\"fFunctions\":{\"_typename\":\"TList\",\"name\":\"TList\",\"arr\":[],\"opt\":[]},\"fBufferSize\":0,\"fBuffer\":[],\"fBinStatErrOpt\":0,\"fStatOverflows\":2,\"fArray\":[0,0,0,0,0,0,0,0,0,0,0,0,0,0,0,0,0,0,0,0,0,0,0,0,0,0,0,0,0,0,0,0,0,0,0,0,0,0,0,0,0,0,0,0,0,0,0,0,0,0,0,0,0,0,0,0,0,0,0,0,0,0,0,0,0,0,0,0,0,0,0,0,0,0,0,0,0,0,0,0,0,0,0,0,0,0,0,0,0,0,0,0,0,0,0,0,0,0,0,0,0,0]},\"fMinimum\":-1111,\"fMaximum\":-1111,\"fEX\":[0,0,0,0,0,0,0,0,0],\"fEY\":[0.996003802021975,0.41630666843124,0.134310962969611,0.122311042796865,0.157845986775363,0.177022144355729,0.164803165305006,0.182297632863667,0.200707015936452]},{\"_typename\":\"TGraphErrors\",\"fUniqueID\":0,\"fBits\":50332680,\"fName\":\"gr_0_LRmultiplicity\",\"fTitle\":\"\",\"fLineColor\":4,\"fLineStyle\":1,\"fLineWidth\":1,\"fFillColor\":0,\"fFillStyle\":1000,\"fMarkerColor\":4,\"fMarkerStyle\":26,\"fMarkerSize\":1,\"fNpoints\":9,\"fX\":[6.6,6.7,6.9,7,7.1,7.2,7.4,7.5,7.6],\"fY\":[4.625,4.45161290322581,2.60663507109005,2.56804733727811,3.23502304147465,3.50325379609544,4.07786885245902,4.68163265306122,5.18421052631579],\"fFunctions\":{\"_typename\":\"TList\",\"name\":\"TList\",\"arr\":[],\"opt\":[]},\"fHistogram\":{\"_typename\":\"TH1F\",\"fUniqueID\":0,\"fBits\":50332168,\"fName\":\"gr_0_LRmultiplicity\",\"fTitle\":\"\",\"fLineColor\":1,\"fLineStyle\":0,\"fLineWidth\":1,\"fFillColor\":0,\"fFillStyle\":1001,\"fMarkerColor\":1,\"fMarkerStyle\":20,\"fMarkerSize\":1,\"fNcells\":102,\"fXaxis\":{\"_typename\":\"TAxis\",\"fUniqueID\":0,\"fBits\":50331656,\"fName\":\"xaxis\",\"fTitle\":\"\",\"fNdivisions\":510,\"fAxisColor\":1,\"fLabelColor\":1,\"fLabelFont\":42,\"fLabelOffset\":0.005,\"fLabelSize\":0.035,\"fTickLength\":0.03,\"fTitleOffset\":1,\"fTitleSize\":0.035,\"fTitleColor\":1,\"fTitleFont\":42,\"fNbins\":100,\"fXmin\":0,\"fXmax\":7.8,\"fXbins\":[],\"fFirst\":0,\"fLast\":0,\"fBits2\":0,\"fTimeDisplay\":false,\"fTimeFormat\":\"\",\"fLabels\":null,\"fModLabs\":null},\"fYaxis\":{\"_typename\":\"TAxis\",\"fUniqueID\":0,\"fBits\":50331656,\"fName\":\"yaxis\",\"fTitle\":\"\",\"fNdivisions\":510,\"fAxisColor\":1,\"fLabelColor\":1,\"fLabelFont\":42,\"fLabelOffset\":0.005,\"fLabelSize\":0.035,\"fTickLength\":0.03,\"fTitleOffset\":0,\"fTitleSize\":0.035,\"fTitleColor\":1,\"fTitleFont\":42,\"fNbins\":1,\"fXmin\":2.00846844196082,\"fXmax\":6.70724455001138,\"fXbins\":[],\"fFirst\":0,\"fLast\":0,\"fBits2\":0,\"fTimeDisplay\":false,\"fTimeFormat\":\"\",\"fLabels\":null,\"fModLabs\":null},\"fZaxis\":{\"_typename\":\"TAxis\",\"fUniqueID\":0,\"fBits\":50331648,\"fName\":\"zaxis\",\"fTitle\":\"\",\"fNdivisions\":510,\"fAxisColor\":1,\"fLabelColor\":1,\"fLabelFont\":42,\"fLabelOffset\":0.007,\"fLabelSize\":0.05,\"fTickLength\":0.03,\"fTitleOffset\":1,\"fTitleSize\":0.06,\"fTitleColor\":1,\"fTitleFont\":42,\"fNbins\":1,\"fXmin\":0,\"fXmax\":1,\"fXbins\":[],\"fFirst\":0,\"fLast\":0,\"fBits2\":0,\"fTimeDisplay\":false,\"fTimeFormat\":\"\",\"fLabels\":null,\"fModLabs\":null},\"fBarOffset\":0,\"fBarWidth\":1000,\"fEntries\":0,\"fTsumw\":0,\"fTsumw2\":0,\"fTsumwx\":0,\"fTsumwx2\":0,\"fMaximum\":6.70724455001138,\"fMinimum\":2.00846844196082,\"fNormFactor\":0,\"fContour\":[],\"fSumw2\":[],\"fOption\":\"\",\"fFunctions\":{\"_typename\":\"TList\",\"name\":\"TList\",\"arr\":[],\"opt\":[]},\"fBufferSize\":0,\"fBuffer\":[],\"fBinStatErrOpt\":0,\"fStatOverflows\":2,\"fArray\":[0,0,0,0,0,0,0,0,0,0,0,0,0,0,0,0,0,0,0,0,0,0,0,0,0,0,0,0,0,0,0,0,0,0,0,0,0,0,0,0,0,0,0,0,0,0,0,0,0,0,0,0,0,0,0,0,0,0,0,0,0,0,0,0,0,0,0,0,0,0,0,0,0,0,0,0,0,0,0,0,0,0,0,0,0,0,0,0,0,0,0,0,0,0,0,0,0,0,0,0,0,0]},\"fMinimum\":-1111,\"fMaximum\":-1111,\"fEX\":[0,0,0,0,0,0,0,0,0],\"fEY\":[1.6906798743405,0.854490141566403,0.206601953458348,0.159295142196246,0.186650560527003,0.200310376931479,0.17738187121779,0.190358336043143,0.201091092313566]}],\"opt\":[\"\",\"\",\"\"]},\"fFunctions\":null,\"fHistogram\":{\"_typename\":\"TH1F\",\"fUniqueID\":0,\"fBits\":50332168,\"fName\":\"\",\"fTitle\":\"\",\"fLineColor\":1,\"fLineStyle\":0,\"fLineWidth\":1,\"fFillColor\":0,\"fFillStyle\":1001,\"fMarkerColor\":1,\"fMarkerStyle\":20,\"fMarkerSize\":1,\"fNcells\":102,\"fXaxis\":{\"_typename\":\"TAxis\",\"fUniqueID\":0,\"fBits\":50333704,\"fName\":\"xaxis\",\"fTitle\":\"\",\"fNdivisions\":510,\"fAxisColor\":1,\"fLabelColor\":1,\"fLabelFont\":42,\"fLabelOffset\":0.007,\"fLabelSize\":0,\"fTickLength\":0,\"fTitleOffset\":0.9,\"fTitleSize\":0.06,\"fTitleColor\":1,\"fTitleFont\":42,\"fNbins\":100,\"fXmin\":5.21543860045899,\"fXmax\":7.8,\"fXbins\":[],\"fFirst\":1,\"fLast\":100,\"fBits2\":0,\"fTimeDisplay\":false,\"fTimeFormat\":\"\",\"fLabels\":null,\"fModLabs\":null},\"fYaxis\":{\"_typename\":\"TAxis\",\"fUniqueID\":0,\"fBits\":50331656,\"fName\":\"yaxis\",\"fTitle\":\"\",\"fNdivisions\":510,\"fAxisColor\":1,\"fLabelColor\":1,\"fLabelFont\":42,\"fLabelOffset\":0.007,\"fLabelSize\":0,\"fTickLength\":0,\"fTitleOffset\":1.25,\"fTitleSize\":0.06,\"fTitleColor\":1,\"fTitleFont\":42,\"fNbins\":1,\"fXmin\":1,\"fXmax\":15,\"fXbins\":[],\"fFirst\":0,\"fLast\":0,\"fBits2\":0,\"fTimeDisplay\":false,\"fTimeFormat\":\"\",\"fLabels\":null,\"fModLabs\":null},\"fZaxis\":{\"_typename\":\"TAxis\",\"fUniqueID\":0,\"fBits\":50331648,\"fName\":\"zaxis\",\"fTitle\":\"\",\"fNdivisions\":510,\"fAxisColor\":1,\"fLabelColor\":1,\"fLabelFont\":42,\"fLabelOffset\":0.007,\"fLabelSize\":0.05,\"fTickLength\":0.03,\"fTitleOffset\":1,\"fTitleSize\":0.06,\"fTitleColor\":1,\"fTitleFont\":42,\"fNbins\":1,\"fXmin\":0,\"fXmax\":1,\"fXbins\":[],\"fFirst\":0,\"fLast\":0,\"fBits2\":0,\"fTimeDisplay\":false,\"fTimeFormat\":\"\",\"fLabels\":null,\"fModLabs\":null},\"fBarOffset\":0,\"fBarWidth\":1000,\"fEntries\":0,\"fTsumw\":0,\"fTsumw2\":0,\"fTsumwx\":0,\"fTsumwx2\":0,\"fMaximum\":15,\"fMinimum\":1,\"fNormFactor\":0,\"fContour\":[],\"fSumw2\":[],\"fOption\":\"\",\"fFunctions\":{\"_typename\":\"TList\",\"name\":\"TList\",\"arr\":[],\"opt\":[]},\"fBufferSize\":0,\"fBuffer\":[],\"fBinStatErrOpt\":0,\"fStatOverflows\":2,\"fArray\":[0,0,0,0,0,0,0,0,0,0,0,0,0,0,0,0,0,0,0,0,0,0,0,0,0,0,0,0,0,0,0,0,0,0,0,0,0,0,0,0,0,0,0,0,0,0,0,0,0,0,0,0,0,0,0,0,0,0,0,0,0,0,0,0,0,0,0,0,0,0,0,0,0,0,0,0,0,0,0,0,0,0,0,0,0,0,0,0,0,0,0,0,0,0,0,0,0,0,0,0,0,0]},\"fMaximum\":-1111,\"fMinimum\":-1111},{\"_typename\":\"TGaxis\",\"fUniqueID\":0,\"fBits\":50335752,\"fLineColor\":1,\"fLineStyle\":1,\"fLineWidth\":1,\"fX1\":7.8,\"fY1\":1,\"fX2\":7.8,\"fY2\":15,\"fTextAngle\":0,\"fTextSize\":0.04,\"fTextAlign\":11,\"fTextColor\":1,\"fTextFont\":62,\"fWmin\":1,\"fWmax\":15,\"fGridLength\":0,\"fTickSize\":0.03,\"fLabelOffset\":0.005,\"fLabelSize\":0.04,\"fTitleOffset\":1,\"fTitleSize\":0.04,\"fNdiv\":7,\"fLabelColor\":1,\"fLabelFont\":62,\"fNModLabs\":0,\"fChopt\":\"+L\",\"fName\":\"yaxis2\",\"fTitle\":\"multiplicity\",\"fTimeFormat\":\"\",\"fFunctionName\":\"\",\"fModLabs\":null},{\"_typename\":\"TLegend\",\"fUniqueID\":0,\"fBits\":50331656,\"fLineColor\":0,\"fLineStyle\":1,\"fLineWidth\":0,\"fFillColor\":10,\"fFillStyle\":0,\"fX1\":5.35514463795049,\"fY1\":1.93333329508702,\"fX2\":6.75220484632291,\"fY2\":14.0666666736205,\"fX1NDC\":0.2,\"fY1NDC\":0.25,\"fX2NDC\":0.6,\"fY2NDC\":0.9,\"fBorderSize\":0,\"fInit\":1,\"fShadowColor\":1,\"fCornerRadius\":0,\"fOption\":\"brNDC\",\"fName\":\"TPave\",\"fTextAngle\":0,\"fTextSize\":0,\"fTextAlign\":12,\"fTextColor\":1,\"fTextFont\":62,\"fPrimitives\":{\"_typename\":\"TList\",\"name\":\"TList\",\"arr\":[{\"_typename\":\"TLegendEntry\",\"fUniqueID\":0,\"fBits\":50331648,\"fTextAngle\":0,\"fTextSize\":0,\"fTextAlign\":0,\"fTextColor\":0,\"fTextFont\":62,\"fLineColor\":1,\"fLineStyle\":1,\"fLineWidth\":1,\"fFillColor\":0,\"fFillStyle\":0,\"fMarkerColor\":1,\"fMarkerStyle\":21,\"fMarkerSize\":1,\"fObject\":null,\"fLabel\":\"PETIROC2B: ~70fC RATE: 1.9#pm0.25 #frac{kHz}{cm^{2}}\",\"fOption\":\"h\"},{\"_typename\":\"TLegendEntry\",\"fUniqueID\":0,\"fBits\":50331656,\"fTextAngle\":0,\"fTextSize\":0,\"fTextAlign\":0,\"fTextColor\":0,\"fTextFont\":62,\"fLineColor\":2,\"fLineStyle\":1,\"fLineWidth\":1,\"fFillColor\":0,\"fFillStyle\":0,\"fMarkerColor\":2,\"fMarkerStyle\":22,\"fMarkerSize\":1,\"fObject\":{\"$ref\":16},\"fLabel\":\"High Radius (HR): WP = 7.23#pm 0.07 (kV) \",\"fOption\":\"lep\"},{\"_typename\":\"TLegendEntry\",\"fUniqueID\":0,\"fBits\":50331656,\"fTextAngle\":0,\"fTextSize\":0,\"fTextAlign\":0,\"fTextColor\":0,\"fTextFont\":62,\"fLineColor\":1,\"fLineStyle\":1,\"fLineWidth\":1,\"fFillColor\":0,\"fFillStyle\":0,\"fMarkerColor\":1,\"fMarkerStyle\":21,\"fMarkerSize\":1,\"fObject\":{\"$ref\":16},\"fLabel\":\" WP_{eff} = 0.978#pm0.003\",\"fOption\":\"\"},{\"_typename\":\"TLegendEntry\",\"fUniqueID\":0,\"fBits\":50331656,\"fTextAngle\":0,\"fTextSize\":0,\"fTextAlign\":0,\"fTextColor\":0,\"fTextFont\":62,\"fLineColor\":1,\"fLineStyle\":1,\"fLineWidth\":1,\"fFillColor\":0,\"fFillStyle\":0,\"fMarkerColor\":1,\"fMarkerStyle\":21,\"fMarkerSize\":1,\"fObject\":{\"$ref\":16},\"fLabel\":\" plateau_{eff} = 0.986#pm0.004\",\"fOption\":\"\"},{\"_typename\":\"TLegendEntry\",\"fUniqueID\":0,\"fBits\":50331656,\"fTextAngle\":0,\"fTextSize\":0,\"fTextAlign\":0,\"fTextColor\":0,\"fTextFont\":62,\"fLineColor\":2,\"fLineStyle\":1,\"fLineWidth\":1,\"fFillColor\":0,\"fFillStyle\":0,\"fMarkerColor\":2,\"fMarkerStyle\":32,\"fMarkerSize\":1,\"fObject\":{\"$ref\":65},\"fLabel\":\"HR multiplicity\",\"fOption\":\"ep\"},{\"_typename\":\"TLegendEntry\",\"fUniqueID\":0,\"fBits\":50331656,\"fTextAngle\":0,\"fTextSize\":0,\"fTextAlign\":0,\"fTextColor\":0,\"fTextFont\":62,\"fLineColor\":4,\"fLineStyle\":1,\"fLineWidth\":1,\"fFillColor\":0,\"fFillStyle\":0,\"fMarkerColor\":4,\"fMarkerStyle\":23,\"fMarkerSize\":1,\"fObject\":{\"$ref\":25},\"fLabel\":\"Low Radius (LR): WP = 7.34#pm 0.07 (kV) \",\"fOption\":\"lep\"},{\"_typename\":\"TLegendEntry\",\"fUniqueID\":0,\"fBits\":50331656,\"fTextAngle\":0,\"fTextSize\":0,\"fTextAlign\":0,\"fTextColor\":0,\"fTextFont\":62,\"fLineColor\":1,\"fLineStyle\":1,\"fLineWidth\":1,\"fFillColor\":0,\"fFillStyle\":0,\"fMarkerColor\":1,\"fMarkerStyle\":21,\"fMarkerSize\":1,\"fObject\":{\"$ref\":25},\"fLabel\":\" WP_{eff} = 0.974#pm0.004\",\"fOption\":\"\"},{\"_typename\":\"TLegendEntry\",\"fUniqueID\":0,\"fBits\":50331656,\"fTextAngle\":0,\"fTextSize\":0,\"fTextAlign\":0,\"fTextColor\":0,\"fTextFont\":62,\"fLineColor\":1,\"fLineStyle\":1,\"fLineWidth\":1,\"fFillColor\":0,\"fFillStyle\":0,\"fMarkerColor\":1,\"fMarkerStyle\":21,\"fMarkerSize\":1,\"fObject\":{\"$ref\":25},\"fLabel\":\" plateau_{eff} = 0.983#pm0.004\",\"fOption\":\"\"},{\"_typename\":\"TLegendEntry\",\"fUniqueID\":0,\"fBits\":50331656,\"fTextAngle\":0,\"fTextSize\":0,\"fTextAlign\":0,\"fTextColor\":0,\"fTextFont\":62,\"fLineColor\":4,\"fLineStyle\":1,\"fLineWidth\":1,\"fFillColor\":0,\"fFillStyle\":0,\"fMarkerColor\":4,\"fMarkerStyle\":26,\"fMarkerSize\":1,\"fObject\":{\"$ref\":72},\"fLabel\":\"LR multiplicity\",\"fOption\":\"ep\"},{\"_typename\":\"TLegendEntry\",\"fUniqueID\":0,\"fBits\":50331656,\"fTextAngle\":0,\"fTextSize\":0,\"fTextAlign\":0,\"fTextColor\":0,\"fTextFont\":62,\"fLineColor\":1,\"fLineStyle\":1,\"fLineWidth\":1,\"fFillColor\":0,\"fFillStyle\":0,\"fMarkerColor\":1,\"fMarkerStyle\":33,\"fMarkerSize\":1,\"fObject\":{\"$ref\":7},\"fLabel\":\"AND (HR&LR): WP = 7.34#pm 0.07 (kV) \",\"fOption\":\"lep\"},{\"_typename\":\"TLegendEntry\",\"fUniqueID\":0,\"fBits\":50331656,\"fTextAngle\":0,\"fTextSize\":0,\"fTextAlign\":0,\"fTextColor\":0,\"fTextFont\":62,\"fLineColor\":1,\"fLineStyle\":1,\"fLineWidth\":1,\"fFillColor\":0,\"fFillStyle\":0,\"fMarkerColor\":1,\"fMarkerStyle\":21,\"fMarkerSize\":1,\"fObject\":{\"$ref\":7},\"fLabel\":\" WP_{eff} = 0.972#pm0.004\",\"fOption\":\"\"},{\"_typename\":\"TLegendEntry\",\"fUniqueID\":0,\"fBits\":50331656,\"fTextAngle\":0,\"fTextSize\":0,\"fTextAlign\":0,\"fTextColor\":0,\"fTextFont\":62,\"fLineColor\":1,\"fLineStyle\":1,\"fLineWidth\":1,\"fFillColor\":0,\"fFillStyle\":0,\"fMarkerColor\":1,\"fMarkerStyle\":21,\"fMarkerSize\":1,\"fObject\":{\"$ref\":7},\"fLabel\":\" plateau_{eff} = 0.981#pm0.004\",\"fOption\":\"\"},{\"_typename\":\"TLegendEntry\",\"fUniqueID\":0,\"fBits\":50331656,\"fTextAngle\":0,\"fTextSize\":0,\"fTextAlign\":0,\"fTextColor\":0,\"fTextFont\":62,\"fLineColor\":1,\"fLineStyle\":1,\"fLineWidth\":1,\"fFillColor\":0,\"fFillStyle\":0,\"fMarkerColor\":1,\"fMarkerStyle\":21,\"fMarkerSize\":1,\"fObject\":{\"$ref\":58},\"fLabel\":\"AND multiplicity\",\"fOption\":\"ep\"},{\"_typename\":\"TLegendEntry\",\"fUniqueID\":0,\"fBits\":50331656,\"fTextAngle\":0,\"fTextSize\":0,\"fTextAlign\":0,\"fTextColor\":0,\"fTextFont\":62,\"fLineColor\":1,\"fLineStyle\":2,\"fLineWidth\":1,\"fFillColor\":0,\"fFillStyle\":0,\"fMarkerColor\":1,\"fMarkerStyle\":21,\"fMarkerSize\":1,\"fObject\":{\"$ref\":39},\"fLabel\":\"AND Working Point (WP)\",\"fOption\":\"l\"},{\"_typename\":\"TLegendEntry\",\"fUniqueID\":0,\"fBits\":50331656,\"fTextAngle\":0,\"fTextSize\":0,\"fTextAlign\":0,\"fTextColor\":0,\"fTextFont\":62,\"fLineColor\":1,\"fLineStyle\":1,\"fLineWidth\":1,\"fFillColor\":0,\"fFillStyle\":0,\"fMarkerColor\":1,\"fMarkerStyle\":20,\"fMarkerSize\":1,\"fObject\":{\"_typename\":\"TGraphErrors\",\"fUniqueID\":0,\"fBits\":50332672,\"fName\":\"gr_0_middle_CBclusterSize\",\"fTitle\":\"\",\"fLineColor\":1,\"fLineStyle\":1,\"fLineWidth\":1,\"fFillColor\":0,\"fFillStyle\":1000,\"fMarkerColor\":1,\"fMarkerStyle\":20,\"fMarkerSize\":1,\"fNpoints\":9,\"fX\":[6.6,6.7,6.9,7,7.1,7.2,7.4,7.5,7.6],\"fY\":[1.38095238095238,1.40845070422535,1.35,1.29935275080906,1.39931350114416,1.49690721649485,1.53163444639719,1.57683024939662,1.58308605341246],\"fFunctions\":{\"_typename\":\"TList\",\"name\":\"TList\",\"arr\":[],\"opt\":[]},\"fHistogram\":{\"_typename\":\"TH1F\",\"fUniqueID\":0,\"fBits\":50332168,\"fName\":\"gr_0_middle_CBclusterSize\",\"fTitle\":\"\",\"fLineColor\":1,\"fLineStyle\":0,\"fLineWidth\":1,\"fFillColor\":0,\"fFillStyle\":1001,\"fMarkerColor\":1,\"fMarkerStyle\":20,\"fMarkerSize\":1,\"fNcells\":102,\"fXaxis\":{\"_typename\":\"TAxis\",\"fUniqueID\":0,\"fBits\":50331656,\"fName\":\"xaxis\",\"fTitle\":\"\",\"fNdivisions\":510,\"fAxisColor\":1,\"fLabelColor\":1,\"fLabelFont\":42,\"fLabelOffset\":0.005,\"fLabelSize\":0.035,\"fTickLength\":0.03,\"fTitleOffset\":1,\"fTitleSize\":0.035,\"fTitleColor\":1,\"fTitleFont\":42,\"fNbins\":100,\"fXmin\":0,\"fXmax\":7.8,\"fXbins\":[],\"fFirst\":0,\"fLast\":0,\"fBits2\":0,\"fTimeDisplay\":false,\"fTimeFormat\":\"\",\"fLabels\":null,\"fModLabs\":null},\"fYaxis\":{\"_typename\":\"TAxis\",\"fUniqueID\":0,\"fBits\":50331656,\"fName\":\"yaxis\",\"fTitle\":\"\",\"fNdivisions\":510,\"fAxisColor\":1,\"fLabelColor\":1,\"fLabelFont\":42,\"fLabelOffset\":0.005,\"fLabelSize\":0.035,\"fTickLength\":0.03,\"fTitleOffset\":0,\"fTitleSize\":0.035,\"fTitleColor\":1,\"fTitleFont\":42,\"fNbins\":1,\"fXmin\":1.24426150871615,\"fXmax\":1.63797294968107,\"fXbins\":[],\"fFirst\":0,\"fLast\":0,\"fBits2\":0,\"fTimeDisplay\":false,\"fTimeFormat\":\"\",\"fLabels\":null,\"fModLabs\":null},\"fZaxis\":{\"_typename\":\"TAxis\",\"fUniqueID\":0,\"fBits\":50331648,\"fName\":\"zaxis\",\"fTitle\":\"\",\"fNdivisions\":510,\"fAxisColor\":1,\"fLabelColor\":1,\"fLabelFont\":42,\"fLabelOffset\":0.007,\"fLabelSize\":0.05,\"fTickLength\":0.03,\"fTitleOffset\":1,\"fTitleSize\":0.06,\"fTitleColor\":1,\"fTitleFont\":42,\"fNbins\":1,\"fXmin\":0,\"fXmax\":1,\"fXbins\":[],\"fFirst\":0,\"fLast\":0,\"fBits2\":0,\"fTimeDisplay\":false,\"fTimeFormat\":\"\",\"fLabels\":null,\"fModLabs\":null},\"fBarOffset\":0,\"fBarWidth\":1000,\"fEntries\":0,\"fTsumw\":0,\"fTsumw2\":0,\"fTsumwx\":0,\"fTsumwx2\":0,\"fMaximum\":1.63797294968107,\"fMinimum\":1.24426150871615,\"fNormFactor\":0,\"fContour\":[],\"fSumw2\":[],\"fOption\":\"\",\"fFunctions\":{\"_typename\":\"TList\",\"name\":\"TList\",\"arr\":[],\"opt\":[]},\"fBufferSize\":0,\"fBuffer\":[],\"fBinStatErrOpt\":0,\"fStatOverflows\":2,\"fArray\":[0,0,0,0,0,0,0,0,0,0,0,0,0,0,0,0,0,0,0,0,0,0,0,0,0,0,0,0,0,0,0,0,0,0,0,0,0,0,0,0,0,0,0,0,0,0,0,0,0,0,0,0,0,0,0,0,0,0,0,0,0,0,0,0,0,0,0,0,0,0,0,0,0,0,0,0,0,0,0,0,0,0,0,0,0,0,0,0,0,0,0,0,0,0,0,0,0,0,0,0,0,0]},\"fMinimum\":-1111,\"fMaximum\":-1111,\"fEX\":[0,0,0,0,0,0,0,0,0],\"fEY\":[0.100747663907134,0.0967175310521716,0.0330893851167925,0.0222819553458353,0.0218783805878239,0.0238786282004949,0.022734635321217,0.0233363755730257,0.0220776095215275]},\"fLabel\":\"Cluster Size\",\"fOption\":\"lep\"},{\"_typename\":\"TLegendEntry\",\"fUniqueID\":0,\"fBits\":50331656,\"fTextAngle\":0,\"fTextSize\":0,\"fTextAlign\":0,\"fTextColor\":0,\"fTextFont\":62,\"fLineColor\":1,\"fLineStyle\":1,\"fLineWidth\":1,\"fFillColor\":0,\"fFillStyle\":0,\"fMarkerColor\":1,\"fMarkerStyle\":21,\"fMarkerSize\":1,\"fObject\":{\"$ref\":58},\"fLabel\":\"Number of Cluster\",\"fOption\":\"lep\"}],\"opt\":[\"h\",\"lep\",\"\",\"\",\"ep\",\"lep\",\"\",\"\",\"ep\",\"lep\",\"\",\"\",\"ep\",\"l\",\"lep\",\"lep\"]},\"fEntrySeparation\":0.1,\"fMargin\":0.25,\"fNColumns\":1,\"fColumnSeparation\":0},{\"_typename\":\"TLatex\",\"fUniqueID\":0,\"fBits\":50331656,\"fName\":\"\",\"fTitle\":\"1.4mm improved RPC FEBv1.1B48R\",\"fTextAngle\":0,\"fTextSize\":16,\"fTextAlign\":11,\"fTextColor\":1,\"fTextFont\":43,\"fX\":5.5,\"fY\":14,\"fLineColor\":1,\"fLineStyle\":1,\"fLineWidth\":2,\"fLimitFactorSize\":3,\"fOriginSize\":0.0338983050847458},{\"_typename\":\"TLatex\",\"fUniqueID\":0,\"fBits\":50331656,\"fName\":\"\",\"fTitle\":\"#splitline{I_{bot}}{I_{top}} (#muA)  \",\"fTextAngle\":0,\"fTextSize\":16,\"fTextAlign\":11,\"fTextColor\":1,\"fTextFont\":14,\"fX\":5.5,\"fY\":-2,\"fLineColor\":1,\"fLineStyle\":1,\"fLineWidth\":2,\"fLimitFactorSize\":3,\"fOriginSize\":0.0338983050847458}],\"opt\":[\"\",\"AP\",\"\",\"\",\"\",\"\"]},\"fExecs\":{\"_typename\":\"TList\",\"name\":\"TList\",\"arr\":[],\"opt\":[]},\"fName\":\"p2\",\"fTitle\":\"\",\"fNumPaletteColor\":0,\"fNextPaletteColor\":0}],\"opt\":[\"\",\"AP\",\"\",\"\",\"\",\"\",\"\",\"\",\"\"]},\"fExecs\":{\"_typename\":\"TList\",\"name\":\"TList\",\"arr\":[],\"opt\":[]},\"fName\":\"p1\",\"fTitle\":\"\",\"fNumPaletteColor\":0,\"fNextPaletteColor\":0},{\"_typename\":\"TLatex\",\"fUniqueID\":0,\"fBits\":50348041,\"fName\":\"\",\"fTitle\":\"GIF++               \",\"fTextAngle\":0,\"fTextSize\":0.03,\"fTextAlign\":31,\"fTextColor\":1,\"fTextFont\":42,\"fX\":0.980000019073486,\"fY\":0.959999978542328,\"fLineColor\":1,\"fLineStyle\":1,\"fLineWidth\":2,\"fLimitFactorSize\":3,\"fOriginSize\":0.0300000011920929},{\"_typename\":\"TLatex\",\"fUniqueID\":0,\"fBits\":50348041,\"fName\":\"\",\"fTitle\":\"CMS \",\"fTextAngle\":0,\"fTextSize\":0.0375,\"fTextAlign\":11,\"fTextColor\":1,\"fTextFont\":61,\"fX\":0.159999996423721,\"fY\":0.959999978542328,\"fLineColor\":1,\"fLineStyle\":1,\"fLineWidth\":2,\"fLimitFactorSize\":3,\"fOriginSize\":0.04},{\"_typename\":\"TLatex\",\"fUniqueID\":0,\"fBits\":50348041,\"fName\":\"\",\"fTitle\":\"    Preliminary \",\"fTextAngle\":0,\"fTextSize\":0.0285,\"fTextAlign\":11,\"fTextColor\":1,\"fTextFont\":52,\"fX\":0.196899995207787,\"fY\":0.959999978542328,\"fLineColor\":1,\"fLineStyle\":1,\"fLineWidth\":2,\"fLimitFactorSize\":3,\"fOriginSize\":0.0285000000149012}],\"opt\":[\"\",\"\",\"\",\"\"]},\"fExecs\":null,\"fName\":\"FEBv1i1b_1711\",\"fTitle\":\"comp\",\"fNumPaletteColor\":0,\"fNextPaletteColor\":0,\"fDISPLAY\":\"$DISPLAY\",\"fDoubleBuffer\":0,\"fRetained\":true,\"fXsizeUser\":0,\"fYsizeUser\":0,\"fXsizeReal\":20,\"fYsizeReal\":14.28571,\"fWindowTopX\":0,\"fWindowTopY\":0,\"fWindowWidth\":0,\"fWindowHeight\":0,\"fCw\":696,\"fCh\":472,\"fCatt\":{\"_typename\":\"TAttCanvas\",\"fXBetween\":2,\"fYBetween\":2,\"fTitleFromTop\":1.2,\"fXdate\":0.2,\"fYdate\":0.3,\"fAdate\":1},\"kMoveOpaque\":true,\"kResizeOpaque\":true,\"fHighLightColor\":2,\"fBatch\":true,\"kShowEventStatus\":false,\"kAutoExec\":true,\"kMenuBar\":true});\n",
       "       Core.draw(\"root_plot_1\", obj, \"\");\n",
       "     }\n",
       " );\n",
       "</script>\n"
      ],
      "text/plain": [
       "<IPython.core.display.HTML object>"
      ]
     },
     "metadata": {},
     "output_type": "display_data"
    }
   ],
   "source": [
    "\n",
    "c = ROOT.TCanvas(cName, \"comp\", 200, 10, 700, 500);\n",
    "p1 = ROOT.TPad(\"p1\", \"\", 0, 0, 1, 1);\n",
    "#p1.SetGrid();\n",
    "p2 = ROOT.TPad(\"p2\", \"\", 0, 0, 1, 1);\n",
    "# p2.SetGrid();\n",
    "\n",
    "# Draw the 1st TMultiGraph\n",
    "p1.SetRightMargin(0.1)\n",
    "p1.SetBottomMargin(0.2)\n",
    "p1.Draw();\n",
    "p1.cd();\n",
    "mg.Draw(\"AP\");\n",
    "\n",
    "lWP.Draw(); \n",
    "plateau1.Draw(); plateau2.Draw();\n",
    "#plateau.Draw();\n",
    "\n",
    "#gPad.Update(); \n",
    "\n",
    "xmin = mg.GetHistogram().GetXaxis().GetXmin();                       \n",
    "xmax = mg.GetHistogram().GetXaxis().GetXmax();\n",
    "ymin = mg.GetHistogram().GetYaxis().GetXmin();\n",
    "ymax = mg.GetHistogram().GetYaxis().GetXmax();\n",
    "print(xmin)\n",
    "print(xmax)\n",
    "print(ymin)\n",
    "print(ymax)\n",
    "dx = (xmax - xmin) / 0.8;\n",
    "dy = (ymax - ymin) / 0.8;\n",
    "yaxis1 = ROOT.TGaxis(xmin, ymin, xmin, ymax, ymin, ymax, 7, \"\");\n",
    "yaxis1.SetName(\"yaxis1\");\n",
    "yaxis1.SetTitle(\"#mu efficiency\")\n",
    "yaxis1.CenterTitle();\n",
    "yaxis1.Draw();\n",
    "\n",
    "xaxis1 = ROOT.TGaxis(xmin, ymin, xmax, ymin, xmin, xmax, 11, \"L\");\n",
    "xaxis1.SetName(\"xaxis1\");\n",
    "xaxis1.SetTitle(\"HV_{eff} (kV)  \")\n",
    "xaxis1.SetTitleOffset(1.15)\n",
    "xaxis1.SetLabelSize(0.03);\n",
    "xaxis1.SetTitleSize(0.03);\n",
    "xaxis1.Draw();             \n",
    "HV = [6.7, 6.9, 7.1, 7.5, 6.6, 7.0, 7.2, 0]\n",
    "bot = [0.9, 1.7, 2.4, 5.1, 0.8, 1.9, 3.1, 0]\n",
    "top = [1.9, 2.6, 3.3, 6.1, 2.0, 3.0, 3.9, 0]\n",
    "IN = 10\n",
    "\n",
    "t2 = ROOT.TLatex(5.5, -2, \"#splitline{I_{bot}}{I_{top}} (#muA)  \");\n",
    "t2.SetTextAlign(11); t2.SetTextFont(14); t2.SetTextSize(16);\n",
    "xaxis2 = ROOT.TGaxis(xmin+legendSpace, ymin - 0.1, xmax-xmaxOffset, ymin - 0.1, xmin+legendSpace+0.1, xmax-xmaxOffset, IN,\"\");\n",
    "xaxis2.SetName(\"xaxis2\");\n",
    "xaxis2.SetTitle(\"\")\n",
    "xaxis2.SetTitleOffset(1.7)\n",
    "xaxis2. SetWmax(1);\n",
    "xaxis2. SetWmin(0);\n",
    "for n in range(0, len(HV)):\n",
    "    if(HV[n] != 0) :\n",
    "        str = \"#splitline{%.1f}{%.1f}\" % (bot[n], top[n]);\n",
    "        xaxis2.ChangeLabel(n,-1,0.02,-1,1,-1,str);\n",
    "    else :\n",
    "        xaxis2.ChangeLabel(n,-1,0,-1,1,-1,\"\");\n",
    "xaxis2.SetLabelSize(0.03);\n",
    "xaxis2.SetTitleSize(0.03);\n",
    "xaxis2.SetTickSize(0.2);\n",
    "xaxis2.Draw();\n",
    "\n",
    "#Draw the 2nd TMultiGraph\n",
    "p2.SetFrameFillStyle(0);\n",
    "p2.SetFillStyle(4000);\n",
    "p2.SetRightMargin(0.1)\n",
    "p2.SetBottomMargin(0.2)\n",
    "p2.Draw();  \n",
    "p2.cd();\n",
    "mg2.Draw(\"AP\");\n",
    "\n",
    "xmin = mg2.GetHistogram().GetXaxis().GetXmin();                       \n",
    "xmax = mg2.GetHistogram().GetXaxis().GetXmax();\n",
    "ymin = mg2.GetHistogram().GetYaxis().GetXmin();\n",
    "ymax = mg2.GetHistogram().GetYaxis().GetXmax();\n",
    "print(xmin)\n",
    "print(xmax)\n",
    "print(ymin)\n",
    "print(ymax)\n",
    "dx = (xmax - xmin) / 0.8;\n",
    "dy = (ymax - ymin) / 0.8;\n",
    "yaxis2 = ROOT.TGaxis(xmax, ymin, xmax, ymax, ymin, ymax, 7,\"+L\");\n",
    "yaxis2.SetName(\"yaxis2\");\n",
    "yaxis2.SetTitle(\"multiplicity\")\n",
    "yaxis2.CenterTitle();\n",
    "yaxis2.Draw();\n",
    "\n",
    "legend.Draw();\n",
    "t1.Draw();\n",
    "t2.Draw();\n",
    "cms_lumi_str = \"CMS_lumi(\"+cName+\", \"+iPeriod+\", \"+iPos+\");\"; gROOT.ProcessLine(cms_lumi_str)\n",
    "\n",
    "#ROOT.disableJSVis()\n",
    "c.Draw()\n",
    "#ROOT.enableJSVis() # jsroot plot mode\n",
    "\n",
    "c.SaveAs(pathToSave + cName + \".root\"); c.SaveAs(pathToSave + cName + \".svg\") \n",
    "c.SaveAs(pathToSave + cName + \".png\"); c.SaveAs(pathToSave + cName + \".pdf\")"
   ]
  },
  {
   "cell_type": "code",
   "execution_count": 12,
   "metadata": {},
   "outputs": [
    {
     "data": {
      "text/html": [
       "\n",
       "<div id=\"root_plot_2\"\n",
       "     style=\"width: 896px; height: 472px\">\n",
       "</div>\n",
       "\n",
       "<script>\n",
       " requirejs.config({\n",
       "     paths: {\n",
       "       'JSRootCore' : 'https://root.cern.ch/js/notebook//scripts/JSRootCore',\n",
       "     }\n",
       "   });\n",
       " require(['JSRootCore'],\n",
       "     function(Core) {\n",
       "       var obj = Core.JSONR_unref({\"_typename\":\"TCanvas\",\"fUniqueID\":0,\"fBits\":53673992,\"fLineColor\":1,\"fLineStyle\":1,\"fLineWidth\":1,\"fFillColor\":0,\"fFillStyle\":1001,\"fLeftMargin\":0.16,\"fRightMargin\":0.02,\"fBottomMargin\":0.13,\"fTopMargin\":0.05,\"fXfile\":2,\"fYfile\":2,\"fAfile\":1,\"fXstat\":0.99,\"fYstat\":0.99,\"fAstat\":2,\"fFrameFillColor\":0,\"fFrameLineColor\":1,\"fFrameFillStyle\":0,\"fFrameLineStyle\":1,\"fFrameLineWidth\":1,\"fFrameBorderSize\":1,\"fFrameBorderMode\":0,\"fX1\":-6,\"fY1\":-0.1,\"fX2\":6,\"fY2\":0.1,\"fXtoAbsPixelk\":448.00005,\"fXtoPixelk\":448.00005,\"fXtoPixel\":74.6666666666667,\"fYtoAbsPixelk\":236.00005,\"fYtoPixelk\":236.00005,\"fYtoPixel\":-2360,\"fUtoAbsPixelk\":5e-5,\"fUtoPixelk\":5e-5,\"fUtoPixel\":896,\"fVtoAbsPixelk\":472.00005,\"fVtoPixelk\":472,\"fVtoPixel\":-472,\"fAbsPixeltoXk\":-6,\"fPixeltoXk\":-6,\"fPixeltoX\":0.0133928571428571,\"fAbsPixeltoYk\":0.1,\"fPixeltoYk\":-0.1,\"fPixeltoY\":-4.23728813559322e-4,\"fXlowNDC\":0,\"fYlowNDC\":0,\"fXUpNDC\":0,\"fYUpNDC\":0,\"fWNDC\":1,\"fHNDC\":1,\"fAbsXlowNDC\":0,\"fAbsYlowNDC\":0,\"fAbsWNDC\":1,\"fAbsHNDC\":1,\"fUxmin\":-6,\"fUymin\":-0.1,\"fUxmax\":6,\"fUymax\":0.1,\"fTheta\":30,\"fPhi\":30,\"fAspectRatio\":0,\"fNumber\":0,\"fTickx\":1,\"fTicky\":1,\"fLogx\":0,\"fLogy\":0,\"fLogz\":0,\"fPadPaint\":0,\"fCrosshair\":0,\"fCrosshairPos\":0,\"fBorderSize\":2,\"fBorderMode\":0,\"fModified\":false,\"fGridx\":false,\"fGridy\":false,\"fAbsCoord\":false,\"fEditable\":true,\"fFixedAspectRatio\":false,\"fPrimitives\":{\"_typename\":\"TList\",\"name\":\"TList\",\"arr\":[{\"_typename\":\"TGaxis\",\"fUniqueID\":0,\"fBits\":50331656,\"fLineColor\":1,\"fLineStyle\":1,\"fLineWidth\":1,\"fX1\":-5.5,\"fY1\":0,\"fX2\":5.5,\"fY2\":0,\"fTextAngle\":0,\"fTextSize\":0.04,\"fTextAlign\":11,\"fTextColor\":1,\"fTextFont\":42,\"fWmin\":0,\"fWmax\":100,\"fGridLength\":0,\"fTickSize\":0.03,\"fLabelOffset\":0.005,\"fLabelSize\":0.04,\"fTitleOffset\":1,\"fTitleSize\":0.05,\"fNdiv\":510,\"fLabelColor\":1,\"fLabelFont\":62,\"fNModLabs\":5,\"fChopt\":\"\",\"fName\":\"axis1\",\"fTitle\":\"Axis Title\",\"fTimeFormat\":\"\",\"fFunctionName\":\"\",\"fModLabs\":{\"_typename\":\"TList\",\"name\":\"TList\",\"arr\":[{\"_typename\":\"TAxisModLab\",\"fUniqueID\":0,\"fBits\":50331648,\"fTextAngle\":-1,\"fTextSize\":-1,\"fTextAlign\":-1,\"fTextColor\":2,\"fTextFont\":-1,\"fLabNum\":1,\"fLabText\":\"\"},{\"_typename\":\"TAxisModLab\",\"fUniqueID\":0,\"fBits\":50331648,\"fTextAngle\":-1,\"fTextSize\":0,\"fTextAlign\":-1,\"fTextColor\":-1,\"fTextFont\":-1,\"fLabNum\":3,\"fLabText\":\"\"},{\"_typename\":\"TAxisModLab\",\"fUniqueID\":0,\"fBits\":50331648,\"fTextAngle\":30,\"fTextSize\":-1,\"fTextAlign\":-1,\"fTextColor\":-1,\"fTextFont\":-1,\"fLabNum\":5,\"fLabText\":\"\"},{\"_typename\":\"TAxisModLab\",\"fUniqueID\":0,\"fBits\":50331648,\"fTextAngle\":-1,\"fTextSize\":-1,\"fTextAlign\":-1,\"fTextColor\":3,\"fTextFont\":-1,\"fLabNum\":6,\"fLabText\":\"6th label\"},{\"_typename\":\"TAxisModLab\",\"fUniqueID\":0,\"fBits\":50331648,\"fTextAngle\":-1,\"fTextSize\":-1,\"fTextAlign\":-1,\"fTextColor\":3,\"fTextFont\":-1,\"fLabNum\":-2,\"fLabText\":\"2nd to last label\"}],\"opt\":[\"\",\"\",\"\",\"\",\"\"]}}],\"opt\":[\"\"]},\"fExecs\":null,\"fName\":\"c221\",\"fTitle\":\"Examples of Gaxis\",\"fNumPaletteColor\":0,\"fNextPaletteColor\":0,\"fDISPLAY\":\"$DISPLAY\",\"fDoubleBuffer\":0,\"fRetained\":true,\"fXsizeUser\":0,\"fYsizeUser\":0,\"fXsizeReal\":20,\"fYsizeReal\":11.11111,\"fWindowTopX\":0,\"fWindowTopY\":0,\"fWindowWidth\":0,\"fWindowHeight\":0,\"fCw\":896,\"fCh\":472,\"fCatt\":{\"_typename\":\"TAttCanvas\",\"fXBetween\":2,\"fYBetween\":2,\"fTitleFromTop\":1.2,\"fXdate\":0.2,\"fYdate\":0.3,\"fAdate\":1},\"kMoveOpaque\":true,\"kResizeOpaque\":true,\"fHighLightColor\":2,\"fBatch\":true,\"kShowEventStatus\":false,\"kAutoExec\":true,\"kMenuBar\":true});\n",
       "       Core.draw(\"root_plot_2\", obj, \"\");\n",
       "     }\n",
       " );\n",
       "</script>\n"
      ],
      "text/plain": [
       "<IPython.core.display.HTML object>"
      ]
     },
     "metadata": {},
     "output_type": "display_data"
    }
   ],
   "source": [
    "c2 = ROOT.TCanvas(\"c221\",\"Examples of Gaxis\",10,10,900,500);\n",
    "c2.Range(-6,-0.1,6,0.1);\n",
    "axis1 = ROOT.TGaxis(-5.5,0.,5.5,0.,0.0,100,510,\"\");\n",
    "axis1.SetName(\"axis1\");\n",
    "axis1.SetTitle(\"Axis Title\");\n",
    "axis1.SetTitleSize(0.05);\n",
    "#axis1.SetTitleColor(kBlue);\n",
    "axis1.SetTitleFont(42);\n",
    "axis1.ChangeLabel(1,-1,-1,-1,2);\n",
    "axis1.ChangeLabel(3,-1,0.);\n",
    "axis1.ChangeLabel(5,30.,-1,0);\n",
    "axis1.ChangeLabel(6,-1,-1,-1,3,-1,\"6th label\");\n",
    "axis1.ChangeLabel(-2,-1,-1,-1,3,-1,\"2nd to last label\");\n",
    "axis1.Draw();\n",
    "c2.Draw()"
   ]
  },
  {
   "cell_type": "code",
   "execution_count": null,
   "metadata": {},
   "outputs": [],
   "source": []
  }
 ],
 "metadata": {
  "kernelspec": {
   "display_name": "Python 3",
   "language": "python",
   "name": "python3"
  },
  "language_info": {
   "codemirror_mode": {
    "name": "ipython",
    "version": 3
   },
   "file_extension": ".py",
   "mimetype": "text/x-python",
   "name": "python",
   "nbconvert_exporter": "python",
   "pygments_lexer": "ipython3",
   "version": "3.9.2"
  }
 },
 "nbformat": 4,
 "nbformat_minor": 2
}
