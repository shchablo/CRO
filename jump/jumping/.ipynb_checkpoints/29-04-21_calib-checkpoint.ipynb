{
 "cells": [
  {
   "cell_type": "markdown",
   "id": "4e65e523",
   "metadata": {},
   "source": [
    "# Calibration of ADCs"
   ]
  },
  {
   "cell_type": "code",
   "execution_count": 36,
   "id": "82bf8263",
   "metadata": {},
   "outputs": [
    {
     "data": {
      "text/plain": [
       "1"
      ]
     },
     "execution_count": 36,
     "metadata": {},
     "output_type": "execute_result"
    },
    {
     "name": "stderr",
     "output_type": "stream",
     "text": [
      "In file included from input_line_105:1:\n",
      "\u001b[1m/home/const/projects/JUMP/libs/RoEvent.h:38:4: \u001b[0m\u001b[0;1;35mwarning: \u001b[0m\u001b[1mambiguous expansion of macro 'ClassDef' [-Wambiguous-macro]\u001b[0m\n",
      "   ClassDef(RoHeader, 1)\n",
      "\u001b[0;1;32m   ^\n",
      "\u001b[0m\u001b[1m/home/const/miniconda/envs/default_env/include/Rtypes.h:325:9: \u001b[0m\u001b[0;1;30mnote: \u001b[0mexpanding this definition of 'ClassDef'\u001b[0m\n",
      "#define ClassDef(name,id)                            \\\n",
      "\u001b[0;1;32m        ^\n",
      "\u001b[0m\u001b[1minput_line_4:22:9: \u001b[0m\u001b[0;1;30mnote: \u001b[0mother definition of 'ClassDef'\u001b[0m\n",
      "#define ClassDef(name, id) \\\n",
      "\u001b[0;1;32m        ^\n",
      "\u001b[0mIn file included from input_line_105:1:\n",
      "\u001b[1m/home/const/projects/JUMP/libs/RoEvent.h:79:4: \u001b[0m\u001b[0;1;35mwarning: \u001b[0m\u001b[1mambiguous expansion of macro 'ClassDef' [-Wambiguous-macro]\u001b[0m\n",
      "   ClassDef(RoPayload, 2)\n",
      "\u001b[0;1;32m   ^\n",
      "\u001b[0m\u001b[1m/home/const/miniconda/envs/default_env/include/Rtypes.h:325:9: \u001b[0m\u001b[0;1;30mnote: \u001b[0mexpanding this definition of 'ClassDef'\u001b[0m\n",
      "#define ClassDef(name,id)                            \\\n",
      "\u001b[0;1;32m        ^\n",
      "\u001b[0m\u001b[1minput_line_4:22:9: \u001b[0m\u001b[0;1;30mnote: \u001b[0mother definition of 'ClassDef'\u001b[0m\n",
      "#define ClassDef(name, id) \\\n",
      "\u001b[0;1;32m        ^\n",
      "\u001b[0mIn file included from input_line_105:1:\n",
      "\u001b[1m/home/const/projects/JUMP/libs/RoEvent.h:115:3: \u001b[0m\u001b[0;1;35mwarning: \u001b[0m\u001b[1mambiguous expansion of macro 'ClassDef' [-Wambiguous-macro]\u001b[0m\n",
      "  ClassDef(RoEvent, 1)\n",
      "\u001b[0;1;32m  ^\n",
      "\u001b[0m\u001b[1m/home/const/miniconda/envs/default_env/include/Rtypes.h:325:9: \u001b[0m\u001b[0;1;30mnote: \u001b[0mexpanding this definition of 'ClassDef'\u001b[0m\n",
      "#define ClassDef(name,id)                            \\\n",
      "\u001b[0;1;32m        ^\n",
      "\u001b[0m\u001b[1minput_line_4:22:9: \u001b[0m\u001b[0;1;30mnote: \u001b[0mother definition of 'ClassDef'\u001b[0m\n",
      "#define ClassDef(name, id) \\\n",
      "\u001b[0;1;32m        ^\n",
      "\u001b[0m"
     ]
    }
   ],
   "source": [
    "import numpy as np\n",
    "import pyfftw\n",
    "\n",
    "import ROOT\n",
    "from ROOT import gROOT\n",
    "from ROOT import gStyle\n",
    "%jsroot on\n",
    "\n",
    "#--------------------------------------------\n",
    "\n",
    "gROOT.LoadMacro(\"../style/DUNE/tdrstyle.C\")\n",
    "gROOT.ProcessLine(\"setTDRStyle();\")\n",
    "gROOT.LoadMacro(\"../style/DUNE/DUNE_lumi.C\")\n",
    "\n",
    "gStyle.SetOptFit(0)\n",
    "ROOT.gInterpreter.AddIncludePath('../libs/')\n",
    "ROOT.gInterpreter.Declare('#include \"RoEvent.h\"')\n",
    "ROOT.gSystem.Load('../libs/libRoEvent.so')"
   ]
  },
  {
   "cell_type": "code",
   "execution_count": 45,
   "id": "e38a08a3",
   "metadata": {},
   "outputs": [
    {
     "name": "stdout",
     "output_type": "stream",
     "text": [
      "******************************************************************************\n",
      "*Tree    :data      : data                                                   *\n",
      "*Entries :      206 : Total =     33751480010 bytes  File  Size =  246675466 *\n",
      "*        :          : Tree compression factor = 136.83                       *\n",
      "******************************************************************************\n",
      "*Branch  :events                                                             *\n",
      "*Entries :      206 : BranchElement (see below)                              *\n",
      "*............................................................................*\n",
      "*Br    0 :fUniqueID : UInt_t                                                 *\n",
      "*Entries :      206 : Total  Size=       1937 bytes  File Size  =        776 *\n",
      "*Baskets :        8 : Basket Size=      51200 bytes  Compression=   1.85     *\n",
      "*............................................................................*\n",
      "*Br    1 :fBits     : UInt_t                                                 *\n",
      "*Entries :      206 : Total  Size=       2777 bytes  File Size  =       1268 *\n",
      "*Baskets :        8 : Basket Size=      51200 bytes  Compression=   1.80     *\n",
      "*............................................................................*\n",
      "*Br    2 :fEvtHdr   :                                                        *\n",
      "*Entries :      206 : Total  Size=       6233 bytes  One basket in memory    *\n",
      "*Baskets :        0 : Basket Size=      32000 bytes  Compression=   1.00     *\n",
      "*............................................................................*\n",
      "*Br    3 :fEvtHdr.fEvtNum : UInt_t                                           *\n",
      "*Entries :      206 : Total  Size=       2009 bytes  File Size  =       1155 *\n",
      "*Baskets :        8 : Basket Size=      51200 bytes  Compression=   1.28     *\n",
      "*............................................................................*\n",
      "*Br    4 :fEvtHdr.fValid : Bool_t                                            *\n",
      "*Entries :      206 : Total  Size=       1379 bytes  File Size  =        808 *\n",
      "*Baskets :        8 : Basket Size=      51200 bytes  Compression=   1.06     *\n",
      "*............................................................................*\n",
      "*Br    5 :fEvtHdr.fGood : Bool_t                                             *\n",
      "*Entries :      206 : Total  Size=       1367 bytes  File Size  =        800 *\n",
      "*Baskets :        8 : Basket Size=      51200 bytes  Compression=   1.06     *\n",
      "*............................................................................*\n",
      "*Br    6 :fEvtHdr.fFlags[8] : UChar_t                                        *\n",
      "*Entries :      206 : Total  Size=       3742 bytes  File Size  =       1470 *\n",
      "*Baskets :        8 : Basket Size=      51200 bytes  Compression=   2.18     *\n",
      "*............................................................................*\n",
      "*Br    7 :fEvtHdr.fRunNum : UInt_t                                           *\n",
      "*Entries :      206 : Total  Size=       2009 bytes  File Size  =        848 *\n",
      "*Baskets :        8 : Basket Size=      51200 bytes  Compression=   1.75     *\n",
      "*............................................................................*\n",
      "*Br    8 :fEvtHdr.fRunFlags : UChar_t                                        *\n",
      "*Entries :      206 : Total  Size=       1415 bytes  File Size  =        840 *\n",
      "*Baskets :        8 : Basket Size=      51200 bytes  Compression=   1.05     *\n",
      "*............................................................................*\n",
      "*Br    9 :fEvtHdr.fTrigType : UChar_t                                        *\n",
      "*Entries :      206 : Total  Size=       1415 bytes  File Size  =        832 *\n",
      "*Baskets :        8 : Basket Size=      51200 bytes  Compression=   1.06     *\n",
      "*............................................................................*\n",
      "*Br   10 :fEvtHdr.fTrigNum : UInt_t                                          *\n",
      "*Entries :      206 : Total  Size=       2021 bytes  File Size  =        856 *\n",
      "*Baskets :        8 : Basket Size=      51200 bytes  Compression=   1.74     *\n",
      "*............................................................................*\n",
      "*Br   11 :fEvtHdr.fTvSec : Long_t                                            *\n",
      "*Entries :      206 : Total  Size=       2821 bytes  File Size  =        872 *\n",
      "*Baskets :        8 : Basket Size=      51200 bytes  Compression=   2.63     *\n",
      "*............................................................................*\n",
      "*Br   12 :fEvtHdr.fTvNsec : Long_t                                           *\n",
      "*Entries :      206 : Total  Size=       2833 bytes  File Size  =        824 *\n",
      "*Baskets :        8 : Basket Size=      51200 bytes  Compression=   2.80     *\n",
      "*............................................................................*\n",
      "*Br   13 :fNumPayloads : Int_t                                               *\n",
      "*Entries :      206 : Total  Size=       1973 bytes  File Size  =        824 *\n",
      "*Baskets :        8 : Basket Size=      51200 bytes  Compression=   1.77     *\n",
      "*............................................................................*\n",
      "*Br   14 :fPayloads : Int_t fPayloads_                                       *\n",
      "*Entries :      206 : Total  Size=      11092 bytes  File Size  =        800 *\n",
      "*Baskets :        8 : Basket Size=      32000 bytes  Compression=   1.79     *\n",
      "*............................................................................*\n",
      "*Br   15 :fPayloads.fUniqueID : UInt_t fUniqueID[fPayloads_]                 *\n",
      "*Entries :      206 : Total  Size=      54941 bytes  File Size  =       1570 *\n",
      "*Baskets :        8 : Basket Size=      51200 bytes  Compression=  34.59     *\n",
      "*............................................................................*\n",
      "*Br   16 :fPayloads.fBits : UInt_t fBits[fPayloads_]                         *\n",
      "*Entries :      206 : Total  Size=      54893 bytes  File Size  =       1599 *\n",
      "*Baskets :        8 : Basket Size=      51200 bytes  Compression=  33.95     *\n",
      "*............................................................................*\n",
      "*Br   17 :fPayloads.fID : UShort_t fID[fPayloads_]                           *\n",
      "*Entries :      206 : Total  Size=      28501 bytes  File Size  =       1396 *\n",
      "*Baskets :        8 : Basket Size=      51200 bytes  Compression=  19.98     *\n",
      "*............................................................................*\n",
      "*Br   18 :fPayloads.fCh : UShort_t fCh[fPayloads_]                           *\n",
      "*Entries :      206 : Total  Size=      28501 bytes  File Size  =       2208 *\n",
      "*Baskets :        8 : Basket Size=      51200 bytes  Compression=  12.63     *\n",
      "*............................................................................*\n",
      "*Br   19 :fPayloads.fNsaCRO : UInt_t fNsaCRO[fPayloads_]                     *\n",
      "*Entries :      206 : Total  Size=      54917 bytes  File Size  =       1619 *\n",
      "*Baskets :        8 : Basket Size=      51200 bytes  Compression=  33.54     *\n",
      "*............................................................................*\n",
      "*Br   20 :fPayloads.fCRO : TArrayI fCRO[fPayloads_]                          *\n",
      "*Entries :206 : Total  Size=33751116443 bytes  File Size  = 246645375 *\n",
      "*Baskets :      206 : Basket Size=   25600000 bytes  Compression= 136.84     *\n",
      "*............................................................................*\n",
      "*Br   21 :fPayloads.fNsaLRO : UInt_t fNsaLRO[fPayloads_]                     *\n",
      "*Entries :      206 : Total  Size=      54917 bytes  File Size  =       1554 *\n",
      "*Baskets :        8 : Basket Size=      51200 bytes  Compression=  34.94     *\n",
      "*............................................................................*\n",
      "*Br   22 :fPayloads.fLRO : TArrayI fLRO[fPayloads_]                          *\n",
      "*Entries :      206 : Total  Size=      54881 bytes  File Size  =       1530 *\n",
      "*Baskets :        8 : Basket Size=      51200 bytes  Compression=  35.47     *\n",
      "*............................................................................*\n",
      "======> EVENT:1\n",
      " events          = (RoEvent*)0x7f46f5fc8510\n",
      " fUniqueID       = 0\n",
      " fBits           = 33554432\n",
      " fEvtHdr.fEvtNum = \n",
      " fEvtHdr.fValid  = \n",
      " fEvtHdr.fGood   = \n",
      " fEvtHdr.fFlags[8] = \n",
      " fEvtHdr.fRunNum = \n",
      " fEvtHdr.fRunFlags = \n",
      " fEvtHdr.fTrigType = \n",
      " fEvtHdr.fTrigNum = \n",
      " fEvtHdr.fTvSec  = \n",
      " fEvtHdr.fTvNsec = \n",
      " fNumPayloads    = \n",
      " fPayloads       = 1\n",
      " fPayloads.fUniqueID = \n",
      " fPayloads.fBits = \n",
      " fPayloads.fID   = \n",
      " fPayloads.fCh   = \n",
      " fPayloads.fNsaCRO = \n",
      " fPayloads.fCRO  = \n",
      " fPayloads.fNsaLRO = \n",
      " fPayloads.fLRO  = \n"
     ]
    }
   ],
   "source": [
    "#get data from RoEvent class (to generate it use dq script)\n",
    "f = ROOT.TFile(\"../tmp/raw_test.root\")\n",
    "myTree = f.data\n",
    "myTree.Print()\n",
    "myTree.Show(1)\n",
    "for entry in myTree:         \n",
    "     # Now you have acess to the leaves/branches of each entry in the tree, e.g.#\n",
    "    events = entry.events.GetBranch(\"fPayloads\")\n",
    "    "
   ]
  },
  {
   "cell_type": "code",
   "execution_count": 8,
   "id": "dca4d497",
   "metadata": {},
   "outputs": [
    {
     "data": {
      "image/png": "[encoded data removed]",
      "text/plain": [
       "<Figure size 432x288 with 1 Axes>"
      ]
     },
     "metadata": {
      "needs_background": "light"
     },
     "output_type": "display_data"
    }
   ],
   "source": [
    "import matplotlib.pyplot as plt\n",
    "t = np.linspace(0, 0.5, 500)\n",
    "s = np.sin(40 * 2 * np.pi * t) + 0.5 * np.sin(90 * 2 * np.pi * t)\n",
    "\n",
    "plt.ylabel(\"Amplitude\")\n",
    "plt.xlabel(\"Time [s]\")\n",
    "plt.plot(t, s)\n",
    "plt.show()"
   ]
  },
  {
   "cell_type": "code",
   "execution_count": 9,
   "id": "3d4d8803",
   "metadata": {},
   "outputs": [
    {
     "name": "stdout",
     "output_type": "stream",
     "text": [
      "Value at index 0:\t(0.00038048349283947847-0.060555031761899594j) \n",
      "Value at index 499:\t(0.0003804834928395895+0.06055503176189955j)\n",
      "Value at index 1:\t(0.0015317714831370177-0.12188808528069492j) \n",
      "Value at index 498:\t(0.0015317714831372675+0.121888085280695j)\n"
     ]
    }
   ],
   "source": [
    "fft = pyfftw.interfaces.numpy_fft.fft(s)\n",
    "for i in range(2):\n",
    "    print(\"Value at index {}:\\t{}\".format(i, fft[i + 1]), \"\\nValue at index {}:\\t{}\".format(fft.size -1 - i, fft[-1 - i]))"
   ]
  },
  {
   "cell_type": "code",
   "execution_count": 10,
   "id": "c75c7646",
   "metadata": {},
   "outputs": [
    {
     "data": {
      "image/png": "[encoded data removed]",
      "text/plain": [
       "<Figure size 432x288 with 1 Axes>"
      ]
     },
     "metadata": {
      "needs_background": "light"
     },
     "output_type": "display_data"
    }
   ],
   "source": [
    "T = t[1] - t[0]  # sampling interval \n",
    "N = s.size\n",
    "\n",
    "# 1/T = frequency\n",
    "f = np.linspace(0, 1 / T, N)\n",
    "\n",
    "plt.ylabel(\"Amplitude\")\n",
    "plt.xlabel(\"Frequency [Hz]\")\n",
    "plt.bar(f[:N // 2], np.abs(fft)[:N // 2] * 1 / N, width=1.5)  # 1 / N is a normalization factor\n",
    "plt.show()"
   ]
  },
  {
   "cell_type": "code",
   "execution_count": 15,
   "id": "f264c38b",
   "metadata": {},
   "outputs": [
    {
     "ename": "NameError",
     "evalue": "name 'ROOT' is not defined",
     "output_type": "error",
     "traceback": [
      "\u001b[0;31m---------------------------------------------------------------------------\u001b[0m",
      "\u001b[0;31mNameError\u001b[0m                                 Traceback (most recent call last)",
      "\u001b[0;32m<ipython-input-15-34977967fd7e>\u001b[0m in \u001b[0;36m<module>\u001b[0;34m\u001b[0m\n\u001b[0;32m----> 1\u001b[0;31m \u001b[0mgr\u001b[0m \u001b[0;34m=\u001b[0m \u001b[0mROOT\u001b[0m\u001b[0;34m.\u001b[0m\u001b[0mTGraphErrors\u001b[0m\u001b[0;34m(\u001b[0m\u001b[0mlen\u001b[0m\u001b[0;34m(\u001b[0m\u001b[0mb\u001b[0m\u001b[0;34m)\u001b[0m\u001b[0;34m,\u001b[0m \u001b[0mb\u001b[0m\u001b[0;34m,\u001b[0m \u001b[0;36m0\u001b[0m\u001b[0;34m,\u001b[0m \u001b[0mc\u001b[0m\u001b[0;34m,\u001b[0m \u001b[0;36m0\u001b[0m\u001b[0;34m)\u001b[0m\u001b[0;34m\u001b[0m\u001b[0;34m\u001b[0m\u001b[0m\n\u001b[0m\u001b[1;32m      2\u001b[0m \u001b[0mgr\u001b[0m\u001b[0;34m.\u001b[0m\u001b[0mSetMarkerColor\u001b[0m\u001b[0;34m(\u001b[0m\u001b[0;36m2\u001b[0m\u001b[0;34m)\u001b[0m\u001b[0;34m;\u001b[0m \u001b[0mgr\u001b[0m\u001b[0;34m.\u001b[0m\u001b[0mSetMarkerStyle\u001b[0m\u001b[0;34m(\u001b[0m\u001b[0;36m20\u001b[0m\u001b[0;34m)\u001b[0m\u001b[0;34m;\u001b[0m \u001b[0mgr\u001b[0m\u001b[0;34m.\u001b[0m\u001b[0mSetMarkerSize\u001b[0m\u001b[0;34m(\u001b[0m\u001b[0;36m1\u001b[0m\u001b[0;34m)\u001b[0m\u001b[0;34m\u001b[0m\u001b[0;34m\u001b[0m\u001b[0m\n\u001b[1;32m      3\u001b[0m \u001b[0mgr\u001b[0m\u001b[0;34m.\u001b[0m\u001b[0mSetLineColor\u001b[0m\u001b[0;34m(\u001b[0m\u001b[0;36m2\u001b[0m\u001b[0;34m)\u001b[0m\u001b[0;34m;\u001b[0m \u001b[0mgr\u001b[0m\u001b[0;34m.\u001b[0m\u001b[0mGetXaxis\u001b[0m\u001b[0;34m(\u001b[0m\u001b[0;34m)\u001b[0m\u001b[0;34m.\u001b[0m\u001b[0mSetTitle\u001b[0m\u001b[0;34m(\u001b[0m\u001b[0;34m\"X\"\u001b[0m\u001b[0;34m)\u001b[0m\u001b[0;34m;\u001b[0m \u001b[0mgr\u001b[0m\u001b[0;34m.\u001b[0m\u001b[0mGetYaxis\u001b[0m\u001b[0;34m(\u001b[0m\u001b[0;34m)\u001b[0m\u001b[0;34m.\u001b[0m\u001b[0mSetTitle\u001b[0m\u001b[0;34m(\u001b[0m\u001b[0;34m\"Y\"\u001b[0m\u001b[0;34m)\u001b[0m\u001b[0;34m\u001b[0m\u001b[0;34m\u001b[0m\u001b[0m\n\u001b[1;32m      4\u001b[0m \u001b[0;34m\u001b[0m\u001b[0m\n\u001b[1;32m      5\u001b[0m \u001b[0;31m#gr.GetXaxis().SetLimits(xmin, xmax); gr.GetYaxis().SetLimits(ymin, ymax)\u001b[0m\u001b[0;34m\u001b[0m\u001b[0;34m\u001b[0m\u001b[0;34m\u001b[0m\u001b[0m\n",
      "\u001b[0;31mNameError\u001b[0m: name 'ROOT' is not defined"
     ]
    }
   ],
   "source": [
    "gr = ROOT.TGraphErrors(len(b), b, 0, c, 0)\n",
    "gr.SetMarkerColor(2); gr.SetMarkerStyle(20); gr.SetMarkerSize(1)\n",
    "gr.SetLineColor(2); gr.GetXaxis().SetTitle(\"X\"); gr.GetYaxis().SetTitle(\"Y\")\n",
    "\n",
    "#gr.GetXaxis().SetLimits(xmin, xmax); gr.GetYaxis().SetLimits(ymin, ymax)\n",
    "#gr.GetXaxis().SetRangeUser(xmin, ymax); gr.GetYaxis().SetRangeUser(ymin, ymax) "
   ]
  },
  {
   "cell_type": "code",
   "execution_count": 4,
   "id": "cad7337b",
   "metadata": {},
   "outputs": [
    {
     "data": {
      "text/html": [
       "\n",
       "\n",
       "<div id=\"root_plot_1619705196246\"\n",
       "     style=\"width: 796px; height: 572px\">\n",
       "</div>\n",
       "<script>\n",
       "if (typeof require !== 'undefined') {\n",
       "\n",
       "    // We are in jupyter notebooks, use require.js which should be configured already\n",
       "    require(['scripts/JSRoot.core'],\n",
       "        function(Core) {\n",
       "           display_root_plot_1619705196246(Core);\n",
       "        }\n",
       "    );\n",
       "\n",
       "} else if (typeof JSROOT !== 'undefined') {\n",
       "\n",
       "   // JSROOT already loaded, just use it\n",
       "   display_root_plot_1619705196246(JSROOT);\n",
       "\n",
       "} else {\n",
       "\n",
       "    // We are in jupyterlab without require.js, directly loading jsroot\n",
       "    // Jupyterlab might be installed in a different base_url so we need to know it.\n",
       "    try {\n",
       "        var base_url = JSON.parse(document.getElementById('jupyter-config-data').innerHTML).baseUrl;\n",
       "    } catch(_) {\n",
       "        var base_url = '/';\n",
       "    }\n",
       "\n",
       "    // Try loading a local version of requirejs and fallback to cdn if not possible.\n",
       "    script_load(base_url + 'static/scripts/JSRoot.core.js', script_success, function(){\n",
       "        console.error('Fail to load JSROOT locally, please check your jupyter_notebook_config.py file')\n",
       "        script_load('https://root.cern/js/5.9.0/scripts/JSRootCore.min.js', script_success, function(){\n",
       "            document.getElementById(\"root_plot_1619705196246\").innerHTML = \"Failed to load JSROOT\";\n",
       "        });\n",
       "    });\n",
       "}\n",
       "\n",
       "function script_load(src, on_load, on_error) {\n",
       "    var script = document.createElement('script');\n",
       "    script.src = src;\n",
       "    script.onload = on_load;\n",
       "    script.onerror = on_error;\n",
       "    document.head.appendChild(script);\n",
       "}\n",
       "\n",
       "function script_success() {\n",
       "   display_root_plot_1619705196246(JSROOT);\n",
       "}\n",
       "\n",
       "function display_root_plot_1619705196246(Core) {\n",
       "   var obj = Core.parse({\"_typename\":\"TCanvas\",\"fUniqueID\":0,\"fBits\":3342344,\"fLineColor\":1,\"fLineStyle\":1,\"fLineWidth\":1,\"fFillColor\":0,\"fFillStyle\":1001,\"fLeftMargin\":0.16,\"fRightMargin\":0.02,\"fBottomMargin\":0.13,\"fTopMargin\":0.05,\"fXfile\":2,\"fYfile\":2,\"fAfile\":1,\"fXstat\":0.99,\"fYstat\":0.99,\"fAstat\":2,\"fFrameFillColor\":0,\"fFrameLineColor\":1,\"fFrameFillStyle\":0,\"fFrameLineStyle\":1,\"fFrameLineWidth\":1,\"fFrameBorderSize\":1,\"fFrameBorderMode\":0,\"fX1\":0,\"fY1\":0,\"fX2\":1,\"fY2\":1,\"fXtoAbsPixelk\":5e-5,\"fXtoPixelk\":5e-5,\"fXtoPixel\":796,\"fYtoAbsPixelk\":572.00005,\"fYtoPixelk\":572.00005,\"fYtoPixel\":-572,\"fUtoAbsPixelk\":5e-5,\"fUtoPixelk\":5e-5,\"fUtoPixel\":796,\"fVtoAbsPixelk\":572.00005,\"fVtoPixelk\":572,\"fVtoPixel\":-572,\"fAbsPixeltoXk\":0,\"fPixeltoXk\":0,\"fPixeltoX\":0.00125628140703518,\"fAbsPixeltoYk\":1,\"fPixeltoYk\":0,\"fPixeltoY\":-0.00174825174825175,\"fXlowNDC\":0,\"fYlowNDC\":0,\"fXUpNDC\":1,\"fYUpNDC\":1,\"fWNDC\":1,\"fHNDC\":1,\"fAbsXlowNDC\":0,\"fAbsYlowNDC\":0,\"fAbsWNDC\":1,\"fAbsHNDC\":1,\"fUxmin\":0,\"fUymin\":0,\"fUxmax\":1,\"fUymax\":1,\"fTheta\":30,\"fPhi\":30,\"fAspectRatio\":0,\"fNumber\":0,\"fTickx\":1,\"fTicky\":1,\"fLogx\":0,\"fLogy\":0,\"fLogz\":0,\"fPadPaint\":0,\"fCrosshair\":0,\"fCrosshairPos\":0,\"fBorderSize\":2,\"fBorderMode\":0,\"fModified\":false,\"fGridx\":true,\"fGridy\":true,\"fAbsCoord\":false,\"fEditable\":true,\"fFixedAspectRatio\":false,\"fPrimitives\":{\"_typename\":\"TList\",\"name\":\"TList\",\"arr\":[{\"_typename\":\"TGraphErrors\",\"fUniqueID\":0,\"fBits\":1032,\"fName\":\"Graph\",\"fTitle\":\"Graph\",\"fLineColor\":2,\"fLineStyle\":1,\"fLineWidth\":1,\"fFillColor\":0,\"fFillStyle\":1000,\"fMarkerColor\":2,\"fMarkerStyle\":20,\"fMarkerSize\":1,\"fNpoints\":0,\"fX\":[],\"fY\":[],\"fFunctions\":{\"_typename\":\"TList\",\"name\":\"TList\",\"arr\":[],\"opt\":[]},\"fHistogram\":{\"_typename\":\"TH1F\",\"fUniqueID\":0,\"fBits\":512,\"fName\":\"Graph\",\"fTitle\":\"Graph\",\"fLineColor\":1,\"fLineStyle\":0,\"fLineWidth\":1,\"fFillColor\":0,\"fFillStyle\":1001,\"fMarkerColor\":1,\"fMarkerStyle\":20,\"fMarkerSize\":1,\"fNcells\":102,\"fXaxis\":{\"_typename\":\"TAxis\",\"fUniqueID\":0,\"fBits\":0,\"fName\":\"xaxis\",\"fTitle\":\"X\",\"fNdivisions\":510,\"fAxisColor\":1,\"fLabelColor\":1,\"fLabelFont\":42,\"fLabelOffset\":0.007,\"fLabelSize\":0.05,\"fTickLength\":0.03,\"fTitleOffset\":0.9,\"fTitleSize\":0.06,\"fTitleColor\":1,\"fTitleFont\":42,\"fNbins\":100,\"fXmin\":0,\"fXmax\":1.1,\"fXbins\":[],\"fFirst\":0,\"fLast\":0,\"fBits2\":0,\"fTimeDisplay\":false,\"fTimeFormat\":\"\",\"fLabels\":null,\"fModLabs\":null},\"fYaxis\":{\"_typename\":\"TAxis\",\"fUniqueID\":0,\"fBits\":0,\"fName\":\"yaxis\",\"fTitle\":\"#Y\",\"fNdivisions\":510,\"fAxisColor\":1,\"fLabelColor\":1,\"fLabelFont\":42,\"fLabelOffset\":0.007,\"fLabelSize\":0.05,\"fTickLength\":0.03,\"fTitleOffset\":1.25,\"fTitleSize\":0.06,\"fTitleColor\":1,\"fTitleFont\":42,\"fNbins\":1,\"fXmin\":0,\"fXmax\":1.1,\"fXbins\":[],\"fFirst\":0,\"fLast\":0,\"fBits2\":0,\"fTimeDisplay\":false,\"fTimeFormat\":\"\",\"fLabels\":null,\"fModLabs\":null},\"fZaxis\":{\"_typename\":\"TAxis\",\"fUniqueID\":0,\"fBits\":0,\"fName\":\"zaxis\",\"fTitle\":\"\",\"fNdivisions\":510,\"fAxisColor\":1,\"fLabelColor\":1,\"fLabelFont\":42,\"fLabelOffset\":0.007,\"fLabelSize\":0.05,\"fTickLength\":0.03,\"fTitleOffset\":1,\"fTitleSize\":0.06,\"fTitleColor\":1,\"fTitleFont\":42,\"fNbins\":1,\"fXmin\":0,\"fXmax\":1,\"fXbins\":[],\"fFirst\":0,\"fLast\":0,\"fBits2\":0,\"fTimeDisplay\":false,\"fTimeFormat\":\"\",\"fLabels\":null,\"fModLabs\":null},\"fBarOffset\":0,\"fBarWidth\":1000,\"fEntries\":0,\"fTsumw\":0,\"fTsumw2\":0,\"fTsumwx\":0,\"fTsumwx2\":0,\"fMaximum\":1.1,\"fMinimum\":0,\"fNormFactor\":0,\"fContour\":[],\"fSumw2\":[],\"fOption\":\"\",\"fFunctions\":{\"_typename\":\"TList\",\"name\":\"TList\",\"arr\":[],\"opt\":[]},\"fBufferSize\":0,\"fBuffer\":[],\"fBinStatErrOpt\":0,\"fStatOverflows\":2,\"fArray\":[0,0,0,0,0,0,0,0,0,0,0,0,0,0,0,0,0,0,0,0,0,0,0,0,0,0,0,0,0,0,0,0,0,0,0,0,0,0,0,0,0,0,0,0,0,0,0,0,0,0,0,0,0,0,0,0,0,0,0,0,0,0,0,0,0,0,0,0,0,0,0,0,0,0,0,0,0,0,0,0,0,0,0,0,0,0,0,0,0,0,0,0,0,0,0,0,0,0,0,0,0,0]},\"fMinimum\":-1111,\"fMaximum\":-1111,\"fEX\":[],\"fEY\":[]},{\"_typename\":\"TStyle\",\"fUniqueID\":0,\"fBits\":0,\"fName\":\"tdrStyle\",\"fTitle\":\"Style for P-TDR\",\"fLineColor\":1,\"fLineStyle\":1,\"fLineWidth\":1,\"fFillColor\":19,\"fFillStyle\":1001,\"fMarkerColor\":1,\"fMarkerStyle\":20,\"fMarkerSize\":1,\"fTextAngle\":0,\"fTextSize\":0.05,\"fTextAlign\":11,\"fTextColor\":1,\"fTextFont\":62,\"fXaxis\":{\"_typename\":\"TAttAxis\",\"fNdivisions\":510,\"fAxisColor\":1,\"fLabelColor\":1,\"fLabelFont\":42,\"fLabelOffset\":0.007,\"fLabelSize\":0.05,\"fTickLength\":0.03,\"fTitleOffset\":0.9,\"fTitleSize\":0.06,\"fTitleColor\":1,\"fTitleFont\":42},\"fYaxis\":{\"_typename\":\"TAttAxis\",\"fNdivisions\":510,\"fAxisColor\":1,\"fLabelColor\":1,\"fLabelFont\":42,\"fLabelOffset\":0.007,\"fLabelSize\":0.05,\"fTickLength\":0.03,\"fTitleOffset\":1.25,\"fTitleSize\":0.06,\"fTitleColor\":1,\"fTitleFont\":42},\"fZaxis\":{\"_typename\":\"TAttAxis\",\"fNdivisions\":510,\"fAxisColor\":1,\"fLabelColor\":1,\"fLabelFont\":42,\"fLabelOffset\":0.007,\"fLabelSize\":0.05,\"fTickLength\":0.03,\"fTitleOffset\":1,\"fTitleSize\":0.06,\"fTitleColor\":1,\"fTitleFont\":42},\"fBarWidth\":1,\"fBarOffset\":0,\"fColorModelPS\":0,\"fDrawBorder\":0,\"fOptLogx\":0,\"fOptLogy\":0,\"fOptLogz\":0,\"fOptDate\":0,\"fOptStat\":0,\"fOptTitle\":0,\"fOptFile\":0,\"fOptFit\":0,\"fShowEventStatus\":0,\"fShowEditor\":0,\"fShowToolBar\":0,\"fNumberContours\":20,\"fAttDate\":{\"_typename\":\"TAttText\",\"fTextAngle\":0,\"fTextSize\":0.025,\"fTextAlign\":11,\"fTextColor\":1,\"fTextFont\":62},\"fDateX\":0.01,\"fDateY\":0.01,\"fEndErrorSize\":2,\"fErrorX\":0.5,\"fFuncColor\":2,\"fFuncStyle\":1,\"fFuncWidth\":1,\"fGridColor\":0,\"fGridStyle\":3,\"fGridWidth\":1,\"fLegendBorderSize\":4,\"fLegendFillColor\":0,\"fLegendFont\":62,\"fLegendTextSize\":0,\"fHatchesLineWidth\":5,\"fHatchesSpacing\":0.1,\"fFrameFillColor\":0,\"fFrameLineColor\":1,\"fFrameFillStyle\":0,\"fFrameLineStyle\":1,\"fFrameLineWidth\":1,\"fFrameBorderSize\":1,\"fFrameBorderMode\":0,\"fHistFillColor\":0,\"fHistLineColor\":1,\"fHistFillStyle\":1001,\"fHistLineStyle\":0,\"fHistLineWidth\":1,\"fHistMinimumZero\":false,\"fHistTopMargin\":0.05,\"fCanvasPreferGL\":false,\"fCanvasColor\":0,\"fCanvasBorderSize\":2,\"fCanvasBorderMode\":0,\"fCanvasDefH\":600,\"fCanvasDefW\":600,\"fCanvasDefX\":0,\"fCanvasDefY\":0,\"fPadColor\":0,\"fPadBorderSize\":2,\"fPadBorderMode\":0,\"fPadBottomMargin\":0.13,\"fPadTopMargin\":0.05,\"fPadLeftMargin\":0.16,\"fPadRightMargin\":0.02,\"fPadGridX\":false,\"fPadGridY\":false,\"fPadTickX\":1,\"fPadTickY\":1,\"fPaperSizeX\":20,\"fPaperSizeY\":20,\"fScreenFactor\":1,\"fStatColor\":0,\"fStatTextColor\":1,\"fStatBorderSize\":1,\"fStatFont\":42,\"fStatFontSize\":0.025,\"fStatStyle\":1001,\"fStatFormat\":\"6.4g\",\"fStatX\":0.98,\"fStatY\":0.995,\"fStatW\":0.15,\"fStatH\":0.1,\"fStripDecimals\":true,\"fTitleAlign\":13,\"fTitleColor\":10,\"fTitleTextColor\":1,\"fTitleBorderSize\":2,\"fTitleFont\":62,\"fTitleFontSize\":0.05,\"fTitleStyle\":1001,\"fTitleX\":0.01,\"fTitleY\":0.995,\"fTitleW\":0,\"fTitleH\":0,\"fLegoInnerR\":0.5,\"fLineStyle\":[\"\",\"  \",\" 12 12\",\" 4 8\",\" 12 16 4 16\",\" 20 12 4 12\",\" 20 12 4 12 4 12 4 12\",\" 20 20\",\" 20 12 4 12 4 12\",\" 80 20\",\" 80 40 4 40\",\"  \",\"  \",\"  \",\"  \",\"  \",\"  \",\"  \",\"  \",\"  \",\"  \",\"  \",\"  \",\"  \",\"  \",\"  \",\"  \",\"  \",\"  \",\"  \"],\"fHeaderPS\":\"\",\"fTitlePS\":\"\",\"fFitFormat\":\"5.4g\",\"fPaintTextFormat\":\"g\",\"fLineScalePS\":3,\"fJoinLinePS\":0,\"fCapLinePS\":0,\"fTimeOffset\":788918400,\"fImageScaling\":1}],\"opt\":[\"ap\",\"\"]},\"fExecs\":null,\"fName\":\"c1\",\"fTitle\":\"\",\"fNumPaletteColor\":0,\"fNextPaletteColor\":0,\"fDISPLAY\":\"$DISPLAY\",\"fDoubleBuffer\":0,\"fRetained\":true,\"fXsizeUser\":0,\"fYsizeUser\":0,\"fXsizeReal\":20,\"fYsizeReal\":15,\"fWindowTopX\":0,\"fWindowTopY\":0,\"fWindowWidth\":0,\"fWindowHeight\":0,\"fCw\":796,\"fCh\":572,\"fCatt\":{\"_typename\":\"TAttCanvas\",\"fXBetween\":2,\"fYBetween\":2,\"fTitleFromTop\":1.2,\"fXdate\":0.2,\"fYdate\":0.3,\"fAdate\":1},\"kMoveOpaque\":true,\"kResizeOpaque\":true,\"fHighLightColor\":2,\"fBatch\":true,\"kShowEventStatus\":false,\"kAutoExec\":true,\"kMenuBar\":true});\n",
       "   Core.settings.HandleKeys = false;\n",
       "   Core.draw(\"root_plot_1619705196246\", obj, \"\");\n",
       "}\n",
       "</script>\n"
      ],
      "text/plain": [
       "<IPython.core.display.HTML object>"
      ]
     },
     "metadata": {},
     "output_type": "display_data"
    }
   ],
   "source": [
    "pathToSave = \"/mnt/d/tmp/\"\n",
    "#---\n",
    "iPeriod = \"0\"; iPos=\"0\"\n",
    "#---\n",
    "gROOT.ProcessLine(\"cmsText = \\\"\\\";\")\n",
    "#gROOT.ProcessLine(\"writeExtraText = true;\") # if extra text\n",
    "gROOT.ProcessLine(\"writeExtraText = false;\") #remove Preliminary\n",
    "gROOT.ProcessLine(\"extraText  = \\\"\\\";\") # default extra text is \"Preliminary\"\n",
    "gROOT.ProcessLine(\"lumi_sqrtS = \\\"1804:Estimated (Bot+Bot)\\\";\") \n",
    "#---\n",
    "cName = \"\"; cTitle = \"\"; cX = 800; cY = 600\n",
    "c = ROOT.TCanvas(cName, cTitle, cX, cY)\n",
    "c.SetGrid()\n",
    "#---\n",
    "gr.Draw(\"AP\");\n",
    "#---\n",
    "#cms_lumi_str = \"CMS_lumi(\"+cName+\", \"+iPeriod+\", \"+iPos+\");\"; gROOT.ProcessLine(cms_lumi_str)\n",
    "#---\n",
    "#ROOT.disableJSVis()\n",
    "c.Draw()\n",
    "#ROOT.enableJSVis() # jsroot plot mode\n",
    "\n",
    "#c.SaveAs(pathToSave + cName + \".root\"); c.SaveAs(pathToSave + cName + \".C\") \n",
    "#c.SaveAs(pathToSave + cName + \".svg\"); c.SaveAs(pathToSave + cName + \".pdf\")"
   ]
  },
  {
   "cell_type": "code",
   "execution_count": null,
   "id": "0d639ec6",
   "metadata": {},
   "outputs": [],
   "source": []
  }
 ],
 "metadata": {
  "kernelspec": {
   "display_name": "Python 3",
   "language": "python",
   "name": "python3"
  },
  "language_info": {
   "codemirror_mode": {
    "name": "ipython",
    "version": 3
   },
   "file_extension": ".py",
   "mimetype": "text/x-python",
   "name": "python",
   "nbconvert_exporter": "python",
   "pygments_lexer": "ipython3",
   "version": "3.9.2"
  }
 },
 "nbformat": 4,
 "nbformat_minor": 5
}
