{
 "cells": [
  {
   "cell_type": "code",
   "execution_count": 1,
   "id": "7723038d",
   "metadata": {},
   "outputs": [
    {
     "name": "stdout",
     "output_type": "stream",
     "text": [
      "Welcome to JupyROOT 6.24/00\n"
     ]
    }
   ],
   "source": [
    "import sys\n",
    "import ROOT\n",
    "import pyfftw\n",
    "\n",
    "ROOT.gInterpreter.AddIncludePath('../../include/')\n",
    "ROOT.gInterpreter.Declare('#include \"RoEvent.h\"')\n",
    "ROOT.gSystem.Load('../../libs/libRoEvent.so')\n",
    "\n",
    "%jsroot on\n",
    "\n",
    "import pickle\n",
    "from array import array\n",
    "import numpy as np\n",
    "sys.path.append(\"../package/\")\n",
    "import lycro \n"
   ]
  },
  {
   "cell_type": "code",
   "execution_count": 2,
   "id": "cdef2462",
   "metadata": {},
   "outputs": [
    {
     "name": "stdout",
     "output_type": "stream",
     "text": [
      "ROOT file: ../../tmp/ro_r601.root\n",
      "PICK file: ../../tmp/ju_r601_thr-70_pad-30.pik\n",
      "Ev 1005:1005 is processing... \r"
     ]
    }
   ],
   "source": [
    "run = \"r601\"\n",
    "thr = 70; pad = 30\n",
    "root = \"../../tmp/ro_\" + run + \".root\"\n",
    "pick = \"../../tmp/ju_\" + run + \"_thr-\" + str(thr) + \"_pad-\" + str(pad) + \".pik\"\n",
    "print(\"ROOT file: {}\".format(root))\n",
    "print(\"PICK file: {}\".format(pick))\n",
    "\n",
    "#get data from RoEvent class (to generate it use dq script)\n",
    "f = ROOT.TFile(root)\n",
    "myTree = f.Get(\"data\") #myTree.Print() #myTree.Show(560)\n",
    "\n",
    "#loking signals\n",
    "ro_signals = []\n",
    "numEv = myTree.GetEntries()\n",
    "for entry in myTree:\n",
    "    events = entry.events\n",
    "    numCh = events.getNumPayloads()\n",
    "    ev = events.getHeader().getEvtNum()\n",
    "    print(\"Ev {}:{} is processing... \".format(ev, numEv), end='\\r')\n",
    "    for n in range(numCh):\n",
    "        ch = events.getPayloads().AddrAt(n).getCh()\n",
    "        cro = events.getPayloads().AddrAt(n).getCRO()\n",
    "        numSa = events.getPayloads().AddrAt(n).getNsaCRO()\n",
    "        data = lycro.alignment(cro, 0)\n",
    "        ev_signals_pos = lycro.findSignals(ev, ch, data, thr, pad, 1)\n",
    "        ev_signals_neg = lycro.findSignals(ev, ch, data, thr, pad, -1)\n",
    "        ro_signals.extend(ev_signals_pos)\n",
    "        ro_signals.extend(ev_signals_neg)\n",
    "\n",
    "with open(pick, \"wb\") as f:\n",
    "    pickle.dump(len(ro_signals), f)\n",
    "    for value in ro_signals:\n",
    "        pickle.dump(value, f)"
   ]
  }
 ],
 "metadata": {
  "kernelspec": {
   "display_name": "Python 3",
   "language": "python",
   "name": "python3"
  },
  "language_info": {
   "codemirror_mode": {
    "name": "ipython",
    "version": 3
   },
   "file_extension": ".py",
   "mimetype": "text/x-python",
   "name": "python",
   "nbconvert_exporter": "python",
   "pygments_lexer": "ipython3",
   "version": "3.9.2"
  }
 },
 "nbformat": 4,
 "nbformat_minor": 5
}
