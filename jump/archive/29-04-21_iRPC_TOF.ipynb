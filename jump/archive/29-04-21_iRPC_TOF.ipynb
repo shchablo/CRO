{
 "cells": [
  {
   "cell_type": "code",
   "execution_count": 17,
   "metadata": {},
   "outputs": [
    {
     "name": "stdout",
     "output_type": "stream",
     "text": [
      "4.6610000000000005\n"
     ]
    }
   ],
   "source": [
    "import math\n",
    "n = 0 # []\n",
    "c = 3*10**8 # [m/c^2]\n",
    "L = 2 # [m]\n",
    "P = 4*10**9 # [eV/c]\n",
    "pi_meson = 139*10**6 #[eV]\n",
    "kaon = 493*10**6 # [eV]\n",
    "sigma = 10*10**(-12) # [s]\n",
    "n = (L/(2*(P**2)*c)) * (kaon**2 - pi_meson**2)/sigma\n",
    "print(n)"
   ]
  },
  {
   "cell_type": "code",
   "execution_count": 18,
   "metadata": {},
   "outputs": [
    {
     "name": "stdout",
     "output_type": "stream",
     "text": [
      "493000000.00000006\n"
     ]
    }
   ],
   "source": [
    "m = math.sqrt( (2*P**2*c*n*sigma)/L + pi_meson**2 )\n",
    "print(m)"
   ]
  },
  {
   "cell_type": "code",
   "execution_count": 28,
   "metadata": {},
   "outputs": [
    {
     "name": "stdout",
     "output_type": "stream",
     "text": [
      "918969979.5604496\n"
     ]
    }
   ],
   "source": [
    "n = 3 # []\n",
    "c = 3*10**8 # [m/c^2]\n",
    "L = 10.83-9.75 # [m]\n",
    "P = 1*10**9 # [eV/c]\n",
    "muon = 105.7*10**6 #[eV]\n",
    "sigma = 500*10**(-12) # [s]\n",
    "\n",
    "m = math.sqrt( (2*P**2*c*n*sigma)/L + muon**2 )\n",
    "print(m)"
   ]
  },
  {
   "cell_type": "code",
   "execution_count": null,
   "metadata": {},
   "outputs": [],
   "source": []
  }
 ],
 "metadata": {
  "kernelspec": {
   "display_name": "Python 3",
   "language": "python",
   "name": "python3"
  },
  "language_info": {
   "codemirror_mode": {
    "name": "ipython",
    "version": 3
   },
   "file_extension": ".py",
   "mimetype": "text/x-python",
   "name": "python",
   "nbconvert_exporter": "python",
   "pygments_lexer": "ipython3",
   "version": "3.9.2"
  }
 },
 "nbformat": 4,
 "nbformat_minor": 2
}
