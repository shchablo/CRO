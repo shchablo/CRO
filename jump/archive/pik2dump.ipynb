{
 "cells": [
  {
   "cell_type": "code",
   "execution_count": 2,
   "id": "d81d110c",
   "metadata": {},
   "outputs": [
    {
     "name": "stdout",
     "output_type": "stream",
     "text": [
      "Welcome to JupyROOT 6.24/00\n"
     ]
    }
   ],
   "source": [
    "import sys\n",
    "import ROOT\n",
    "import pyfftw\n",
    "\n",
    "ROOT.gInterpreter.AddIncludePath('../../include/')\n",
    "ROOT.gInterpreter.Declare('#include \"RoEvent.h\"')\n",
    "ROOT.gSystem.Load('../../libs/libRoEvent.so')\n",
    "\n",
    "%jsroot on\n",
    "\n",
    "import pickle\n",
    "from array import array\n",
    "import numpy as np\n",
    "sys.path.append(\"../package/\")\n",
    "import lycro \n"
   ]
  },
  {
   "cell_type": "code",
   "execution_count": 3,
   "id": "cdef2462",
   "metadata": {},
   "outputs": [
    {
     "name": "stdout",
     "output_type": "stream",
     "text": [
      "PICK file: ../../tmp/ju_r601_thr-70_pad-30.pik\n",
      "8931\n"
     ]
    }
   ],
   "source": [
    "run = \"r601\"; thr = 70; pad = 30\n",
    "pick = \"../../tmp/ju_\" + run + \"_thr-\" + str(thr) + \"_pad-\" + str(pad) + \".pik\"\n",
    "print(\"PICK file: {}\".format(pick))\n",
    "\n",
    "# read ju_signals\n",
    "ju_signals = []\n",
    "with open(pick, \"rb\") as f:\n",
    "    for _ in range(pickle.load(f)):\n",
    "        ju_signals.append(pickle.load(f))  \n",
    "print(len(ju_signals))"
   ]
  },
  {
   "cell_type": "code",
   "execution_count": null,
   "id": "f616e217",
   "metadata": {},
   "outputs": [],
   "source": []
  }
 ],
 "metadata": {
  "kernelspec": {
   "display_name": "Python 3",
   "language": "python",
   "name": "python3"
  },
  "language_info": {
   "codemirror_mode": {
    "name": "ipython",
    "version": 3
   },
   "file_extension": ".py",
   "mimetype": "text/x-python",
   "name": "python",
   "nbconvert_exporter": "python",
   "pygments_lexer": "ipython3",
   "version": "3.9.2"
  }
 },
 "nbformat": 4,
 "nbformat_minor": 5
}
