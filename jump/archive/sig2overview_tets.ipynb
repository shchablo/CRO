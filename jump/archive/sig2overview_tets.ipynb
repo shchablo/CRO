{
 "cells": [
  {
   "cell_type": "code",
   "execution_count": 1,
   "id": "7723038d",
   "metadata": {},
   "outputs": [
    {
     "name": "stdout",
     "output_type": "stream",
     "text": [
      "Welcome to JupyROOT 6.24/00\n"
     ]
    }
   ],
   "source": [
    "import sys\n",
    "import ROOT\n",
    "from ROOT import gROOT\n",
    "from ROOT import gStyle\n",
    "%jsroot on\n",
    "\n",
    "ROOT.gInterpreter.AddIncludePath('../../include/')\n",
    "ROOT.gInterpreter.Declare('#include \"RoEvent.h\"')\n",
    "ROOT.gSystem.Load('../../libs/libRoEvent.so')\n",
    "\n",
    "gROOT.LoadMacro(\"../style/CMS/tdrstyle.C\")\n",
    "gROOT.ProcessLine(\"setTDRStyle();\")\n",
    "gROOT.LoadMacro(\"../style/CMS/CMS_lumi.C\")\n",
    "\n",
    "import numpy as np\n",
    "\n",
    "#from array import array\n",
    "from pathlib import Path\n",
    "sys.path.append(\"../package/\")\n",
    "import lycro as lyplot\n",
    "\n",
    "gStyle.SetOptFit(0)"
   ]
  },
  {
   "cell_type": "code",
   "execution_count": 2,
   "id": "4bc37933",
   "metadata": {},
   "outputs": [
    {
     "name": "stdout",
     "output_type": "stream",
     "text": [
      "ROOT file: ../../tmp/sig_r1202.root\n"
     ]
    }
   ],
   "source": [
    "run = \"r1202\"\n",
    "root = \"../../tmp/sig_\" + run + \".root\"\n",
    "print(\"ROOT file: {}\".format(root))\n",
    "AMC = \"000\"\n",
    "threshold = 90; window = 100; size = 100; chs = range(0,64); cards = [0, 0]"
   ]
  },
  {
   "cell_type": "code",
   "execution_count": 3,
   "id": "cdef2462",
   "metadata": {},
   "outputs": [
    {
     "name": "stdout",
     "output_type": "stream",
     "text": [
      "Sig 14900:15116 is processing...\r"
     ]
    }
   ],
   "source": [
    "unusual = []\n",
    "\n",
    "prof_pos = ROOT.TH2D(\"profile_pos\", \"profile_pos\", window, 0, window, 4096, 0, 4096)\n",
    "height_pos = ROOT.TH1D(\"height_pos\", \"height_pos\", size, 1, -1); sum_pos = ROOT.TH1D(\"sum_pos\", \"sum_pos\", size, 1, -1)\n",
    "\n",
    "arr_height_pos = []; arr_sum_pos = []\n",
    "for i in range(len(chs)):\n",
    "    h_h_pos = ROOT.TH1D(\"height_pos_ch\" + str(chs[i]), \"height_pos_ch\" + str(chs[i]), size, 1, -1); arr_sum_pos.append(h_h_pos)\n",
    "    h_sum_pos = ROOT.TH1D(\"sum_pos_ch\" + str(chs[i]), \"sum_pos_ch\" + str(chs[i]), size, 1, -1); arr_height_pos.append(h_sum_pos)\n",
    "    \n",
    "f = ROOT.TFile(root)\n",
    "myTree = f.Get(\"data\");\n",
    "isig = 0; numSigs = myTree.GetEntries()\n",
    "for entry in myTree:\n",
    "    sig = entry.sigs\n",
    "    peak = sig.peak\n",
    "    pol = sig.pol\n",
    "    ch = sig.ch\n",
    "    card = sig.card\n",
    "    if(pol == -1): continue \n",
    "    if(not(ch in chs and card in cards)): continue\n",
    "    size = len(sig.signal)\n",
    "    if(len(sig.pedestal) != size or size == 0): unusual.append(isig); continue\n",
    "    #level = np.average(sig.pedestal); \n",
    "    level = 2048\n",
    "    data = []   \n",
    "    for i in range(size):\n",
    "        tmp = sig.signal[i]\n",
    "        prof_pos.Fill(i, tmp)\n",
    "        data.append(pol*(tmp - level))\n",
    "    #height = np.max(data); integral = np.sum(data)\n",
    "    #height_pos.Fill(height); arr_height_pos[ch].Fill(height)\n",
    "    #sum_pos.Fill(integral); arr_sum_pos[ch].Fill(integral)\n",
    "    \n",
    "    isig += 1\n",
    "    if(isig%100 == 0 or isig == numSigs): \n",
    "        print(\"Sig {}:{} is processing...\".format(isig, numSigs), end='\\r'); "
   ]
  },
  {
   "cell_type": "code",
   "execution_count": null,
   "id": "3a696d99",
   "metadata": {},
   "outputs": [],
   "source": []
  }
 ],
 "metadata": {
  "kernelspec": {
   "display_name": "Python 3",
   "language": "python",
   "name": "python3"
  },
  "language_info": {
   "codemirror_mode": {
    "name": "ipython",
    "version": 3
   },
   "file_extension": ".py",
   "mimetype": "text/x-python",
   "name": "python",
   "nbconvert_exporter": "python",
   "pygments_lexer": "ipython3",
   "version": "3.9.2"
  }
 },
 "nbformat": 4,
 "nbformat_minor": 5
}
