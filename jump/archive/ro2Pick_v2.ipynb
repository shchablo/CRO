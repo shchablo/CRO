{
 "cells": [
  {
   "cell_type": "code",
   "execution_count": 1,
   "id": "900b37cb",
   "metadata": {},
   "outputs": [
    {
     "name": "stdout",
     "output_type": "stream",
     "text": [
      "Welcome to JupyROOT 6.24/00\n"
     ]
    }
   ],
   "source": [
    "import sys\n",
    "import pyfftw\n",
    "import time\n",
    "import ROOT\n",
    "from ROOT import gROOT\n",
    "from ROOT import gStyle\n",
    "%jsroot on\n",
    "\n",
    "ROOT.gInterpreter.AddIncludePath('../../include/')\n",
    "ROOT.gInterpreter.Declare('#include \"RoEvent.h\"')\n",
    "ROOT.gSystem.Load('../../libs/libRoEvent.so')\n",
    "\n",
    "gROOT.LoadMacro(\"../style/CMS/tdrstyle.C\")\n",
    "gROOT.ProcessLine(\"setTDRStyle();\")\n",
    "gROOT.LoadMacro(\"../style/CMS/CMS_lumi.C\")\n",
    "\n",
    "import pickle\n",
    "from array import array\n",
    "from pathlib import Path\n",
    "import numpy as np\n",
    "from scipy import signal\n",
    "sys.path.append(\"../package/\")\n",
    "import lycro_0v1 as lycro\n",
    "\n",
    "from scipy.signal import find_peaks, peak_widths \n",
    "\n",
    "gStyle.SetOptFit(0)"
   ]
  },
  {
   "cell_type": "code",
   "execution_count": 2,
   "id": "474f06a6",
   "metadata": {},
   "outputs": [
    {
     "name": "stdout",
     "output_type": "stream",
     "text": [
      "PICK file: ../../tmp/ju_r1170_thr-70_wind-50.pik\n",
      "ROOT file: ../../tmp/ro_r1170.root\n"
     ]
    }
   ],
   "source": [
    "run = 1170; thr = 70; window = 50\n",
    "pick = \"../../tmp/ju_r\" + str(run) + \"_thr-\" + str(thr) + \"_wind-\" + str(window) + \".pik\"\n",
    "root = \"../../tmp/ro_r\" + str(run) + \".root\"\n",
    "print(\"PICK file: {}\".format(pick))\n",
    "print(\"ROOT file: {}\".format(root))"
   ]
  },
  {
   "cell_type": "code",
   "execution_count": 3,
   "id": "228a207e",
   "metadata": {},
   "outputs": [
    {
     "name": "stdout",
     "output_type": "stream",
     "text": [
      "Ev 153:153 is processing... \r"
     ]
    }
   ],
   "source": [
    "f = ROOT.TFile(root)\n",
    "myTree = f.Get(\"data\") \n",
    "\n",
    "#loking signals\n",
    "ro_signals = []\n",
    "numEv = myTree.GetEntries()\n",
    "for entry in myTree:\n",
    "    events = entry.events\n",
    "    numCh = events.getNumPayloads()\n",
    "    ev = events.getHeader().getEvtNum()\n",
    "    print(\"Ev {}:{} is processing... \".format(ev, numEv), end='\\r')\n",
    "    for n in range(numCh):\n",
    "        \n",
    "        card = events.getPayloads().AddrAt(n).getMap().getCard()\n",
    "        ch = events.getPayloads().AddrAt(n).getCh()\n",
    "\n",
    "        cro = np.asarray(events.getPayloads().AddrAt(n).getCRO())\n",
    "        numSa = events.getPayloads().AddrAt(n).getNsaCRO()\n",
    "        ped = lycro.findPedestal(data = cro, window = window, thr = 30, offset = 5000)\n",
    "        pos_sigs = lycro.findSignals(cro, round(np.average(ped)), thr = 70, window = window, pol = 1, run=0, ev = ev, card = card, ch = ch)\n",
    "        neg_sigs = lycro.findSignals(cro, round(np.average(ped)), thr = 70, window = window, pol = -1, run=0, ev = ev, card = card, ch = ch)\n",
    "        ro_signals.extend(pos_sigs)\n",
    "        ro_signals.extend(neg_sigs)\n",
    "with open(pick, \"wb\") as f:\n",
    "    pickle.dump(len(ro_signals), f)\n",
    "    for value in ro_signals:\n",
    "        pickle.dump(value, f)"
   ]
  },
  {
   "cell_type": "code",
   "execution_count": null,
   "id": "48276451",
   "metadata": {},
   "outputs": [],
   "source": []
  }
 ],
 "metadata": {
  "kernelspec": {
   "display_name": "Python 3",
   "language": "python",
   "name": "python3"
  },
  "language_info": {
   "codemirror_mode": {
    "name": "ipython",
    "version": 3
   },
   "file_extension": ".py",
   "mimetype": "text/x-python",
   "name": "python",
   "nbconvert_exporter": "python",
   "pygments_lexer": "ipython3",
   "version": "3.9.2"
  }
 },
 "nbformat": 4,
 "nbformat_minor": 5
}
