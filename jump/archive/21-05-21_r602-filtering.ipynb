{
 "cells": [
  {
   "cell_type": "markdown",
   "id": "4e65e523",
   "metadata": {},
   "source": [
    "# Calibration of ADCs"
   ]
  },
  {
   "cell_type": "code",
   "execution_count": 1,
   "id": "82bf8263",
   "metadata": {},
   "outputs": [
    {
     "name": "stdout",
     "output_type": "stream",
     "text": [
      "Welcome to JupyROOT 6.24/00\n"
     ]
    }
   ],
   "source": [
    "import sys\n",
    "import numpy as np\n",
    "import pyfftw\n",
    "import pickle\n",
    "\n",
    "import ROOT\n",
    "from ROOT import gROOT\n",
    "from ROOT import gStyle\n",
    "\n",
    "%jsroot on\n",
    "\n",
    "from array import array\n",
    "#--------------------------------------------\n",
    "\n",
    "gROOT.LoadMacro(\"../style/CMS/tdrstyle.C\")\n",
    "gROOT.ProcessLine(\"setTDRStyle();\")\n",
    "gROOT.LoadMacro(\"../style/CMS/CMS_lumi.C\")\n",
    "\n",
    "\n",
    "ROOT.gInterpreter.AddIncludePath('../../include/')\n",
    "ROOT.gInterpreter.Declare('#include \"RoEvent.h\"')\n",
    "ROOT.gSystem.Load('../../libs/libRoEvent.so')\n",
    "\n",
    "gStyle.SetOptFit(0)"
   ]
  },
  {
   "cell_type": "code",
   "execution_count": 2,
   "id": "ad63c36e",
   "metadata": {},
   "outputs": [],
   "source": [
    "class Signal(object):\n",
    "    \n",
    "    ev = 0\n",
    "    ch = 0\n",
    "    \n",
    "    peak_index = 0\n",
    "    peak_value = 0\n",
    "    \n",
    "    polarity = 0\n",
    "    threshold = 0 \n",
    "    \n",
    "    width = 0\n",
    "    integral = 0\n",
    "    \n",
    "    #analysis\n",
    "    unequal = 0\n",
    "    isFFT = 0 # pedestal correction \n",
    "    \n",
    "    pedestal = []\n",
    "    data = []\n",
    "    raw_data = []"
   ]
  },
  {
   "cell_type": "code",
   "execution_count": 3,
   "id": "5f2340d0",
   "metadata": {},
   "outputs": [],
   "source": [
    "# Remove Pedestal\n",
    "def correctPedestal(signal, pedestal):\n",
    "    s = pyfftw.interfaces.numpy_fft.fft(signal)\n",
    "    ss = np.abs(s)\n",
    "    angle = np.angle(s)\n",
    "    b = np.exp(1.0j* angle)\n",
    "\n",
    "    ns= pyfftw.interfaces.numpy_fft.fft(pedestal)\n",
    "    nss = np.abs(ns)\n",
    "    mns = np.mean(nss)\n",
    "\n",
    "    sa= ss - nss\n",
    "    sa0= sa * b  # apply phase information\n",
    "\n",
    "    result = pyfftw.interfaces.numpy_fft.ifft(sa0).real\n",
    "    return result"
   ]
  },
  {
   "cell_type": "code",
   "execution_count": 4,
   "id": "7720b702",
   "metadata": {},
   "outputs": [],
   "source": [
    "# Remove Pedestal\n",
    "def subPedestal(data, pol):\n",
    "    fft = pyfftw.interfaces.numpy_fft.fft(data)\n",
    "    fft[0] = 0 \n",
    "    ifft = pyfftw.interfaces.numpy_fft.ifft(fft).real\n",
    "    idata = array('f')\n",
    "    for i in range(len(ifft)):\n",
    "        idata.append(pol*round(ifft[i]));\n",
    "    return idata"
   ]
  },
  {
   "cell_type": "code",
   "execution_count": 5,
   "id": "a7b43357",
   "metadata": {},
   "outputs": [],
   "source": [
    "#get signals from array\n",
    "from scipy.signal import find_peaks,peak_widths\n",
    "def findSignals(data, ev = 0, ch = 0, thr=50, pad=30, pol = 1):\n",
    "    output = []\n",
    "    idata = subPedestal(data, pol)\n",
    "    peaks, _ = find_peaks(idata, height=thr)\n",
    "    for p in range(len(peaks)):\n",
    "        sig = Signal()\n",
    "        sig.isFFT = 1\n",
    "        sig.ev = ev \n",
    "        sig.ch = ch\n",
    "        sig.peak_index = peaks[p]\n",
    "        sig.peak_value = idata[peaks[p]]\n",
    "        sig.threshold = thr\n",
    "        sig.polarity = pol\n",
    "        sig.width = peak_widths(idata, peaks, rel_height=0.2)[0][p]\n",
    "        sig.integral = sum(idata[peaks[p] - pad: peaks[p] + pad])\n",
    "        sig.data = idata[peaks[p] - pad: peaks[p] + pad]\n",
    "        p_peaks, _ = find_peaks(idata[peaks[p] - pad - 2*pad : peaks[p] - pad], height=thr)\n",
    "        if(len(p_peaks) == 0):\n",
    "            sig.pedestal = idata[peaks[p] - pad - 2*pad : peaks[p] - pad]\n",
    "        sig.raw_data = data[0:len(data)]\n",
    "        output.append(sig)\n",
    "        \n",
    "    return output"
   ]
  },
  {
   "cell_type": "code",
   "execution_count": 6,
   "id": "e38a08a3",
   "metadata": {},
   "outputs": [
    {
     "name": "stdout",
     "output_type": "stream",
     "text": [
      "ROOT file: ../../tmp/ro_r602.root\n",
      "PICK file: ../../tmp/ju_r602_thr-70_pad-30.pik\n",
      "======> EVENT:560\n",
      " events          = (RoEvent*)0x7f5030611420\n",
      " fUniqueID       = 0\n",
      " fBits           = 33554432\n",
      " fEvtHdr.fUniqueID = 0\n",
      " fEvtHdr.fBits   = 33554432\n",
      " fEvtHdr.fEvtNum = 561\n",
      " fEvtHdr.fValid  = 1\n",
      " fEvtHdr.fGood   = 0\n",
      " fEvtHdr.fFlags[8] = 0 , 37888 , 50783 , 32767 , 0 , 1 , 0 , 0 \n",
      "\n",
      " fEvtHdr.fRunNum = 602\n",
      " fEvtHdr.fRunFlags = 32767\n",
      " fEvtHdr.fTrigType = 0\n",
      " fEvtHdr.fTrigNum = 561\n",
      " fEvtHdr.fTvNsec = 275569200\n",
      " fNumPayloads    = 128\n",
      " fPayloads       = 128\n",
      " fPayloads.fUniqueID = 0, 0, 0, 0, 0, 0, 0, 0, 0, 0, 0, 0, 0, 0, 0, 0, 0, 0, 0, 0\n",
      " fPayloads.fBits = 50331648, 50331648, 50331648, 50331648, 50331648, 50331648, 50331648, 50331648, 50331648, 50331648, 50331648, 50331648, 50331648, 50331648, 50331648, 50331648, 50331648, 50331648, 50331648, 50331648\n",
      " fPayloads.fCh   = 0, 0, 1, 1, 2, 2, 3, 3, 4, 4, 5, 5, 6, 6, 7, 7, 8, 8, 9, 9\n",
      " fPayloads.fMap.fUniqueID = 0, 0, 0, 0, 0, 0, 0, 0, 0, 0, 0, 0, 0, 0, 0, 0, 0, 0, 0, 0\n",
      " fPayloads.fMap.fBits = 50331648, 50331648, 50331648, 50331648, 50331648, 50331648, 50331648, 50331648, 50331648, 50331648, 50331648, 50331648, 50331648, 50331648, 50331648, 50331648, 50331648, 50331648, 50331648, 50331648\n",
      " fPayloads.fMap.fSeqn = 0, 2576980377, 1, 2576980377, 2, 2576980377, 3, 2576980377, 4, 2576980377, 5, 2576980377, 6, 2576980377, 7, 2576980377, 8, 2576980377, 9, 2576980377\n",
      " fPayloads.fMap.fCrate = 0, 39321, 0, 39321, 0, 39321, 0, 39321, 0, 39321, 0, 39321, 0, 39321, 0, 39321, 0, 39321, 0, 39321\n",
      " fPayloads.fMap.fCard = 0, 39321, 0, 39321, 0, 39321, 0, 39321, 0, 39321, 0, 39321, 0, 39321, 0, 39321, 0, 39321, 0, 39321\n",
      " fPayloads.fMap.fCardCh = 0, 39321, 1, 39321, 2, 39321, 3, 39321, 4, 39321, 5, 39321, 6, 39321, 7, 39321, 8, 39321, 9, 39321\n",
      " fPayloads.fMap.fCrp = 0, 39321, 0, 39321, 0, 39321, 0, 39321, 0, 39321, 0, 39321, 0, 39321, 0, 39321, 0, 39321, 0, 39321\n",
      " fPayloads.fMap.fView = 0, 39321, 0, 39321, 0, 39321, 0, 39321, 0, 39321, 0, 39321, 0, 39321, 0, 39321, 0, 39321, 0, 39321\n",
      " fPayloads.fMap.fViewCh = 0, 39321, 1, 39321, 2, 39321, 3, 39321, 4, 39321, 5, 39321, 6, 39321, 7, 39321, 8, 39321, 9, 39321\n",
      " fPayloads.fMap.fState = 0, 39321, 0, 39321, 0, 39321, 0, 39321, 0, 39321, 0, 39321, 0, 39321, 0, 39321, 0, 39321, 0, 39321\n",
      " fPayloads.fMap.fExists = 1, 1, 1, 1, 1, 1, 1, 1, 1, 1, 1, 1, 1, 1, 1, 1, 1, 1, 1, 1\n",
      " fPayloads.fNsaCRO = 10000, 10000, 10000, 10000, 10000, 10000, 10000, 10000, 10000, 10000, 10000, 10000, 10000, 10000, 10000, 10000, 10000, 10000, 10000, 10000\n",
      " fPayloads.fCRO  = printing kAny case (62), printing kAny case (62), printing kAny case (62), printing kAny case (62), printing kAny case (62), printing kAny case (62), printing kAny case (62), printing kAny case (62), printing kAny case (62), printing kAny case (62), printing kAny case (62), printing kAny case (62), printing kAny case (62), printing kAny case (62), printing kAny case (62), printing kAny case (62), printing kAny case (62), printing kAny case (62), printing kAny case (62), printing kAny case (62)\n",
      " fPayloads.fNsaLRO = 0, 10000, 0, 10000, 0, 10000, 0, 10000, 0, 10000, 0, 10000, 0, 10000, 0, 10000, 0, 10000, 0, 10000\n",
      " fPayloads.fLRO  = printing kAny case (62), printing kAny case (62), printing kAny case (62), printing kAny case (62), printing kAny case (62), printing kAny case (62), printing kAny case (62), printing kAny case (62), printing kAny case (62), printing kAny case (62), printing kAny case (62), printing kAny case (62), printing kAny case (62), printing kAny case (62), printing kAny case (62), printing kAny case (62), printing kAny case (62), printing kAny case (62), printing kAny case (62), printing kAny case (62)\n"
     ]
    }
   ],
   "source": [
    "run = \"r602\"\n",
    "thr = 70; pad = 30\n",
    "root = \"../../tmp/ro_\" + run + \".root\"\n",
    "pick = \"../../tmp/ju_\" + run + \"_thr-\" + str(thr) + \"_pad-\" + str(pad) + \".pik\"\n",
    "print(\"ROOT file: {}\".format(root))\n",
    "print(\"PICK file: {}\".format(pick))\n",
    "\n",
    "#get data from RoEvent class (to generate it use dq script)\n",
    "f = ROOT.TFile(root)\n",
    "myTree = f.Get(\"data\")\n",
    "#myTree.Print()\n",
    "myTree.Show(560)"
   ]
  },
  {
   "cell_type": "code",
   "execution_count": 7,
   "id": "0dde6c70",
   "metadata": {},
   "outputs": [
    {
     "name": "stdout",
     "output_type": "stream",
     "text": [
      "Ev 3 is processing... \r"
     ]
    },
    {
     "ename": "KeyboardInterrupt",
     "evalue": "",
     "output_type": "error",
     "traceback": [
      "\u001b[0;31m---------------------------------------------------------------------------\u001b[0m",
      "\u001b[0;31mKeyboardInterrupt\u001b[0m                         Traceback (most recent call last)",
      "\u001b[0;32m<ipython-input-7-1e71168098d4>\u001b[0m in \u001b[0;36m<module>\u001b[0;34m\u001b[0m\n\u001b[1;32m     12\u001b[0m         \u001b[0mdata\u001b[0m \u001b[0;34m=\u001b[0m \u001b[0marray\u001b[0m\u001b[0;34m(\u001b[0m\u001b[0;34m'i'\u001b[0m\u001b[0;34m)\u001b[0m\u001b[0;34m\u001b[0m\u001b[0;34m\u001b[0m\u001b[0m\n\u001b[1;32m     13\u001b[0m         \u001b[0;32mfor\u001b[0m \u001b[0mns\u001b[0m \u001b[0;32min\u001b[0m \u001b[0mrange\u001b[0m\u001b[0;34m(\u001b[0m\u001b[0mnumSa\u001b[0m\u001b[0;34m)\u001b[0m\u001b[0;34m:\u001b[0m\u001b[0;34m\u001b[0m\u001b[0;34m\u001b[0m\u001b[0m\n\u001b[0;32m---> 14\u001b[0;31m             \u001b[0mdata\u001b[0m\u001b[0;34m.\u001b[0m\u001b[0mappend\u001b[0m\u001b[0;34m(\u001b[0m\u001b[0mint\u001b[0m\u001b[0;34m(\u001b[0m\u001b[0mcro\u001b[0m\u001b[0;34m[\u001b[0m\u001b[0mns\u001b[0m\u001b[0;34m]\u001b[0m\u001b[0;34m)\u001b[0m\u001b[0;34m)\u001b[0m\u001b[0;34m;\u001b[0m\u001b[0;34m\u001b[0m\u001b[0;34m\u001b[0m\u001b[0m\n\u001b[0m\u001b[1;32m     15\u001b[0m         \u001b[0mev_signals_pos\u001b[0m \u001b[0;34m=\u001b[0m \u001b[0mfindSignals\u001b[0m\u001b[0;34m(\u001b[0m\u001b[0mdata\u001b[0m\u001b[0;34m,\u001b[0m \u001b[0mev\u001b[0m\u001b[0;34m=\u001b[0m\u001b[0mev\u001b[0m\u001b[0;34m,\u001b[0m \u001b[0mch\u001b[0m\u001b[0;34m=\u001b[0m\u001b[0mch\u001b[0m\u001b[0;34m,\u001b[0m \u001b[0mthr\u001b[0m\u001b[0;34m=\u001b[0m\u001b[0mthr\u001b[0m\u001b[0;34m,\u001b[0m \u001b[0mpad\u001b[0m\u001b[0;34m=\u001b[0m\u001b[0mpad\u001b[0m\u001b[0;34m,\u001b[0m \u001b[0mpol\u001b[0m\u001b[0;34m=\u001b[0m\u001b[0;36m1\u001b[0m\u001b[0;34m)\u001b[0m\u001b[0;34m\u001b[0m\u001b[0;34m\u001b[0m\u001b[0m\n\u001b[1;32m     16\u001b[0m         \u001b[0mev_signals_neg\u001b[0m \u001b[0;34m=\u001b[0m \u001b[0mfindSignals\u001b[0m\u001b[0;34m(\u001b[0m\u001b[0mdata\u001b[0m\u001b[0;34m,\u001b[0m \u001b[0mev\u001b[0m\u001b[0;34m=\u001b[0m\u001b[0mev\u001b[0m\u001b[0;34m,\u001b[0m \u001b[0mch\u001b[0m\u001b[0;34m=\u001b[0m\u001b[0mch\u001b[0m\u001b[0;34m,\u001b[0m \u001b[0mthr\u001b[0m\u001b[0;34m=\u001b[0m\u001b[0mthr\u001b[0m\u001b[0;34m,\u001b[0m \u001b[0mpad\u001b[0m\u001b[0;34m=\u001b[0m\u001b[0mpad\u001b[0m\u001b[0;34m,\u001b[0m \u001b[0mpol\u001b[0m\u001b[0;34m=\u001b[0m\u001b[0;34m-\u001b[0m\u001b[0;36m1\u001b[0m\u001b[0;34m)\u001b[0m\u001b[0;34m\u001b[0m\u001b[0;34m\u001b[0m\u001b[0m\n",
      "\u001b[0;31mKeyboardInterrupt\u001b[0m: "
     ]
    }
   ],
   "source": [
    "#loop over chs\n",
    "ro_signals = []\n",
    "for entry in myTree:\n",
    "    events = entry.events\n",
    "    numCh = events.getNumPayloads()\n",
    "    ev = events.getHeader().getEvtNum()\n",
    "    print(\"Ev {} is processing... \".format(ev), end='\\r')\n",
    "    for n in range(numCh):\n",
    "        ch = events.getPayloads().AddrAt(n).getCh()\n",
    "        cro = events.getPayloads().AddrAt(n).getCRO()\n",
    "        numSa = events.getPayloads().AddrAt(n).getNsaCRO()\n",
    "        data = array('i')\n",
    "        for ns in range(numSa): \n",
    "            data.append(int(cro[ns]));\n",
    "        ev_signals_pos = findSignals(data, ev=ev, ch=ch, thr=thr, pad=pad, pol=1)\n",
    "        ev_signals_neg = findSignals(data, ev=ev, ch=ch, thr=thr, pad=pad, pol=-1)\n",
    "        ro_signals.extend(ev_signals_pos)\n",
    "        ro_signals.extend(ev_signals_neg)\n",
    "\n",
    "with open(pick, \"wb\") as f:\n",
    "    pickle.dump(len(ro_signals), f)\n",
    "    for value in ro_signals:\n",
    "        pickle.dump(value, f)"
   ]
  },
  {
   "cell_type": "code",
   "execution_count": 35,
   "id": "52c2cca1",
   "metadata": {},
   "outputs": [
    {
     "name": "stdout",
     "output_type": "stream",
     "text": [
      "10252\n",
      "[138, 93, 217, 159, 157, 153, 160, 154, 188, 156, 482, 585, 406, 263, 156, 186, 157, 243, 248, 165, 404, 450, 154, 194, 678, 171, 164, 153, 151, 160, 164]\n"
     ]
    }
   ],
   "source": [
    "# read ju_signals\n",
    "ju_signals = []\n",
    "with open(pick, \"rb\") as f:\n",
    "    for _ in range(pickle.load(f)):\n",
    "        ju_signals.append(pickle.load(f))  \n",
    "print(len(ju_signals))\n",
    "\n",
    "#chs = [0,1,2,3,4,5,6,7,8,9,10,11,12,13,14,15,16,17,20,21,22,23,24,25,26,27,28,29,30,31]\n",
    "chs = range(32, 63)\n",
    "profiles = []\n",
    "anomalies = []\n",
    "chs_thr = []\n",
    "pol = 1; N = 120\n",
    "for ch in chs:  \n",
    "    profile = ROOT.TH2D(\"profile_\" + str(ch), \"profile_\" + str(ch), 2*pad, 0, 2*pad - 1, 4096, -2048, 2048);\n",
    "    for sig in ju_signals:\n",
    "        if(pol == sig.polarity and (sig.ch == ch)):\n",
    "            if(len(sig.pedestal) > 0 and len(sig.data) == 2*pad):\n",
    "                data = correctPedestal(sig.data, sig.pedestal)\n",
    "                for s in range(len(data)):\n",
    "                    profile.Fill(s, pol*data[s])\n",
    "    profiles.append(profile)\n",
    "    xmin = sys.float_info.max\n",
    "    xmax = sys.float_info.min\n",
    "    anomaly = ROOT.TH1D(\"anomaly_\" + str(ch), \"anomaly_\" + str(ch), 300, 1, -1);\n",
    "    for sig in ju_signals:\n",
    "        if(pol == sig.polarity and (sig.ch == ch)):\n",
    "            value = 0\n",
    "            for s in range(len(sig.data)):\n",
    "                if(sig.data[s] != 0):\n",
    "                    value += profile.GetBinContent(int(s), int(sig.data[s]) + 2048);\n",
    "            if(xmin > value):\n",
    "                xmin = value\n",
    "            if(xmax < value):\n",
    "                xmax = value\n",
    "            anomaly.Fill(value)\n",
    "            sig.unequal = value\n",
    "    anomalies.append(anomaly)\n",
    "    step = 1\n",
    "    for thr in range(int(xmin), int(xmax), step):\n",
    "        sig_N = 0;\n",
    "        for sig in ju_signals:\n",
    "            if(sig.unequal > thr and (sig.ch == ch)):\n",
    "                if(len(sig.pedestal) > 0 and len(sig.data) == 2*pad):\n",
    "                    sig_N += 1\n",
    "        print(\"ch={} n = {}\".format(ch, sig_N), end=\"\\r\")\n",
    "        if(sig_N < N):\n",
    "            chs_thr.append(thr - step)\n",
    "            break;\n",
    "print(chs_thr)"
   ]
  },
  {
   "cell_type": "code",
   "execution_count": 36,
   "id": "137b73d7",
   "metadata": {},
   "outputs": [
    {
     "name": "stdout",
     "output_type": "stream",
     "text": [
      "3735\n",
      "31.125\n",
      "31\n"
     ]
    },
    {
     "name": "stderr",
     "output_type": "stream",
     "text": [
      "Warning in <TROOT::Append>: Replacing existing TH1: filtered_profile_all (Potential memory leak).\n"
     ]
    }
   ],
   "source": [
    "# new profile of ch & average signal\n",
    "profile_all = ROOT.TH2D(\"filtered_profile_all\", \"filtered_profile_all\", 2*pad, 0, 2*pad - 1, 4096, -2048, 2048);\n",
    "profiles_f = []\n",
    "average_all = []\n",
    "average = []\n",
    "height = []\n",
    "for i in range(len(chs)):\n",
    "    h_sum = ROOT.TH1D(\"sum_\" + str(i), \"sum_\" + str(i), 30, 1, -1);\n",
    "    average.append(h_sum);\n",
    "    h_h = ROOT.TH1D(\"height_\" + str(i), \"height_\" + str(i), 30, 1, -1);\n",
    "    height.append(h_h);\n",
    "for i in range(2*pad):\n",
    "    average_all.append([]); \n",
    "sig_N = 0\n",
    "for i in range(len(chs)): \n",
    "    profile = ROOT.TH2D(\"filtered_profile_\" + str(chs[i]), \"filtered_profile_\" + str(chs[i]), 2*pad, 0, 2*pad - 1, 4096, -2048, 2048);\n",
    "    for sig in ju_signals:\n",
    "        if(sig.unequal > chs_thr[i] and sig.ch == chs[i]):\n",
    "            if(len(sig.pedestal) > 0 and len(sig.data) == 2*pad):\n",
    "                sig_N += 1\n",
    "                data = correctPedestal(sig.data, sig.pedestal)\n",
    "                average[i].Fill(sum(data));\n",
    "                peaks, _ = find_peaks(data, height=50)\n",
    "                if(len(peaks)):\n",
    "                    height[i].Fill(data[peaks[0]]);\n",
    "                for s in range(len(data)):\n",
    "                    average_all[s].append(data[s])\n",
    "                    profile.Fill(s, pol*data[s])\n",
    "                    profile_all.Fill(s, pol*data[s])\n",
    "                profiles_f.append(profile)\n",
    "print(sig_N)\n",
    "print(sig_N/120)\n",
    "print(len(chs))\n",
    "\n",
    "sig_avg = array('f'); sig_std = array('f')\n",
    "tick = array('f'); eTick = array('f')   \n",
    "\n",
    "for i in range(len(average_all)):\n",
    "    sig_avg.append(np.average(average_all[i]))\n",
    "    sig_std.append(np.std(average_all[i]))\n",
    "    tick.append(i)\n",
    "    eTick.append(0)\n",
    "    \n",
    "gr = ROOT.TGraphErrors( len(sig_avg), tick, sig_avg, eTick, sig_std )\n",
    "name = \"average\"; gr.SetTitle(name); gr.SetName(name)\n",
    "gr.GetXaxis().SetTitle(\"tick\"); gr.GetYaxis().SetTitle(\"ADCu\")\n",
    "\n",
    "d_sum = array('f'); d_sum_std = array('f')\n",
    "d_ch = array('f'); err = array('f')\n",
    "d_height = array('f'); d_height_std = array('f');\n",
    "\n",
    "for i in range(len(chs)):\n",
    "    d_sum.append(average[i].GetMean())\n",
    "    d_sum_std.append(average[i].GetRMS())\n",
    "    \n",
    "    d_height.append(height[i].GetMean())\n",
    "    d_height_std.append(height[i].GetRMS());\n",
    "    \n",
    "    d_ch.append(chs[i] -32)\n",
    "    err.append(0)\n",
    "    \n",
    "gr_h = ROOT.TGraphErrors( len(d_ch), d_ch, d_height, err, d_height_std )\n",
    "name = \"\"; gr_h.SetTitle(name); gr_h.SetName(name)\n",
    "gr_h.GetXaxis().SetTitle(\"chid\"); gr_h.GetYaxis().SetTitle(\"sum\")\n",
    "\n",
    "gr_sum = ROOT.TGraphErrors( len(d_ch), d_ch, d_sum, err, d_sum_std )\n",
    "name = \"\"; gr_sum.SetTitle(name); gr_sum.SetName(name)\n",
    "gr_sum.GetXaxis().SetTitle(\"chid\"); gr_sum.GetYaxis().SetTitle(\"height\")\n"
   ]
  },
  {
   "cell_type": "code",
   "execution_count": 18,
   "id": "6777c5ec",
   "metadata": {},
   "outputs": [
    {
     "name": "stdout",
     "output_type": "stream",
     "text": [
      "812.7102681361139\n",
      "80.35186767578125\n"
     ]
    }
   ],
   "source": [
    "print(sum(sig_avg))\n",
    "peaks, _ = find_peaks(sig_avg, height=50)\n",
    "print(sig_avg[peaks[0]])"
   ]
  },
  {
   "cell_type": "code",
   "execution_count": 37,
   "id": "ed1889b7",
   "metadata": {},
   "outputs": [
    {
     "name": "stdout",
     "output_type": "stream",
     "text": [
      "98.29661\n",
      "8.03783\n"
     ]
    }
   ],
   "source": [
    "print(np.mean(d_height))\n",
    "\n",
    "print(np.std(d_height))"
   ]
  },
  {
   "cell_type": "code",
   "execution_count": 1,
   "id": "b4f231e9",
   "metadata": {},
   "outputs": [
    {
     "ename": "NameError",
     "evalue": "name 'profile_all' is not defined",
     "output_type": "error",
     "traceback": [
      "\u001b[0;31m---------------------------------------------------------------------------\u001b[0m",
      "\u001b[0;31mNameError\u001b[0m                                 Traceback (most recent call last)",
      "\u001b[0;32m<ipython-input-1-66d9719ee18a>\u001b[0m in \u001b[0;36m<module>\u001b[0;34m\u001b[0m\n\u001b[0;32m----> 1\u001b[0;31m \u001b[0mplot\u001b[0m \u001b[0;34m=\u001b[0m \u001b[0mprofile_all\u001b[0m\u001b[0;34m.\u001b[0m\u001b[0mClone\u001b[0m\u001b[0;34m(\u001b[0m\u001b[0;34m)\u001b[0m\u001b[0;34m\u001b[0m\u001b[0;34m\u001b[0m\u001b[0m\n\u001b[0m\u001b[1;32m      2\u001b[0m \u001b[0;31m#plot = profiles_f[0].Clone()\u001b[0m\u001b[0;34m\u001b[0m\u001b[0;34m\u001b[0m\u001b[0;34m\u001b[0m\u001b[0m\n\u001b[1;32m      3\u001b[0m \u001b[0;31m#plot = anomaly.Clone()\u001b[0m\u001b[0;34m\u001b[0m\u001b[0;34m\u001b[0m\u001b[0;34m\u001b[0m\u001b[0m\n\u001b[1;32m      4\u001b[0m \u001b[0mpathToSave\u001b[0m \u001b[0;34m=\u001b[0m \u001b[0;34m\"/mnt/d/tmp/\"\u001b[0m\u001b[0;34m\u001b[0m\u001b[0;34m\u001b[0m\u001b[0m\n\u001b[1;32m      5\u001b[0m \u001b[0;31m#---\u001b[0m\u001b[0;34m\u001b[0m\u001b[0;34m\u001b[0m\u001b[0;34m\u001b[0m\u001b[0m\n",
      "\u001b[0;31mNameError\u001b[0m: name 'profile_all' is not defined"
     ]
    }
   ],
   "source": [
    "plot = profile_all.Clone()\n",
    "#plot = profiles_f[0].Clone()\n",
    "#plot = anomaly.Clone()\n",
    "pathToSave = \"/mnt/d/tmp/\"\n",
    "#---\n",
    "iPeriod = \"0\"; iPos=\"0\"\n",
    "#---\n",
    "gROOT.ProcessLine(\"cmsText = \\\"\\\";\")\n",
    "gROOT.ProcessLine(\"writeExtraText = true;\") # if extra text\n",
    "#gROOT.ProcessLine(\"writeExtraText = false;\") #remove Preliminary\n",
    "gROOT.ProcessLine(\"extraText  = \\\"\\\";\") # default extra text is \"Preliminary\"\n",
    "gROOT.ProcessLine(\"lumi_sqrtS = \\\" #bf{negative (thr:70ADCu)}  | not 2-4 & 18-19 | N(3240) = 3254 | run:601 12-05-21               \\\";\") \n",
    "\n",
    "\n",
    "plot.GetYaxis().SetRangeUser(-200, 200);\n",
    "\n",
    "#plot.SetMarkerColor(1); plot.SetMarkerStyle(20); plot.SetMarkerSize(0.2)\n",
    "plot.SetLineColor(1); plot.GetXaxis().SetTitle(\"tick\"); plot.GetYaxis().SetTitle(\"ADCu\")\n",
    "plot.SetFillStyle( 3001); plot.SetFillColor(4);\n",
    "\n",
    "\n",
    "cName = \"profile_filtered_neg_r602\"; cTitle = \"c\"; cX = 800; cY = 600\n",
    "c = ROOT.TCanvas(cName, cTitle, cX, cY)\n",
    "#c.SetGrid()\n",
    "#---\n",
    "\n",
    "p1 = ROOT.TPad(\"p1\", \"\", 0, 0, 1, 1);\n",
    "p1.SetGrid();\n",
    "\n",
    "# Draw the 1st TMultiGraph\n",
    "p1.SetBottomMargin(0.2)\n",
    "p1.SetRightMargin(0.15)\n",
    "p1.Draw();\n",
    "p1.cd();\n",
    "plot.Draw(\"colz\"); \n",
    "#line.Draw();\n",
    "#fit_s.Draw()\n",
    "cms_lumi_str = \"CMS_lumi(\"+cName+\", \"+iPeriod+\", \"+iPos+\");\"; gROOT.ProcessLine(cms_lumi_str)\n",
    "\n",
    "c.SaveAs(\"/mnt/d/\" + cName + \".svg\");\n",
    "c.SaveAs(\"/mnt/d/\" + cName + \".pdf\");\n",
    "plot.SaveAs(\"/mnt/d/\" + cName + \".root\");\n",
    "c.Draw()\n",
    "\n",
    "\n",
    "#--- "
   ]
  },
  {
   "cell_type": "code",
   "execution_count": 39,
   "id": "e0845f53",
   "metadata": {},
   "outputs": [
    {
     "name": "stdout",
     "output_type": "stream",
     "text": [
      " #bf{pos (thr:70ADCu) height (mean: 98.3 std: 8.0)} | chs = all | N (3840) = 3735 | run:602\n"
     ]
    },
    {
     "name": "stderr",
     "output_type": "stream",
     "text": [
      "Warning in <TCanvas::Constructor>: Deleting canvas with same name: height_pos_r602_same\n",
      "Info in <TCanvas::Print>: SVG file /mnt/d/height_pos_r602_same.svg has been created\n",
      "Info in <TCanvas::Print>: pdf file /mnt/d/height_pos_r602_same.pdf has been created\n",
      "Info in <TGraphErrors::SaveAs>: ROOT file /mnt/d/height_pos_r602_same.root has been created\n"
     ]
    },
    {
     "data": {
      "text/html": [
       "\n",
       "\n",
       "<div id=\"root_plot_1621844669406\"\n",
       "     style=\"width: 796px; height: 572px\">\n",
       "</div>\n",
       "<script>\n",
       "if (typeof require !== 'undefined') {\n",
       "\n",
       "    // We are in jupyter notebooks, use require.js which should be configured already\n",
       "    require(['scripts/JSRoot.core'],\n",
       "        function(Core) {\n",
       "           display_root_plot_1621844669406(Core);\n",
       "        }\n",
       "    );\n",
       "\n",
       "} else if (typeof JSROOT !== 'undefined') {\n",
       "\n",
       "   // JSROOT already loaded, just use it\n",
       "   display_root_plot_1621844669406(JSROOT);\n",
       "\n",
       "} else {\n",
       "\n",
       "    // We are in jupyterlab without require.js, directly loading jsroot\n",
       "    // Jupyterlab might be installed in a different base_url so we need to know it.\n",
       "    try {\n",
       "        var base_url = JSON.parse(document.getElementById('jupyter-config-data').innerHTML).baseUrl;\n",
       "    } catch(_) {\n",
       "        var base_url = '/';\n",
       "    }\n",
       "\n",
       "    // Try loading a local version of requirejs and fallback to cdn if not possible.\n",
       "    script_load(base_url + 'static/scripts/JSRoot.core.js', script_success, function(){\n",
       "        console.error('Fail to load JSROOT locally, please check your jupyter_notebook_config.py file')\n",
       "        script_load('https://root.cern/js/5.9.0/scripts/JSRootCore.min.js', script_success, function(){\n",
       "            document.getElementById(\"root_plot_1621844669406\").innerHTML = \"Failed to load JSROOT\";\n",
       "        });\n",
       "    });\n",
       "}\n",
       "\n",
       "function script_load(src, on_load, on_error) {\n",
       "    var script = document.createElement('script');\n",
       "    script.src = src;\n",
       "    script.onload = on_load;\n",
       "    script.onerror = on_error;\n",
       "    document.head.appendChild(script);\n",
       "}\n",
       "\n",
       "function script_success() {\n",
       "   display_root_plot_1621844669406(JSROOT);\n",
       "}\n",
       "\n",
       "function display_root_plot_1621844669406(Core) {\n",
       "   var obj = Core.parse({\"_typename\":\"TCanvas\",\"fUniqueID\":0,\"fBits\":3342344,\"fLineColor\":1,\"fLineStyle\":1,\"fLineWidth\":1,\"fFillColor\":0,\"fFillStyle\":1001,\"fLeftMargin\":0.16,\"fRightMargin\":0.02,\"fBottomMargin\":0.13,\"fTopMargin\":0.05,\"fXfile\":2,\"fYfile\":2,\"fAfile\":1,\"fXstat\":0.99,\"fYstat\":0.99,\"fAstat\":2,\"fFrameFillColor\":0,\"fFrameLineColor\":1,\"fFrameFillStyle\":0,\"fFrameLineStyle\":1,\"fFrameLineWidth\":1,\"fFrameBorderSize\":1,\"fFrameBorderMode\":0,\"fX1\":0,\"fY1\":0,\"fX2\":1,\"fY2\":1,\"fXtoAbsPixelk\":5e-5,\"fXtoPixelk\":5e-5,\"fXtoPixel\":796,\"fYtoAbsPixelk\":572.00005,\"fYtoPixelk\":572.00005,\"fYtoPixel\":-572,\"fUtoAbsPixelk\":5e-5,\"fUtoPixelk\":5e-5,\"fUtoPixel\":796,\"fVtoAbsPixelk\":572.00005,\"fVtoPixelk\":572,\"fVtoPixel\":-572,\"fAbsPixeltoXk\":0,\"fPixeltoXk\":0,\"fPixeltoX\":0.00125628140703518,\"fAbsPixeltoYk\":1,\"fPixeltoYk\":0,\"fPixeltoY\":-0.00174825174825175,\"fXlowNDC\":0,\"fYlowNDC\":0,\"fXUpNDC\":1,\"fYUpNDC\":1,\"fWNDC\":1,\"fHNDC\":1,\"fAbsXlowNDC\":0,\"fAbsYlowNDC\":0,\"fAbsWNDC\":1,\"fAbsHNDC\":1,\"fUxmin\":0,\"fUymin\":0,\"fUxmax\":1,\"fUymax\":1,\"fTheta\":30,\"fPhi\":30,\"fAspectRatio\":0,\"fNumber\":0,\"fTickx\":1,\"fTicky\":1,\"fLogx\":0,\"fLogy\":0,\"fLogz\":0,\"fPadPaint\":0,\"fCrosshair\":0,\"fCrosshairPos\":0,\"fBorderSize\":2,\"fBorderMode\":0,\"fModified\":false,\"fGridx\":false,\"fGridy\":false,\"fAbsCoord\":false,\"fEditable\":true,\"fFixedAspectRatio\":false,\"fPrimitives\":{\"_typename\":\"TList\",\"name\":\"TList\",\"arr\":[{\"_typename\":\"TPad\",\"fUniqueID\":0,\"fBits\":9,\"fLineColor\":1,\"fLineStyle\":1,\"fLineWidth\":1,\"fFillColor\":0,\"fFillStyle\":1001,\"fLeftMargin\":0.16,\"fRightMargin\":0.02,\"fBottomMargin\":0.2,\"fTopMargin\":0.05,\"fXfile\":2,\"fYfile\":2,\"fAfile\":1,\"fXstat\":0.99,\"fYstat\":0.99,\"fAstat\":2,\"fFrameFillColor\":0,\"fFrameLineColor\":1,\"fFrameFillStyle\":0,\"fFrameLineStyle\":1,\"fFrameLineWidth\":1,\"fFrameBorderSize\":1,\"fFrameBorderMode\":0,\"fX1\":-6.44707264272004,\"fY1\":-143.333334724108,\"fX2\":31.78463408034,\"fY2\":323.333333681027,\"fXtoAbsPixelk\":134.230777934251,\"fXtoPixelk\":134.230777934251,\"fXtoPixel\":20.8204149965369,\"fYtoAbsPixelk\":396.314334664073,\"fYtoPixelk\":396.314334664073,\"fYtoPixel\":-1.22571428114814,\"fUtoAbsPixelk\":5e-5,\"fUtoPixelk\":5e-5,\"fUtoPixel\":796,\"fVtoAbsPixelk\":572.00005,\"fVtoPixelk\":572,\"fVtoPixel\":-572,\"fAbsPixeltoXk\":-6.44707264272004,\"fPixeltoXk\":-6.44707264272004,\"fPixeltoX\":0.0480297823154021,\"fAbsPixeltoYk\":323.333333681027,\"fPixeltoYk\":-143.333334724108,\"fPixeltoY\":-0.815850818890097,\"fXlowNDC\":0,\"fYlowNDC\":0,\"fXUpNDC\":1,\"fYUpNDC\":1,\"fWNDC\":1,\"fHNDC\":1,\"fAbsXlowNDC\":0,\"fAbsYlowNDC\":0,\"fAbsWNDC\":1,\"fAbsHNDC\":1,\"fUxmin\":-0.33,\"fUymin\":-50,\"fUxmax\":31.02,\"fUymax\":300,\"fTheta\":30,\"fPhi\":30,\"fAspectRatio\":0,\"fNumber\":0,\"fTickx\":1,\"fTicky\":1,\"fLogx\":0,\"fLogy\":0,\"fLogz\":0,\"fPadPaint\":0,\"fCrosshair\":0,\"fCrosshairPos\":0,\"fBorderSize\":2,\"fBorderMode\":0,\"fModified\":false,\"fGridx\":true,\"fGridy\":true,\"fAbsCoord\":false,\"fEditable\":true,\"fFixedAspectRatio\":false,\"fPrimitives\":{\"_typename\":\"TList\",\"name\":\"TList\",\"arr\":[{\"_typename\":\"TFrame\",\"fUniqueID\":0,\"fBits\":8,\"fLineColor\":1,\"fLineStyle\":1,\"fLineWidth\":1,\"fFillColor\":0,\"fFillStyle\":0,\"fX1\":-0.33,\"fY1\":-50,\"fX2\":31.02,\"fY2\":300,\"fBorderSize\":1,\"fBorderMode\":0},{\"_typename\":\"TGraphErrors\",\"fUniqueID\":0,\"fBits\":1032,\"fName\":\"\",\"fTitle\":\"\",\"fLineColor\":1,\"fLineStyle\":1,\"fLineWidth\":1,\"fFillColor\":4,\"fFillStyle\":3001,\"fMarkerColor\":1,\"fMarkerStyle\":20,\"fMarkerSize\":0.5,\"fNpoints\":31,\"fX\":[0,1,2,3,4,5,6,7,8,9,10,11,12,13,14,15,16,17,18,19,20,21,22,23,24,25,26,27,28,29,30],\"fY\":[101.09733581543,105.728904724121,91.4052505493164,102.45304107666,98.1855010986328,99.1827926635742,98.7108001708984,102.70873260498,108.420539855957,104.428756713867,96.9007415771484,83.5625228881836,75.1915054321289,91.8513793945312,101.712898254395,101.879089355469,82.7101058959961,103.06241607666,104.174903869629,101.23136138916,85.2703094482422,85.980598449707,110.030784606934,105.397773742676,103.421401977539,99.5547332763672,99.2087783813477,101.193283081055,97.1392288208008,102.697624206543,102.7021484375],\"fFunctions\":{\"_typename\":\"TList\",\"name\":\"TList\",\"arr\":[],\"opt\":[]},\"fHistogram\":{\"_typename\":\"TH1F\",\"fUniqueID\":0,\"fBits\":512,\"fName\":\"Graph\",\"fTitle\":\"\",\"fLineColor\":1,\"fLineStyle\":0,\"fLineWidth\":1,\"fFillColor\":0,\"fFillStyle\":1001,\"fMarkerColor\":1,\"fMarkerStyle\":20,\"fMarkerSize\":1,\"fNcells\":102,\"fXaxis\":{\"_typename\":\"TAxis\",\"fUniqueID\":0,\"fBits\":2048,\"fName\":\"xaxis\",\"fTitle\":\"chid\",\"fNdivisions\":510,\"fAxisColor\":1,\"fLabelColor\":1,\"fLabelFont\":42,\"fLabelOffset\":0.007,\"fLabelSize\":0.05,\"fTickLength\":0.03,\"fTitleOffset\":0.9,\"fTitleSize\":0.06,\"fTitleColor\":1,\"fTitleFont\":42,\"fNbins\":100,\"fXmin\":0,\"fXmax\":33,\"fXbins\":[],\"fFirst\":0,\"fLast\":94,\"fBits2\":0,\"fTimeDisplay\":false,\"fTimeFormat\":\"\",\"fLabels\":null,\"fModLabs\":null},\"fYaxis\":{\"_typename\":\"TAxis\",\"fUniqueID\":0,\"fBits\":0,\"fName\":\"yaxis\",\"fTitle\":\"ADCu\",\"fNdivisions\":510,\"fAxisColor\":1,\"fLabelColor\":1,\"fLabelFont\":42,\"fLabelOffset\":0.007,\"fLabelSize\":0.05,\"fTickLength\":0.03,\"fTitleOffset\":1.25,\"fTitleSize\":0.06,\"fTitleColor\":1,\"fTitleFont\":42,\"fNbins\":1,\"fXmin\":43.7651912689209,\"fXmax\":144.499666976929,\"fXbins\":[],\"fFirst\":0,\"fLast\":0,\"fBits2\":0,\"fTimeDisplay\":false,\"fTimeFormat\":\"\",\"fLabels\":null,\"fModLabs\":null},\"fZaxis\":{\"_typename\":\"TAxis\",\"fUniqueID\":0,\"fBits\":0,\"fName\":\"zaxis\",\"fTitle\":\"\",\"fNdivisions\":510,\"fAxisColor\":1,\"fLabelColor\":1,\"fLabelFont\":42,\"fLabelOffset\":0.007,\"fLabelSize\":0.05,\"fTickLength\":0.03,\"fTitleOffset\":1,\"fTitleSize\":0.06,\"fTitleColor\":1,\"fTitleFont\":42,\"fNbins\":1,\"fXmin\":0,\"fXmax\":1,\"fXbins\":[],\"fFirst\":0,\"fLast\":0,\"fBits2\":0,\"fTimeDisplay\":false,\"fTimeFormat\":\"\",\"fLabels\":null,\"fModLabs\":null},\"fBarOffset\":0,\"fBarWidth\":1000,\"fEntries\":0,\"fTsumw\":0,\"fTsumw2\":0,\"fTsumwx\":0,\"fTsumwx2\":0,\"fMaximum\":300,\"fMinimum\":-50,\"fNormFactor\":0,\"fContour\":[],\"fSumw2\":[],\"fOption\":\"\",\"fFunctions\":{\"_typename\":\"TList\",\"name\":\"TList\",\"arr\":[],\"opt\":[]},\"fBufferSize\":0,\"fBuffer\":[],\"fBinStatErrOpt\":0,\"fStatOverflows\":2,\"fArray\":[0,0,0,0,0,0,0,0,0,0,0,0,0,0,0,0,0,0,0,0,0,0,0,0,0,0,0,0,0,0,0,0,0,0,0,0,0,0,0,0,0,0,0,0,0,0,0,0,0,0,0,0,0,0,0,0,0,0,0,0,0,0,0,0,0,0,0,0,0,0,0,0,0,0,0,0,0,0,0,0,0,0,0,0,0,0,0,0,0,0,0,0,0,0,0,0,0,0,0,0,0,0]},\"fMinimum\":-1111,\"fMaximum\":-1111,\"fEX\":[0,0,0,0,0,0,0,0,0,0,0,0,0,0,0,0,0,0,0,0,0,0,0,0,0,0,0,0,0,0,0],\"fEY\":[7.26183605194092,5.7129111289978,20.6451644897461,6.44278717041016,6.91702222824097,7.02639150619507,7.19823122024536,7.20244836807251,27.6845874786377,18.0407371520996,15.9792184829712,20.2570457458496,23.031774520874,22.7755069732666,10.5470151901245,8.02080154418945,7.70998525619507,6.88278913497925,11.9991426467896,11.610764503479,20.5402488708496,16.9419040679932,25.5027446746826,18.6945495605469,5.13089561462402,6.48709058761597,5.51916885375977,6.1306471824646,6.49206686019897,6.33668851852417,6.31541776657104]}],\"opt\":[\"\",\"ap\"]},\"fExecs\":{\"_typename\":\"TList\",\"name\":\"TList\",\"arr\":[],\"opt\":[]},\"fName\":\"p1\",\"fTitle\":\"\",\"fNumPaletteColor\":0,\"fNextPaletteColor\":0},{\"_typename\":\"TLatex\",\"fUniqueID\":0,\"fBits\":16393,\"fName\":\"\",\"fTitle\":\" #bf{pos (thr:70ADCu) height (mean: 98.3 std: 8.0)} | chs = all | N (3840) = 3735 | run:602\",\"fTextAngle\":0,\"fTextSize\":0.03,\"fTextAlign\":31,\"fTextColor\":1,\"fTextFont\":42,\"fX\":0.980000019073486,\"fY\":0.959999978542328,\"fLineColor\":1,\"fLineStyle\":1,\"fLineWidth\":2,\"fLimitFactorSize\":3,\"fOriginSize\":0.0300000011920929},{\"_typename\":\"TLatex\",\"fUniqueID\":0,\"fBits\":16393,\"fName\":\"\",\"fTitle\":\"\",\"fTextAngle\":0,\"fTextSize\":0.0375,\"fTextAlign\":11,\"fTextColor\":1,\"fTextFont\":61,\"fX\":0.159999996423721,\"fY\":0.959999978542328,\"fLineColor\":1,\"fLineStyle\":1,\"fLineWidth\":2,\"fLimitFactorSize\":3,\"fOriginSize\":0.04},{\"_typename\":\"TLatex\",\"fUniqueID\":0,\"fBits\":16393,\"fName\":\"\",\"fTitle\":\"\",\"fTextAngle\":0,\"fTextSize\":0.0285,\"fTextAlign\":11,\"fTextColor\":1,\"fTextFont\":52,\"fX\":0.196899995207787,\"fY\":0.959999978542328,\"fLineColor\":1,\"fLineStyle\":1,\"fLineWidth\":2,\"fLimitFactorSize\":3,\"fOriginSize\":0.04},{\"_typename\":\"TStyle\",\"fUniqueID\":0,\"fBits\":0,\"fName\":\"tdrStyle\",\"fTitle\":\"Style for P-TDR\",\"fLineColor\":1,\"fLineStyle\":1,\"fLineWidth\":1,\"fFillColor\":19,\"fFillStyle\":1001,\"fMarkerColor\":1,\"fMarkerStyle\":20,\"fMarkerSize\":1,\"fTextAngle\":0,\"fTextSize\":0.05,\"fTextAlign\":11,\"fTextColor\":1,\"fTextFont\":62,\"fXaxis\":{\"_typename\":\"TAttAxis\",\"fNdivisions\":510,\"fAxisColor\":1,\"fLabelColor\":1,\"fLabelFont\":42,\"fLabelOffset\":0.007,\"fLabelSize\":0.05,\"fTickLength\":0.03,\"fTitleOffset\":0.9,\"fTitleSize\":0.06,\"fTitleColor\":1,\"fTitleFont\":42},\"fYaxis\":{\"_typename\":\"TAttAxis\",\"fNdivisions\":510,\"fAxisColor\":1,\"fLabelColor\":1,\"fLabelFont\":42,\"fLabelOffset\":0.007,\"fLabelSize\":0.05,\"fTickLength\":0.03,\"fTitleOffset\":1.25,\"fTitleSize\":0.06,\"fTitleColor\":1,\"fTitleFont\":42},\"fZaxis\":{\"_typename\":\"TAttAxis\",\"fNdivisions\":510,\"fAxisColor\":1,\"fLabelColor\":1,\"fLabelFont\":42,\"fLabelOffset\":0.007,\"fLabelSize\":0.05,\"fTickLength\":0.03,\"fTitleOffset\":1,\"fTitleSize\":0.06,\"fTitleColor\":1,\"fTitleFont\":42},\"fBarWidth\":1,\"fBarOffset\":0,\"fColorModelPS\":0,\"fDrawBorder\":0,\"fOptLogx\":0,\"fOptLogy\":0,\"fOptLogz\":0,\"fOptDate\":0,\"fOptStat\":0,\"fOptTitle\":0,\"fOptFile\":0,\"fOptFit\":0,\"fShowEventStatus\":0,\"fShowEditor\":0,\"fShowToolBar\":0,\"fNumberContours\":20,\"fAttDate\":{\"_typename\":\"TAttText\",\"fTextAngle\":0,\"fTextSize\":0.025,\"fTextAlign\":11,\"fTextColor\":1,\"fTextFont\":62},\"fDateX\":0.01,\"fDateY\":0.01,\"fEndErrorSize\":2,\"fErrorX\":0.5,\"fFuncColor\":2,\"fFuncStyle\":1,\"fFuncWidth\":1,\"fGridColor\":0,\"fGridStyle\":3,\"fGridWidth\":1,\"fLegendBorderSize\":4,\"fLegendFillColor\":0,\"fLegendFont\":62,\"fLegendTextSize\":0,\"fHatchesLineWidth\":5,\"fHatchesSpacing\":0.1,\"fFrameFillColor\":0,\"fFrameLineColor\":1,\"fFrameFillStyle\":0,\"fFrameLineStyle\":1,\"fFrameLineWidth\":1,\"fFrameBorderSize\":1,\"fFrameBorderMode\":0,\"fHistFillColor\":0,\"fHistLineColor\":1,\"fHistFillStyle\":1001,\"fHistLineStyle\":0,\"fHistLineWidth\":1,\"fHistMinimumZero\":false,\"fHistTopMargin\":0.05,\"fCanvasPreferGL\":false,\"fCanvasColor\":0,\"fCanvasBorderSize\":2,\"fCanvasBorderMode\":0,\"fCanvasDefH\":600,\"fCanvasDefW\":600,\"fCanvasDefX\":0,\"fCanvasDefY\":0,\"fPadColor\":0,\"fPadBorderSize\":2,\"fPadBorderMode\":0,\"fPadBottomMargin\":0.13,\"fPadTopMargin\":0.05,\"fPadLeftMargin\":0.16,\"fPadRightMargin\":0.02,\"fPadGridX\":false,\"fPadGridY\":false,\"fPadTickX\":1,\"fPadTickY\":1,\"fPaperSizeX\":20,\"fPaperSizeY\":20,\"fScreenFactor\":1,\"fStatColor\":0,\"fStatTextColor\":1,\"fStatBorderSize\":1,\"fStatFont\":42,\"fStatFontSize\":0.025,\"fStatStyle\":1001,\"fStatFormat\":\"6.4g\",\"fStatX\":0.98,\"fStatY\":0.995,\"fStatW\":0.15,\"fStatH\":0.1,\"fStripDecimals\":true,\"fTitleAlign\":13,\"fTitleColor\":10,\"fTitleTextColor\":1,\"fTitleBorderSize\":2,\"fTitleFont\":62,\"fTitleFontSize\":0.05,\"fTitleStyle\":1001,\"fTitleX\":0.01,\"fTitleY\":0.995,\"fTitleW\":0,\"fTitleH\":0,\"fLegoInnerR\":0.5,\"fLineStyle\":[\"\",\"  \",\" 12 12\",\" 4 8\",\" 12 16 4 16\",\" 20 12 4 12\",\" 20 12 4 12 4 12 4 12\",\" 20 20\",\" 20 12 4 12 4 12\",\" 80 20\",\" 80 40 4 40\",\"  \",\"  \",\"  \",\"  \",\"  \",\"  \",\"  \",\"  \",\"  \",\"  \",\"  \",\"  \",\"  \",\"  \",\"  \",\"  \",\"  \",\"  \",\"  \"],\"fHeaderPS\":\"\",\"fTitlePS\":\"\",\"fFitFormat\":\"5.4g\",\"fPaintTextFormat\":\"g\",\"fLineScalePS\":3,\"fJoinLinePS\":0,\"fCapLinePS\":0,\"fTimeOffset\":788918400,\"fImageScaling\":1}],\"opt\":[\"\",\"\",\"\",\"\",\"\"]},\"fExecs\":null,\"fName\":\"height_pos_r602_same\",\"fTitle\":\"c\",\"fNumPaletteColor\":0,\"fNextPaletteColor\":0,\"fDISPLAY\":\"$DISPLAY\",\"fDoubleBuffer\":0,\"fRetained\":true,\"fXsizeUser\":0,\"fYsizeUser\":0,\"fXsizeReal\":20,\"fYsizeReal\":15,\"fWindowTopX\":0,\"fWindowTopY\":0,\"fWindowWidth\":0,\"fWindowHeight\":0,\"fCw\":796,\"fCh\":572,\"fCatt\":{\"_typename\":\"TAttCanvas\",\"fXBetween\":2,\"fYBetween\":2,\"fTitleFromTop\":1.2,\"fXdate\":0.2,\"fYdate\":0.3,\"fAdate\":1},\"kMoveOpaque\":true,\"kResizeOpaque\":true,\"fHighLightColor\":2,\"fBatch\":true,\"kShowEventStatus\":false,\"kAutoExec\":true,\"kMenuBar\":true});\n",
       "   Core.settings.HandleKeys = false;\n",
       "   Core.draw(\"root_plot_1621844669406\", obj, \"\");\n",
       "}\n",
       "</script>\n"
      ],
      "text/plain": [
       "<IPython.core.display.HTML object>"
      ]
     },
     "metadata": {},
     "output_type": "display_data"
    }
   ],
   "source": [
    "plot = gr.Clone()\n",
    "plot = gr_h.Clone()\n",
    "#plot = gr_sum.Clone()\n",
    "\n",
    "pathToSave = \"/mnt/d/tmp/\"\n",
    "#---\n",
    "iPeriod = \"0\"; iPos=\"0\"\n",
    "#---\n",
    "gROOT.ProcessLine(\"cmsText = \\\"\\\";\")\n",
    "gROOT.ProcessLine(\"writeExtraText = true;\") # if extra text\n",
    "#gROOT.ProcessLine(\"writeExtraText = false;\") #remove Preliminary\n",
    "gROOT.ProcessLine(\"extraText  = \\\"\\\";\") # default extra text is \"Preliminary\"\n",
    "gROOT.ProcessLine(\"lumi_sqrtS = \\\" #bf{pos (thr:70ADCu) height (mean: 98.3 std: 8.0)} | chs = all | N (3840) = 3735 | run:602\\\";\") \n",
    "\n",
    "plot.SetMarkerColor(1); plot.SetMarkerStyle(20); plot.SetMarkerSize(0.5)\n",
    "plot.SetLineColor(1); plot.GetXaxisк().SetTitle(\"chid\"); plot.GetYaxis().SetTitle(\"ADCu\")\n",
    "plot.SetFillStyle( 3001); plot.SetFillColor(4);\n",
    "\n",
    "plot.GetYaxis().SetRangeUser(-50, 300);\n",
    "plot.GetXaxis().SetRangeUser(-1, 31);\n",
    "\n",
    "cName = \"height_pos_r602_same\"; cTitle = \"c\"; cX = 800; cY = 600\n",
    "c = ROOT.TCanvas(cName, cTitle, cX, cY)\n",
    "#c.SetGrid()\n",
    "#---\n",
    "\n",
    "p1 = ROOT.TPad(\"p1\", \"\", 0, 0, 1, 1);\n",
    "p1.SetGrid();\n",
    "\n",
    "# Draw the 1st TMultiGraph\n",
    "p1.SetBottomMargin(0.2)\n",
    "#p1.SetRightMargin(0.15)\n",
    "p1.Draw();\n",
    "p1.cd();\n",
    "plot.Draw(\"AP\"); \n",
    "#line.Draw();\n",
    "#fit_s.Draw()\n",
    "cms_lumi_str = \"CMS_lumi(\"+cName+\", \"+iPeriod+\", \"+iPos+\");\"; gROOT.ProcessLine(cms_lumi_str)\n",
    "\n",
    "c.SaveAs(\"/mnt/d/\" + cName + \".svg\");\n",
    "c.SaveAs(\"/mnt/d/\" + cName + \".pdf\");\n",
    "plot.SaveAs(\"/mnt/d/\" + cName + \".root\");\n",
    "c.Draw()\n",
    "\n",
    "\n",
    "#--- "
   ]
  },
  {
   "cell_type": "code",
   "execution_count": null,
   "id": "1db6950e",
   "metadata": {},
   "outputs": [],
   "source": []
  }
 ],
 "metadata": {
  "kernelspec": {
   "display_name": "Python 3",
   "language": "python",
   "name": "python3"
  },
  "language_info": {
   "codemirror_mode": {
    "name": "ipython",
    "version": 3
   },
   "file_extension": ".py",
   "mimetype": "text/x-python",
   "name": "python",
   "nbconvert_exporter": "python",
   "pygments_lexer": "ipython3",
   "version": "3.9.2"
  }
 },
 "nbformat": 4,
 "nbformat_minor": 5
}
